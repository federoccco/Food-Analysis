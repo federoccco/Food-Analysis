{
 "cells": [
  {
   "cell_type": "markdown",
   "id": "f7a185b8-c2b0-4844-8c8a-b480f1e99482",
   "metadata": {
    "tags": []
   },
   "source": [
    "# Discovery"
   ]
  },
  {
   "cell_type": "markdown",
   "id": "306a6783-15a3-4082-b16c-4c6ab6770449",
   "metadata": {
    "tags": []
   },
   "source": [
    "By now, world population is in constant increase. The more the people, the more the food we need that translate in an increase of use of natural resources.\n",
    "\n",
    "\n",
    "But which are the product we produce that exploit most resources? Which countries contribute to the exploitation of natural resources?"
   ]
  },
  {
   "cell_type": "markdown",
   "id": "efb91031-d4a6-4d6c-b34b-2db184e2cf8d",
   "metadata": {
    "tags": []
   },
   "source": [
    "**Goal**: Discovering which are the top 10 products that use more water, need more land and emit more gas. Then discovering which countries are the most producer of each category\n"
   ]
  },
  {
   "cell_type": "markdown",
   "id": "c0bf9804-d604-442d-ac42-b69fb1758191",
   "metadata": {
    "tags": []
   },
   "source": [
    "# Data Selection"
   ]
  },
  {
   "cell_type": "code",
   "execution_count": null,
   "id": "ba615e1b-349f-4845-b63f-69ac8c188aae",
   "metadata": {
    "tags": []
   },
   "outputs": [],
   "source": [
    "import pandas as pd\n",
    "import numpy as np\n",
    "import sidetable as stb\n"
   ]
  },
  {
   "cell_type": "code",
   "execution_count": null,
   "id": "aec7fb0d-b3e8-43a9-9e65-f2ac9f4a0dc8",
   "metadata": {},
   "outputs": [],
   "source": [
    "pd.set_option('display.max_rows', 100)\n",
    "pd.set_option('display.max_columns', 100)\n",
    "pd.options.display.max_colwidth = 100\n",
    "\n"
   ]
  },
  {
   "cell_type": "code",
   "execution_count": null,
   "id": "4a678d91-e1e3-47ac-b248-abd20c921a68",
   "metadata": {
    "tags": []
   },
   "outputs": [],
   "source": [
    "fao_df = pd.read_csv('FAO.csv', encoding='latin-1')\n",
    "food_pr_df = pd.read_csv('Food_Production.csv')"
   ]
  },
  {
   "cell_type": "markdown",
   "id": "f4f125d9-8984-401c-a96b-f6d9d7125c2c",
   "metadata": {},
   "source": [
    "# Data Cleaning"
   ]
  },
  {
   "cell_type": "markdown",
   "id": "13c730b1-82b7-4c33-b670-17258cf653a7",
   "metadata": {},
   "source": [
    "### FAO Data"
   ]
  },
  {
   "cell_type": "code",
   "execution_count": null,
   "id": "a8713cd7-ed7d-4389-907f-ab3d57e1ea0f",
   "metadata": {
    "tags": []
   },
   "outputs": [],
   "source": [
    "fao_df.head()"
   ]
  },
  {
   "cell_type": "code",
   "execution_count": null,
   "id": "699e2ae4-f0f5-4505-9473-17fda82bf52e",
   "metadata": {
    "tags": []
   },
   "outputs": [],
   "source": [
    "fao_df.shape"
   ]
  },
  {
   "cell_type": "markdown",
   "id": "7e31fd2a-0bf2-4119-bb85-6982cdb2edb2",
   "metadata": {},
   "source": [
    "### Checking columns dtypes"
   ]
  },
  {
   "cell_type": "code",
   "execution_count": null,
   "id": "ece73024-27b0-42c2-928c-4c16767e4118",
   "metadata": {
    "tags": []
   },
   "outputs": [],
   "source": [
    "for col in fao_df.columns:\n",
    "    print(f'{col :<25}{fao_df[col].dtypes}', end='\\n\\n')"
   ]
  },
  {
   "cell_type": "markdown",
   "id": "f7382ea6-3268-4355-ae6a-92bcc9afa3e0",
   "metadata": {},
   "source": [
    "changing *Y2012* and *Y2013* data type from int to float"
   ]
  },
  {
   "cell_type": "code",
   "execution_count": null,
   "id": "6a0b965d-8e6a-4fe5-be20-3c9105a17f80",
   "metadata": {
    "tags": []
   },
   "outputs": [],
   "source": [
    "fao_df[['Y2012', 'Y2013']] = fao_df[['Y2012', 'Y2013']].astype(float)"
   ]
  },
  {
   "cell_type": "markdown",
   "id": "179dcefe-b754-414f-b221-550470efe3d4",
   "metadata": {},
   "source": [
    "### Checking column names and eventually fixing them"
   ]
  },
  {
   "cell_type": "code",
   "execution_count": null,
   "id": "fda170e7-d051-43f6-9a25-e08411a81a42",
   "metadata": {
    "tags": []
   },
   "outputs": [],
   "source": [
    "fao_df.columns"
   ]
  },
  {
   "cell_type": "code",
   "execution_count": null,
   "id": "a0cf4137-af9e-4273-a431-838bf8ada4cb",
   "metadata": {
    "tags": []
   },
   "outputs": [],
   "source": [
    "fao_df.rename(columns={n:n[1:] for n in fao_df.columns if 'Y' in n}, inplace=True) "
   ]
  },
  {
   "cell_type": "markdown",
   "id": "db6ddac9-fab6-4ff2-82bc-f5975aa56c0b",
   "metadata": {},
   "source": [
    "### Checking for duplicates"
   ]
  },
  {
   "cell_type": "code",
   "execution_count": null,
   "id": "5b01f0eb",
   "metadata": {},
   "outputs": [],
   "source": [
    "print(f'Number of rows before dropping duplicates: {fao_df.shape[0] :>6}')\n",
    "fao_df.drop_duplicates(keep='first')\n",
    "print(f'Number of rows after dropping duplicates: {fao_df.shape[0] :>7}')"
   ]
  },
  {
   "cell_type": "markdown",
   "id": "74c1c240",
   "metadata": {},
   "source": [
    "Counting the number of rows before checking for duplicates, and after, i can see there are no duplicates\n"
   ]
  },
  {
   "cell_type": "markdown",
   "id": "dbecc911-4e6f-4173-bea0-f1a01443c7b0",
   "metadata": {},
   "source": [
    "### Checking qualitative columns values"
   ]
  },
  {
   "cell_type": "code",
   "execution_count": null,
   "id": "db90975a",
   "metadata": {},
   "outputs": [],
   "source": [
    "years = fao_df.columns[fao_df.columns.get_loc('1961'):]\n",
    "fao_df.stb.counts(exclude=['number'])"
   ]
  },
  {
   "cell_type": "code",
   "execution_count": null,
   "id": "3d8c402b-9c39-4bee-86ea-057cbc2222b5",
   "metadata": {
    "tags": []
   },
   "outputs": [],
   "source": [
    "to_check = ['Area', 'Area Abbreviation', 'Item']\n",
    "for col in to_check:\n",
    "    print(f'{col}\\n{sorted(fao_df[col].unique())}', end=f'\\n{\"-\"*100}\\n')"
   ]
  },
  {
   "cell_type": "markdown",
   "id": "3f27ed52-69d4-433c-9d19-223d6ac63172",
   "metadata": {},
   "source": [
    " *Area Abbreviation* and the *Area* count do not match. Let's investigate why"
   ]
  },
  {
   "cell_type": "code",
   "execution_count": null,
   "id": "5317928f-a894-46c5-9819-fb886ce347be",
   "metadata": {
    "tags": []
   },
   "outputs": [],
   "source": [
    "# checking if there are more than 1 country with the same area code\n",
    "a_code_unique = fao_df.groupby('Area Abbreviation')['Area'].nunique()\n",
    "a_code_unique[a_code_unique > 1]"
   ]
  },
  {
   "cell_type": "markdown",
   "id": "bf715aba-035f-438b-91de-1f0d6b1e062f",
   "metadata": {},
   "source": [
    "As suspected, 3 *Area Abbreviation* are associated with more than 1 country. Let's find out which countries fall under the same code"
   ]
  },
  {
   "cell_type": "code",
   "execution_count": null,
   "id": "c9f2605f-880e-4836-bd0b-77bcf0ff8f14",
   "metadata": {
    "tags": []
   },
   "outputs": [],
   "source": [
    "cond = fao_df['Area Abbreviation'].isin(['AZE', 'THA', 'CHN'])\n",
    "fao_df.loc[cond].groupby('Area Abbreviation')['Area'].unique()"
   ]
  },
  {
   "cell_type": "markdown",
   "id": "2349ed5c-d783-47c0-94fe-e234abdb11be",
   "metadata": {},
   "source": [
    "The result of the investigation evidenciate that *Bahamas* and *The former Yugoslav Republic of Macedonia* fall under the wrong *Area abbreviation* code.\n",
    "Since we don't need that column, we can stop here and just drop it\n"
   ]
  },
  {
   "cell_type": "markdown",
   "id": "530f3325-5b31-4688-83d5-e75d6c7a9459",
   "metadata": {},
   "source": [
    "#### Dropping unecessary columns"
   ]
  },
  {
   "cell_type": "code",
   "execution_count": null,
   "id": "436708ea-ba01-4a8b-bd77-9ca52745a33d",
   "metadata": {
    "tags": []
   },
   "outputs": [],
   "source": [
    "fao_df.drop(columns=['Area Abbreviation', 'Area Code', 'Item Code', 'Element Code', 'Unit'], inplace=True)"
   ]
  },
  {
   "cell_type": "markdown",
   "id": "5fa00560-8762-4fc6-b6db-f21c113ae84f",
   "metadata": {},
   "source": [
    "#### Fixing Area column values"
   ]
  },
  {
   "cell_type": "markdown",
   "id": "985947c6-01a7-4910-95b0-0d80dbaf91a7",
   "metadata": {},
   "source": [
    "After a close look, some of the Area names are not correct. let's correct them:"
   ]
  },
  {
   "cell_type": "code",
   "execution_count": null,
   "id": "47b45ad5-860e-49f6-ac23-a9f66fd2cc5b",
   "metadata": {
    "tags": []
   },
   "outputs": [],
   "source": [
    "Rename_area = {'Bolivia (Plurinational State of)':'Bolivia',\n",
    "                      'Cabo Verde':'Cape Verde',\n",
    "                      'China, mainland':'China',\n",
    "                      'China, Hong Kong SAR':'Hong Kong',\n",
    "                      'China, Macao SAR':'Macao',\n",
    "                      'China, Taiwan Province of':'Taiwan',\n",
    "                      'Czechia':'Czech Republic',\n",
    "                      \"Democratic People's Republic of Korea\":'North Korea',\n",
    "                      'Iran (Islamic Republic of)':'Iran',\n",
    "                      'Republic of Korea':'South Korea',\n",
    "                      'The former Yugoslav Republic of Macedonia':'Macedonia',\n",
    "                      'Venezuela (Bolivarian Republic of)':'Venezuela',\n",
    "                      }\n",
    "\n",
    "fao_df['Area'].rename(Rename_area , inplace=True)"
   ]
  },
  {
   "cell_type": "markdown",
   "id": "04a87cf9-54b9-40a5-b988-e57c65ef37fc",
   "metadata": {},
   "source": [
    "#### Checking latitude and longitude values"
   ]
  },
  {
   "cell_type": "markdown",
   "id": "22b435bb-420b-4d93-95bd-664635739dfc",
   "metadata": {},
   "source": [
    "Let's check if latitude and longitude contains some non valide values. Latitude ranges from -90 to 90,  longitude ranges from -180 to 180"
   ]
  },
  {
   "cell_type": "code",
   "execution_count": null,
   "id": "b7674054-c68d-48aa-ba55-2d454354a273",
   "metadata": {},
   "outputs": [],
   "source": [
    "fao_df[['longitude', 'latitude']].agg([min, max])"
   ]
  },
  {
   "cell_type": "markdown",
   "id": "19e91643-19e5-4ce9-83dd-f371e607c156",
   "metadata": {},
   "source": [
    "Both max and min of latitude and longitude fall under the accepted range"
   ]
  },
  {
   "cell_type": "markdown",
   "id": "c51370b7-2771-4d49-9bef-674b5473f173",
   "metadata": {},
   "source": [
    "#### Checking if there are some invalid values in the *Years* columns"
   ]
  },
  {
   "cell_type": "markdown",
   "id": "f995097d-755a-4ae2-be27-97be4b2a8061",
   "metadata": {},
   "source": [
    "Let's check if are there any negative numbers in production"
   ]
  },
  {
   "cell_type": "code",
   "execution_count": null,
   "id": "600f612f-78e7-42c1-9e83-87bceb330e29",
   "metadata": {},
   "outputs": [],
   "source": [
    "cond = fao_df.loc[:,'1961':'2013'].agg([min])\n",
    "cond.T[cond.T['min'] < 0]"
   ]
  },
  {
   "cell_type": "markdown",
   "id": "f561fabb-da83-47de-9be4-c063d68c3f2b",
   "metadata": {},
   "source": [
    "Now let's investigate which country has a negative amount of production for which *Item* and *Element* (food or feed)"
   ]
  },
  {
   "cell_type": "code",
   "execution_count": null,
   "id": "101a182e-160d-42d7-9fa2-f74aead6f097",
   "metadata": {
    "tags": []
   },
   "outputs": [],
   "source": [
    "fao_df.loc[fao_df[['2013', '2012']].idxmin().unique(), ['Area', 'Item', 'Element']]"
   ]
  },
  {
   "cell_type": "markdown",
   "id": "bc59f787-9678-4dc6-9a96-5b798bacc37c",
   "metadata": {},
   "source": [
    "negative number in production must be an error of input, just drop the entire row"
   ]
  },
  {
   "cell_type": "code",
   "execution_count": null,
   "id": "39c4dc01-60b7-4cbe-8fef-b027383d0446",
   "metadata": {},
   "outputs": [],
   "source": [
    "fao_df.drop(labels=10082, inplace=True)"
   ]
  },
  {
   "cell_type": "markdown",
   "id": "297567cf-2ade-4953-a04b-797117212f59",
   "metadata": {},
   "source": [
    "#### Checking for missing values"
   ]
  },
  {
   "cell_type": "code",
   "execution_count": null,
   "id": "83be4b50-3262-4361-bd4f-8334b8e45c37",
   "metadata": {
    "tags": []
   },
   "outputs": [],
   "source": [
    "fao_df.stb.missing(clip_0=True, style=True)"
   ]
  },
  {
   "cell_type": "markdown",
   "id": "2e4dd527",
   "metadata": {},
   "source": [
    "First let's drop all the rows that contain all NaN values, if there are any"
   ]
  },
  {
   "cell_type": "code",
   "execution_count": null,
   "id": "59c7e6b9",
   "metadata": {},
   "outputs": [],
   "source": [
    "fao_df = fao_df.dropna(how='all')"
   ]
  },
  {
   "cell_type": "markdown",
   "id": "d21e4e13",
   "metadata": {},
   "source": [
    "Now let's fill all the remaining NaN values with 0"
   ]
  },
  {
   "cell_type": "code",
   "execution_count": null,
   "id": "ac259b28",
   "metadata": {},
   "outputs": [],
   "source": [
    "fao_df.fillna(0, inplace=True)"
   ]
  },
  {
   "cell_type": "markdown",
   "id": "2948a729",
   "metadata": {},
   "source": [
    "Lastly we drop all the rows that has only 0 values"
   ]
  },
  {
   "cell_type": "code",
   "execution_count": null,
   "id": "8c278e56",
   "metadata": {},
   "outputs": [],
   "source": [
    "fao_df = fao_df.loc[(fao_df != 0).any(axis=1)]\n",
    "fao_df"
   ]
  },
  {
   "cell_type": "markdown",
   "id": "b92ec100-4055-43f5-a56a-d4240cec3322",
   "metadata": {},
   "source": [
    "# Data Exploration"
   ]
  },
  {
   "cell_type": "code",
   "execution_count": null,
   "id": "5628b15f-61e1-4b06-8d30-ac347f5c3e7c",
   "metadata": {},
   "outputs": [],
   "source": []
  },
  {
   "cell_type": "code",
   "execution_count": null,
   "id": "fbdc8c04-7001-4023-bf61-b127cdfb3662",
   "metadata": {},
   "outputs": [],
   "source": []
  },
  {
   "cell_type": "markdown",
   "id": "1873d2db-fc4d-46fd-9c4f-79b40e0d89cc",
   "metadata": {},
   "source": [
    "# Data Transformation"
   ]
  },
  {
   "cell_type": "code",
   "execution_count": null,
   "id": "1b61a159-d3f8-43db-bdde-d96311cb2d93",
   "metadata": {},
   "outputs": [],
   "source": []
  },
  {
   "cell_type": "code",
   "execution_count": null,
   "id": "0875a051-a401-4f0e-b2c5-35efe329ed59",
   "metadata": {},
   "outputs": [],
   "source": []
  },
  {
   "cell_type": "markdown",
   "id": "e0d0501d-6041-4d54-b65a-db0f89db5fe8",
   "metadata": {},
   "source": [
    "# Data Visualization"
   ]
  },
  {
   "cell_type": "code",
   "execution_count": null,
   "id": "51d5145a-c3ae-4bac-879b-b97988445818",
   "metadata": {},
   "outputs": [],
   "source": []
  },
  {
   "cell_type": "code",
   "execution_count": null,
   "id": "573f5b66-36c6-49ba-b49f-b7cb2b155288",
   "metadata": {},
   "outputs": [],
   "source": [
    "# cond = fao_df['Element'] == 'Feed'\n",
    "# cond2 = fao_df['Element'] == 'Food'\n",
    "\n",
    "# feed = fao_df.loc[cond, 'Item']\n",
    "# food = fao_df.loc[cond2, 'Item']\n",
    "\n",
    "# differences = np.setdiff1d(food, feed)\n",
    "# for n, i in enumerate(differences):\n",
    "#     print(f'{n}{i :>30}')"
   ]
  }
 ],
 "metadata": {
  "interpreter": {
   "hash": "439271dc3f168a0ce2055a4353efd4df0f31329f275977c8192fe016291bd4f5"
  },
  "kernelspec": {
   "display_name": "Python 3.9.7 ('base')",
   "language": "python",
   "name": "python3"
  },
  "language_info": {
   "codemirror_mode": {
    "name": "ipython",
    "version": 3
   },
   "file_extension": ".py",
   "mimetype": "text/x-python",
   "name": "python",
   "nbconvert_exporter": "python",
   "pygments_lexer": "ipython3",
   "version": "3.9.7"
  }
 },
 "nbformat": 4,
 "nbformat_minor": 5
}
