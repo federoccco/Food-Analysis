{
 "cells": [
  {
   "cell_type": "markdown",
   "id": "f7a185b8-c2b0-4844-8c8a-b480f1e99482",
   "metadata": {
    "tags": []
   },
   "source": [
    "# Discovery"
   ]
  },
  {
   "cell_type": "markdown",
   "id": "306a6783-15a3-4082-b16c-4c6ab6770449",
   "metadata": {
    "tags": []
   },
   "source": [
    "By now, world population is in constant increase. The more the people, the more the food we need that translate in an increase of use of natural resources.\n",
    "\n",
    "\n",
    "But which are the product we produce that exploit most resources? Which countries contribute to the exploitation of natural resources?"
   ]
  },
  {
   "cell_type": "markdown",
   "id": "efb91031-d4a6-4d6c-b34b-2db184e2cf8d",
   "metadata": {
    "tags": []
   },
   "source": [
    "**Goal**: Discovering which are the top 10 products that use more water, need more land and emit more gas. Then discovering which countries are the most producer of each category\n"
   ]
  },
  {
   "cell_type": "markdown",
   "id": "c0bf9804-d604-442d-ac42-b69fb1758191",
   "metadata": {
    "tags": []
   },
   "source": [
    "# Data Selection"
   ]
  },
  {
   "cell_type": "code",
   "execution_count": 1,
   "id": "ba615e1b-349f-4845-b63f-69ac8c188aae",
   "metadata": {
    "tags": []
   },
   "outputs": [],
   "source": [
    "import pandas as pd\n",
    "import numpy as np"
   ]
  },
  {
   "cell_type": "code",
   "execution_count": 2,
   "id": "aec7fb0d-b3e8-43a9-9e65-f2ac9f4a0dc8",
   "metadata": {},
   "outputs": [],
   "source": [
    "pd.set_option('display.max_rows', 100)\n",
    "pd.set_option('display.max_columns', 100)\n",
    "pd.options.display.max_colwidth = 100\n",
    "\n"
   ]
  },
  {
   "cell_type": "code",
   "execution_count": 3,
   "id": "4a678d91-e1e3-47ac-b248-abd20c921a68",
   "metadata": {
    "tags": []
   },
   "outputs": [],
   "source": [
    "fao_df = pd.read_csv('FAO.csv', encoding='latin-1')\n",
    "food_pr_df = pd.read_csv('Food_Production.csv')"
   ]
  },
  {
   "cell_type": "markdown",
   "id": "f4f125d9-8984-401c-a96b-f6d9d7125c2c",
   "metadata": {},
   "source": [
    "# Data Cleaning"
   ]
  },
  {
   "cell_type": "markdown",
   "id": "13c730b1-82b7-4c33-b670-17258cf653a7",
   "metadata": {},
   "source": [
    "### FAO Data"
   ]
  },
  {
   "cell_type": "code",
   "execution_count": 9,
   "id": "a8713cd7-ed7d-4389-907f-ab3d57e1ea0f",
   "metadata": {
    "tags": []
   },
   "outputs": [
    {
     "data": {
      "text/html": [
       "<div>\n",
       "<style scoped>\n",
       "    .dataframe tbody tr th:only-of-type {\n",
       "        vertical-align: middle;\n",
       "    }\n",
       "\n",
       "    .dataframe tbody tr th {\n",
       "        vertical-align: top;\n",
       "    }\n",
       "\n",
       "    .dataframe thead th {\n",
       "        text-align: right;\n",
       "    }\n",
       "</style>\n",
       "<table border=\"1\" class=\"dataframe\">\n",
       "  <thead>\n",
       "    <tr style=\"text-align: right;\">\n",
       "      <th></th>\n",
       "      <th>Area Abbreviation</th>\n",
       "      <th>Area Code</th>\n",
       "      <th>Area</th>\n",
       "      <th>Item Code</th>\n",
       "      <th>Item</th>\n",
       "      <th>Element Code</th>\n",
       "      <th>Element</th>\n",
       "      <th>Unit</th>\n",
       "      <th>latitude</th>\n",
       "      <th>longitude</th>\n",
       "      <th>Y1961</th>\n",
       "      <th>Y1962</th>\n",
       "      <th>Y1963</th>\n",
       "      <th>Y1964</th>\n",
       "      <th>Y1965</th>\n",
       "      <th>Y1966</th>\n",
       "      <th>Y1967</th>\n",
       "      <th>Y1968</th>\n",
       "      <th>Y1969</th>\n",
       "      <th>Y1970</th>\n",
       "      <th>Y1971</th>\n",
       "      <th>Y1972</th>\n",
       "      <th>Y1973</th>\n",
       "      <th>Y1974</th>\n",
       "      <th>Y1975</th>\n",
       "      <th>Y1976</th>\n",
       "      <th>Y1977</th>\n",
       "      <th>Y1978</th>\n",
       "      <th>Y1979</th>\n",
       "      <th>Y1980</th>\n",
       "      <th>Y1981</th>\n",
       "      <th>Y1982</th>\n",
       "      <th>Y1983</th>\n",
       "      <th>Y1984</th>\n",
       "      <th>Y1985</th>\n",
       "      <th>Y1986</th>\n",
       "      <th>Y1987</th>\n",
       "      <th>Y1988</th>\n",
       "      <th>Y1989</th>\n",
       "      <th>Y1990</th>\n",
       "      <th>Y1991</th>\n",
       "      <th>Y1992</th>\n",
       "      <th>Y1993</th>\n",
       "      <th>Y1994</th>\n",
       "      <th>Y1995</th>\n",
       "      <th>Y1996</th>\n",
       "      <th>Y1997</th>\n",
       "      <th>Y1998</th>\n",
       "      <th>Y1999</th>\n",
       "      <th>Y2000</th>\n",
       "      <th>Y2001</th>\n",
       "      <th>Y2002</th>\n",
       "      <th>Y2003</th>\n",
       "      <th>Y2004</th>\n",
       "      <th>Y2005</th>\n",
       "      <th>Y2006</th>\n",
       "      <th>Y2007</th>\n",
       "      <th>Y2008</th>\n",
       "      <th>Y2009</th>\n",
       "      <th>Y2010</th>\n",
       "      <th>Y2011</th>\n",
       "      <th>Y2012</th>\n",
       "      <th>Y2013</th>\n",
       "    </tr>\n",
       "  </thead>\n",
       "  <tbody>\n",
       "    <tr>\n",
       "      <th>0</th>\n",
       "      <td>AFG</td>\n",
       "      <td>2</td>\n",
       "      <td>Afghanistan</td>\n",
       "      <td>2511</td>\n",
       "      <td>Wheat and products</td>\n",
       "      <td>5142</td>\n",
       "      <td>Food</td>\n",
       "      <td>1000 tonnes</td>\n",
       "      <td>33.94</td>\n",
       "      <td>67.71</td>\n",
       "      <td>1928.0</td>\n",
       "      <td>1904.0</td>\n",
       "      <td>1666.0</td>\n",
       "      <td>1950.0</td>\n",
       "      <td>2001.0</td>\n",
       "      <td>1808.0</td>\n",
       "      <td>2053.0</td>\n",
       "      <td>2045.0</td>\n",
       "      <td>2154.0</td>\n",
       "      <td>1819.0</td>\n",
       "      <td>1963.0</td>\n",
       "      <td>2215.0</td>\n",
       "      <td>2310.0</td>\n",
       "      <td>2335.0</td>\n",
       "      <td>2434.0</td>\n",
       "      <td>2512.0</td>\n",
       "      <td>2282.0</td>\n",
       "      <td>2454.0</td>\n",
       "      <td>2443.0</td>\n",
       "      <td>2129.0</td>\n",
       "      <td>2133.0</td>\n",
       "      <td>2068.0</td>\n",
       "      <td>1994.0</td>\n",
       "      <td>1851.0</td>\n",
       "      <td>1791.0</td>\n",
       "      <td>1683.0</td>\n",
       "      <td>2194.0</td>\n",
       "      <td>1801.0</td>\n",
       "      <td>1754.0</td>\n",
       "      <td>1640.0</td>\n",
       "      <td>1539.0</td>\n",
       "      <td>1582.0</td>\n",
       "      <td>1840.0</td>\n",
       "      <td>1855.0</td>\n",
       "      <td>1853.0</td>\n",
       "      <td>2177.0</td>\n",
       "      <td>2343.0</td>\n",
       "      <td>2407.0</td>\n",
       "      <td>2463.0</td>\n",
       "      <td>2600.0</td>\n",
       "      <td>2668.0</td>\n",
       "      <td>2776.0</td>\n",
       "      <td>3095.0</td>\n",
       "      <td>3249.0</td>\n",
       "      <td>3486.0</td>\n",
       "      <td>3704.0</td>\n",
       "      <td>4164.0</td>\n",
       "      <td>4252.0</td>\n",
       "      <td>4538.0</td>\n",
       "      <td>4605.0</td>\n",
       "      <td>4711.0</td>\n",
       "      <td>4810</td>\n",
       "      <td>4895</td>\n",
       "    </tr>\n",
       "    <tr>\n",
       "      <th>1</th>\n",
       "      <td>AFG</td>\n",
       "      <td>2</td>\n",
       "      <td>Afghanistan</td>\n",
       "      <td>2805</td>\n",
       "      <td>Rice (Milled Equivalent)</td>\n",
       "      <td>5142</td>\n",
       "      <td>Food</td>\n",
       "      <td>1000 tonnes</td>\n",
       "      <td>33.94</td>\n",
       "      <td>67.71</td>\n",
       "      <td>183.0</td>\n",
       "      <td>183.0</td>\n",
       "      <td>182.0</td>\n",
       "      <td>220.0</td>\n",
       "      <td>220.0</td>\n",
       "      <td>195.0</td>\n",
       "      <td>231.0</td>\n",
       "      <td>235.0</td>\n",
       "      <td>238.0</td>\n",
       "      <td>213.0</td>\n",
       "      <td>205.0</td>\n",
       "      <td>233.0</td>\n",
       "      <td>246.0</td>\n",
       "      <td>246.0</td>\n",
       "      <td>255.0</td>\n",
       "      <td>263.0</td>\n",
       "      <td>235.0</td>\n",
       "      <td>254.0</td>\n",
       "      <td>270.0</td>\n",
       "      <td>259.0</td>\n",
       "      <td>248.0</td>\n",
       "      <td>217.0</td>\n",
       "      <td>217.0</td>\n",
       "      <td>197.0</td>\n",
       "      <td>186.0</td>\n",
       "      <td>200.0</td>\n",
       "      <td>193.0</td>\n",
       "      <td>202.0</td>\n",
       "      <td>191.0</td>\n",
       "      <td>199.0</td>\n",
       "      <td>197.0</td>\n",
       "      <td>249.0</td>\n",
       "      <td>218.0</td>\n",
       "      <td>260.0</td>\n",
       "      <td>319.0</td>\n",
       "      <td>254.0</td>\n",
       "      <td>326.0</td>\n",
       "      <td>347.0</td>\n",
       "      <td>270.0</td>\n",
       "      <td>372.0</td>\n",
       "      <td>411.0</td>\n",
       "      <td>448.0</td>\n",
       "      <td>460.0</td>\n",
       "      <td>419.0</td>\n",
       "      <td>445.0</td>\n",
       "      <td>546.0</td>\n",
       "      <td>455.0</td>\n",
       "      <td>490.0</td>\n",
       "      <td>415.0</td>\n",
       "      <td>442.0</td>\n",
       "      <td>476.0</td>\n",
       "      <td>425</td>\n",
       "      <td>422</td>\n",
       "    </tr>\n",
       "    <tr>\n",
       "      <th>2</th>\n",
       "      <td>AFG</td>\n",
       "      <td>2</td>\n",
       "      <td>Afghanistan</td>\n",
       "      <td>2513</td>\n",
       "      <td>Barley and products</td>\n",
       "      <td>5521</td>\n",
       "      <td>Feed</td>\n",
       "      <td>1000 tonnes</td>\n",
       "      <td>33.94</td>\n",
       "      <td>67.71</td>\n",
       "      <td>76.0</td>\n",
       "      <td>76.0</td>\n",
       "      <td>76.0</td>\n",
       "      <td>76.0</td>\n",
       "      <td>76.0</td>\n",
       "      <td>75.0</td>\n",
       "      <td>71.0</td>\n",
       "      <td>72.0</td>\n",
       "      <td>73.0</td>\n",
       "      <td>74.0</td>\n",
       "      <td>71.0</td>\n",
       "      <td>70.0</td>\n",
       "      <td>72.0</td>\n",
       "      <td>76.0</td>\n",
       "      <td>77.0</td>\n",
       "      <td>80.0</td>\n",
       "      <td>60.0</td>\n",
       "      <td>65.0</td>\n",
       "      <td>64.0</td>\n",
       "      <td>64.0</td>\n",
       "      <td>60.0</td>\n",
       "      <td>55.0</td>\n",
       "      <td>53.0</td>\n",
       "      <td>51.0</td>\n",
       "      <td>48.0</td>\n",
       "      <td>46.0</td>\n",
       "      <td>46.0</td>\n",
       "      <td>47.0</td>\n",
       "      <td>46.0</td>\n",
       "      <td>43.0</td>\n",
       "      <td>43.0</td>\n",
       "      <td>40.0</td>\n",
       "      <td>50.0</td>\n",
       "      <td>46.0</td>\n",
       "      <td>41.0</td>\n",
       "      <td>44.0</td>\n",
       "      <td>50.0</td>\n",
       "      <td>48.0</td>\n",
       "      <td>43.0</td>\n",
       "      <td>26.0</td>\n",
       "      <td>29.0</td>\n",
       "      <td>70.0</td>\n",
       "      <td>48.0</td>\n",
       "      <td>58.0</td>\n",
       "      <td>236.0</td>\n",
       "      <td>262.0</td>\n",
       "      <td>263.0</td>\n",
       "      <td>230.0</td>\n",
       "      <td>379.0</td>\n",
       "      <td>315.0</td>\n",
       "      <td>203.0</td>\n",
       "      <td>367</td>\n",
       "      <td>360</td>\n",
       "    </tr>\n",
       "    <tr>\n",
       "      <th>3</th>\n",
       "      <td>AFG</td>\n",
       "      <td>2</td>\n",
       "      <td>Afghanistan</td>\n",
       "      <td>2513</td>\n",
       "      <td>Barley and products</td>\n",
       "      <td>5142</td>\n",
       "      <td>Food</td>\n",
       "      <td>1000 tonnes</td>\n",
       "      <td>33.94</td>\n",
       "      <td>67.71</td>\n",
       "      <td>237.0</td>\n",
       "      <td>237.0</td>\n",
       "      <td>237.0</td>\n",
       "      <td>238.0</td>\n",
       "      <td>238.0</td>\n",
       "      <td>237.0</td>\n",
       "      <td>225.0</td>\n",
       "      <td>227.0</td>\n",
       "      <td>230.0</td>\n",
       "      <td>234.0</td>\n",
       "      <td>223.0</td>\n",
       "      <td>219.0</td>\n",
       "      <td>225.0</td>\n",
       "      <td>240.0</td>\n",
       "      <td>244.0</td>\n",
       "      <td>255.0</td>\n",
       "      <td>185.0</td>\n",
       "      <td>203.0</td>\n",
       "      <td>198.0</td>\n",
       "      <td>202.0</td>\n",
       "      <td>189.0</td>\n",
       "      <td>174.0</td>\n",
       "      <td>167.0</td>\n",
       "      <td>160.0</td>\n",
       "      <td>151.0</td>\n",
       "      <td>145.0</td>\n",
       "      <td>145.0</td>\n",
       "      <td>148.0</td>\n",
       "      <td>145.0</td>\n",
       "      <td>135.0</td>\n",
       "      <td>132.0</td>\n",
       "      <td>120.0</td>\n",
       "      <td>155.0</td>\n",
       "      <td>143.0</td>\n",
       "      <td>125.0</td>\n",
       "      <td>138.0</td>\n",
       "      <td>159.0</td>\n",
       "      <td>154.0</td>\n",
       "      <td>141.0</td>\n",
       "      <td>84.0</td>\n",
       "      <td>83.0</td>\n",
       "      <td>122.0</td>\n",
       "      <td>144.0</td>\n",
       "      <td>185.0</td>\n",
       "      <td>43.0</td>\n",
       "      <td>44.0</td>\n",
       "      <td>48.0</td>\n",
       "      <td>62.0</td>\n",
       "      <td>55.0</td>\n",
       "      <td>60.0</td>\n",
       "      <td>72.0</td>\n",
       "      <td>78</td>\n",
       "      <td>89</td>\n",
       "    </tr>\n",
       "    <tr>\n",
       "      <th>4</th>\n",
       "      <td>AFG</td>\n",
       "      <td>2</td>\n",
       "      <td>Afghanistan</td>\n",
       "      <td>2514</td>\n",
       "      <td>Maize and products</td>\n",
       "      <td>5521</td>\n",
       "      <td>Feed</td>\n",
       "      <td>1000 tonnes</td>\n",
       "      <td>33.94</td>\n",
       "      <td>67.71</td>\n",
       "      <td>210.0</td>\n",
       "      <td>210.0</td>\n",
       "      <td>214.0</td>\n",
       "      <td>216.0</td>\n",
       "      <td>216.0</td>\n",
       "      <td>216.0</td>\n",
       "      <td>235.0</td>\n",
       "      <td>232.0</td>\n",
       "      <td>236.0</td>\n",
       "      <td>200.0</td>\n",
       "      <td>201.0</td>\n",
       "      <td>216.0</td>\n",
       "      <td>228.0</td>\n",
       "      <td>231.0</td>\n",
       "      <td>234.0</td>\n",
       "      <td>240.0</td>\n",
       "      <td>228.0</td>\n",
       "      <td>234.0</td>\n",
       "      <td>228.0</td>\n",
       "      <td>226.0</td>\n",
       "      <td>210.0</td>\n",
       "      <td>199.0</td>\n",
       "      <td>192.0</td>\n",
       "      <td>182.0</td>\n",
       "      <td>173.0</td>\n",
       "      <td>170.0</td>\n",
       "      <td>154.0</td>\n",
       "      <td>148.0</td>\n",
       "      <td>137.0</td>\n",
       "      <td>144.0</td>\n",
       "      <td>126.0</td>\n",
       "      <td>90.0</td>\n",
       "      <td>141.0</td>\n",
       "      <td>150.0</td>\n",
       "      <td>159.0</td>\n",
       "      <td>108.0</td>\n",
       "      <td>90.0</td>\n",
       "      <td>99.0</td>\n",
       "      <td>72.0</td>\n",
       "      <td>35.0</td>\n",
       "      <td>48.0</td>\n",
       "      <td>89.0</td>\n",
       "      <td>63.0</td>\n",
       "      <td>120.0</td>\n",
       "      <td>208.0</td>\n",
       "      <td>233.0</td>\n",
       "      <td>249.0</td>\n",
       "      <td>247.0</td>\n",
       "      <td>195.0</td>\n",
       "      <td>178.0</td>\n",
       "      <td>191.0</td>\n",
       "      <td>200</td>\n",
       "      <td>200</td>\n",
       "    </tr>\n",
       "  </tbody>\n",
       "</table>\n",
       "</div>"
      ],
      "text/plain": [
       "  Area Abbreviation  Area Code         Area  Item Code  \\\n",
       "0               AFG          2  Afghanistan       2511   \n",
       "1               AFG          2  Afghanistan       2805   \n",
       "2               AFG          2  Afghanistan       2513   \n",
       "3               AFG          2  Afghanistan       2513   \n",
       "4               AFG          2  Afghanistan       2514   \n",
       "\n",
       "                       Item  Element Code Element         Unit  latitude  \\\n",
       "0        Wheat and products          5142    Food  1000 tonnes     33.94   \n",
       "1  Rice (Milled Equivalent)          5142    Food  1000 tonnes     33.94   \n",
       "2       Barley and products          5521    Feed  1000 tonnes     33.94   \n",
       "3       Barley and products          5142    Food  1000 tonnes     33.94   \n",
       "4        Maize and products          5521    Feed  1000 tonnes     33.94   \n",
       "\n",
       "   longitude   Y1961   Y1962   Y1963   Y1964   Y1965   Y1966   Y1967   Y1968  \\\n",
       "0      67.71  1928.0  1904.0  1666.0  1950.0  2001.0  1808.0  2053.0  2045.0   \n",
       "1      67.71   183.0   183.0   182.0   220.0   220.0   195.0   231.0   235.0   \n",
       "2      67.71    76.0    76.0    76.0    76.0    76.0    75.0    71.0    72.0   \n",
       "3      67.71   237.0   237.0   237.0   238.0   238.0   237.0   225.0   227.0   \n",
       "4      67.71   210.0   210.0   214.0   216.0   216.0   216.0   235.0   232.0   \n",
       "\n",
       "    Y1969   Y1970   Y1971   Y1972   Y1973   Y1974   Y1975   Y1976   Y1977  \\\n",
       "0  2154.0  1819.0  1963.0  2215.0  2310.0  2335.0  2434.0  2512.0  2282.0   \n",
       "1   238.0   213.0   205.0   233.0   246.0   246.0   255.0   263.0   235.0   \n",
       "2    73.0    74.0    71.0    70.0    72.0    76.0    77.0    80.0    60.0   \n",
       "3   230.0   234.0   223.0   219.0   225.0   240.0   244.0   255.0   185.0   \n",
       "4   236.0   200.0   201.0   216.0   228.0   231.0   234.0   240.0   228.0   \n",
       "\n",
       "    Y1978   Y1979   Y1980   Y1981   Y1982   Y1983   Y1984   Y1985   Y1986  \\\n",
       "0  2454.0  2443.0  2129.0  2133.0  2068.0  1994.0  1851.0  1791.0  1683.0   \n",
       "1   254.0   270.0   259.0   248.0   217.0   217.0   197.0   186.0   200.0   \n",
       "2    65.0    64.0    64.0    60.0    55.0    53.0    51.0    48.0    46.0   \n",
       "3   203.0   198.0   202.0   189.0   174.0   167.0   160.0   151.0   145.0   \n",
       "4   234.0   228.0   226.0   210.0   199.0   192.0   182.0   173.0   170.0   \n",
       "\n",
       "    Y1987   Y1988   Y1989   Y1990   Y1991   Y1992   Y1993   Y1994   Y1995  \\\n",
       "0  2194.0  1801.0  1754.0  1640.0  1539.0  1582.0  1840.0  1855.0  1853.0   \n",
       "1   193.0   202.0   191.0   199.0   197.0   249.0   218.0   260.0   319.0   \n",
       "2    46.0    47.0    46.0    43.0    43.0    40.0    50.0    46.0    41.0   \n",
       "3   145.0   148.0   145.0   135.0   132.0   120.0   155.0   143.0   125.0   \n",
       "4   154.0   148.0   137.0   144.0   126.0    90.0   141.0   150.0   159.0   \n",
       "\n",
       "    Y1996   Y1997   Y1998   Y1999   Y2000   Y2001   Y2002   Y2003   Y2004  \\\n",
       "0  2177.0  2343.0  2407.0  2463.0  2600.0  2668.0  2776.0  3095.0  3249.0   \n",
       "1   254.0   326.0   347.0   270.0   372.0   411.0   448.0   460.0   419.0   \n",
       "2    44.0    50.0    48.0    43.0    26.0    29.0    70.0    48.0    58.0   \n",
       "3   138.0   159.0   154.0   141.0    84.0    83.0   122.0   144.0   185.0   \n",
       "4   108.0    90.0    99.0    72.0    35.0    48.0    89.0    63.0   120.0   \n",
       "\n",
       "    Y2005   Y2006   Y2007   Y2008   Y2009   Y2010   Y2011  Y2012  Y2013  \n",
       "0  3486.0  3704.0  4164.0  4252.0  4538.0  4605.0  4711.0   4810   4895  \n",
       "1   445.0   546.0   455.0   490.0   415.0   442.0   476.0    425    422  \n",
       "2   236.0   262.0   263.0   230.0   379.0   315.0   203.0    367    360  \n",
       "3    43.0    44.0    48.0    62.0    55.0    60.0    72.0     78     89  \n",
       "4   208.0   233.0   249.0   247.0   195.0   178.0   191.0    200    200  "
      ]
     },
     "execution_count": 9,
     "metadata": {},
     "output_type": "execute_result"
    }
   ],
   "source": [
    "fao_df.head()"
   ]
  },
  {
   "cell_type": "code",
   "execution_count": null,
   "id": "699e2ae4-f0f5-4505-9473-17fda82bf52e",
   "metadata": {
    "tags": []
   },
   "outputs": [],
   "source": [
    "fao_df.shape"
   ]
  },
  {
   "cell_type": "markdown",
   "id": "7e31fd2a-0bf2-4119-bb85-6982cdb2edb2",
   "metadata": {},
   "source": [
    "#### Checking columns dtypes"
   ]
  },
  {
   "cell_type": "code",
   "execution_count": null,
   "id": "ece73024-27b0-42c2-928c-4c16767e4118",
   "metadata": {
    "tags": []
   },
   "outputs": [],
   "source": [
    "for col in fao_df.columns:\n",
    "    print(f'{col :<25}{fao_df[col].dtypes}', end='\\n\\n')"
   ]
  },
  {
   "cell_type": "markdown",
   "id": "f7382ea6-3268-4355-ae6a-92bcc9afa3e0",
   "metadata": {},
   "source": [
    "changing *Y2012* and *Y2013* data type from int to float"
   ]
  },
  {
   "cell_type": "code",
   "execution_count": 51,
   "id": "6a0b965d-8e6a-4fe5-be20-3c9105a17f80",
   "metadata": {
    "tags": []
   },
   "outputs": [],
   "source": [
    "fao_df[['Y2012', 'Y2013']] = fao_df[['Y2012', 'Y2013']].astype(float)"
   ]
  },
  {
   "cell_type": "markdown",
   "id": "179dcefe-b754-414f-b221-550470efe3d4",
   "metadata": {},
   "source": [
    "#### Checking column names and eventually fixing them"
   ]
  },
  {
   "cell_type": "code",
   "execution_count": 54,
   "id": "fda170e7-d051-43f6-9a25-e08411a81a42",
   "metadata": {
    "tags": []
   },
   "outputs": [
    {
     "data": {
      "text/plain": [
       "Index(['Area Abbreviation', 'Area Code', 'Area', 'Item Code', 'Item',\n",
       "       'Element Code', 'Element', 'Unit', 'latitude', 'longitude', 'Y1961',\n",
       "       'Y1962', 'Y1963', 'Y1964', 'Y1965', 'Y1966', 'Y1967', 'Y1968', 'Y1969',\n",
       "       'Y1970', 'Y1971', 'Y1972', 'Y1973', 'Y1974', 'Y1975', 'Y1976', 'Y1977',\n",
       "       'Y1978', 'Y1979', 'Y1980', 'Y1981', 'Y1982', 'Y1983', 'Y1984', 'Y1985',\n",
       "       'Y1986', 'Y1987', 'Y1988', 'Y1989', 'Y1990', 'Y1991', 'Y1992', 'Y1993',\n",
       "       'Y1994', 'Y1995', 'Y1996', 'Y1997', 'Y1998', 'Y1999', 'Y2000', 'Y2001',\n",
       "       'Y2002', 'Y2003', 'Y2004', 'Y2005', 'Y2006', 'Y2007', 'Y2008', 'Y2009',\n",
       "       'Y2010', 'Y2011', 'Y2012', 'Y2013'],\n",
       "      dtype='object')"
      ]
     },
     "execution_count": 54,
     "metadata": {},
     "output_type": "execute_result"
    }
   ],
   "source": [
    "fao_df.columns"
   ]
  },
  {
   "cell_type": "code",
   "execution_count": 55,
   "id": "a0cf4137-af9e-4273-a431-838bf8ada4cb",
   "metadata": {
    "tags": []
   },
   "outputs": [],
   "source": [
    "fao_df.rename(columns={n:n[1:] for n in fao_df.columns if 'Y' in n}, inplace=True) "
   ]
  },
  {
   "cell_type": "markdown",
   "id": "dbecc911-4e6f-4173-bea0-f1a01443c7b0",
   "metadata": {},
   "source": [
    "#### Checking qualitative columns values"
   ]
  },
  {
   "cell_type": "code",
   "execution_count": null,
   "id": "3d8c402b-9c39-4bee-86ea-057cbc2222b5",
   "metadata": {
    "tags": []
   },
   "outputs": [],
   "source": [
    "for col in fao_df.columns: \n",
    "    if fao_df[col].dtypes == \"O\" or col == 'Area Code':\n",
    "        var_unique = fao_df[col].unique()\n",
    "        var_unique.sort()\n",
    "        var_n = fao_df[col].nunique()\n",
    "        print(f'{col}\\n\\n{var_unique}\\n\\ncount: {var_n}', end=f'\\n\\n\\n{\"-\"*100}\\n\\n\\n')"
   ]
  },
  {
   "cell_type": "markdown",
   "id": "3f27ed52-69d4-433c-9d19-223d6ac63172",
   "metadata": {},
   "source": [
    " *Area Abbreviation* and the *Area* count do not match. Let's investigate why"
   ]
  },
  {
   "cell_type": "code",
   "execution_count": null,
   "id": "5317928f-a894-46c5-9819-fb886ce347be",
   "metadata": {
    "tags": []
   },
   "outputs": [],
   "source": [
    "# checking if there are more than 1 country with the same area code\n",
    "a_code_unique = fao_df.groupby('Area Abbreviation')['Area'].nunique()\n",
    "a_code_unique[a_code_unique > 1]"
   ]
  },
  {
   "cell_type": "markdown",
   "id": "bf715aba-035f-438b-91de-1f0d6b1e062f",
   "metadata": {},
   "source": [
    "As suspected, 3 *Area Abbreviation* are associated with more than 1 country. Let's find out which countries fall under the same code"
   ]
  },
  {
   "cell_type": "code",
   "execution_count": null,
   "id": "c9f2605f-880e-4836-bd0b-77bcf0ff8f14",
   "metadata": {
    "tags": []
   },
   "outputs": [],
   "source": [
    "cond = fao_df['Area Abbreviation'].isin(['AZE', 'THA', 'CHN'])\n",
    "fao_df.loc[cond].groupby('Area Abbreviation')['Area'].unique()"
   ]
  },
  {
   "cell_type": "markdown",
   "id": "2349ed5c-d783-47c0-94fe-e234abdb11be",
   "metadata": {},
   "source": [
    "The result of the investigation evidenciate that *Bahamas* and *The former Yugoslav Republic of Macedonia* fall under the wrong *Area abbreviation* code.\n",
    "Since we don't need that column, we can stop here and just drop it\n"
   ]
  },
  {
   "cell_type": "markdown",
   "id": "530f3325-5b31-4688-83d5-e75d6c7a9459",
   "metadata": {},
   "source": [
    "#### Dropping unecessary columns"
   ]
  },
  {
   "cell_type": "code",
   "execution_count": 85,
   "id": "436708ea-ba01-4a8b-bd77-9ca52745a33d",
   "metadata": {
    "tags": []
   },
   "outputs": [],
   "source": [
    "fao_df.drop(columns=['Area Abbreviation', 'Area Code', 'Item Code', 'Element Code', 'Unit'], inplace=True)"
   ]
  },
  {
   "cell_type": "markdown",
   "id": "5fa00560-8762-4fc6-b6db-f21c113ae84f",
   "metadata": {},
   "source": [
    "#### Fixing Area column values"
   ]
  },
  {
   "cell_type": "markdown",
   "id": "985947c6-01a7-4910-95b0-0d80dbaf91a7",
   "metadata": {},
   "source": [
    "After a close look, some of the Area names are not correct. let's correct them:"
   ]
  },
  {
   "cell_type": "code",
   "execution_count": null,
   "id": "47b45ad5-860e-49f6-ac23-a9f66fd2cc5b",
   "metadata": {
    "tags": []
   },
   "outputs": [],
   "source": [
    "Rename_area = {'Bolivia (Plurinational State of)':'Bolivia',\n",
    "                      'Cabo Verde':'Cape Verde',\n",
    "                      'China, mainland':'China',\n",
    "                      'China, Hong Kong SAR':'Hong Kong',\n",
    "                      'China, Macao SAR':'Macao',\n",
    "                      'China, Taiwan Province of':'Taiwan',\n",
    "                      'Czechia':'Czech Republic',\n",
    "                      \"Democratic People's Republic of Korea\":'North Korea',\n",
    "                      'Iran (Islamic Republic of)':'Iran',\n",
    "                      'Republic of Korea':'South Korea',\n",
    "                      'The former Yugoslav Republic of Macedonia':'Macedonia',\n",
    "                      'Venezuela (Bolivarian Republic of)':'Venezuela',\n",
    "                      }\n",
    "\n",
    "fao_df['Area'].rename(Rename_area , inplace=True)"
   ]
  },
  {
   "cell_type": "markdown",
   "id": "db6ddac9-fab6-4ff2-82bc-f5975aa56c0b",
   "metadata": {},
   "source": [
    "#### Checking for duplicates"
   ]
  },
  {
   "cell_type": "code",
   "execution_count": null,
   "id": "f67efbd8-8bdf-4d7e-a3dd-82a820c3966c",
   "metadata": {},
   "outputs": [],
   "source": [
    "# controllare se ci sono righe o colonne duplicate\n",
    "fao_df.drop_duplicates(keep='first')"
   ]
  },
  {
   "cell_type": "code",
   "execution_count": 10,
   "id": "063deaf6-1364-447d-9355-c404c86a46d9",
   "metadata": {},
   "outputs": [],
   "source": [
    "# evidenziare che il numero di righe non cambia tra prima e dopo l'esecuzione di drop.duplicates"
   ]
  },
  {
   "cell_type": "markdown",
   "id": "04a87cf9-54b9-40a5-b988-e57c65ef37fc",
   "metadata": {},
   "source": [
    "#### Checking latitude and longitude values"
   ]
  },
  {
   "cell_type": "markdown",
   "id": "22b435bb-420b-4d93-95bd-664635739dfc",
   "metadata": {},
   "source": [
    "Let's check if latitude and longitude contains some non valide values. Latitude ranges from -90 to 90,  longitude ranges from -180 to 180"
   ]
  },
  {
   "cell_type": "code",
   "execution_count": 8,
   "id": "b7674054-c68d-48aa-ba55-2d454354a273",
   "metadata": {},
   "outputs": [
    {
     "data": {
      "text/html": [
       "<div>\n",
       "<style scoped>\n",
       "    .dataframe tbody tr th:only-of-type {\n",
       "        vertical-align: middle;\n",
       "    }\n",
       "\n",
       "    .dataframe tbody tr th {\n",
       "        vertical-align: top;\n",
       "    }\n",
       "\n",
       "    .dataframe thead th {\n",
       "        text-align: right;\n",
       "    }\n",
       "</style>\n",
       "<table border=\"1\" class=\"dataframe\">\n",
       "  <thead>\n",
       "    <tr style=\"text-align: right;\">\n",
       "      <th></th>\n",
       "      <th>longitude</th>\n",
       "      <th>latitude</th>\n",
       "    </tr>\n",
       "  </thead>\n",
       "  <tbody>\n",
       "    <tr>\n",
       "      <th>min</th>\n",
       "      <td>-172.10</td>\n",
       "      <td>-40.90</td>\n",
       "    </tr>\n",
       "    <tr>\n",
       "      <th>max</th>\n",
       "      <td>179.41</td>\n",
       "      <td>64.96</td>\n",
       "    </tr>\n",
       "  </tbody>\n",
       "</table>\n",
       "</div>"
      ],
      "text/plain": [
       "     longitude  latitude\n",
       "min    -172.10    -40.90\n",
       "max     179.41     64.96"
      ]
     },
     "execution_count": 8,
     "metadata": {},
     "output_type": "execute_result"
    }
   ],
   "source": [
    "fao_df[['longitude', 'latitude']].agg([min, max])"
   ]
  },
  {
   "cell_type": "markdown",
   "id": "19e91643-19e5-4ce9-83dd-f371e607c156",
   "metadata": {},
   "source": [
    "Both max and min of latitude and longitude fall under the accepted range"
   ]
  },
  {
   "cell_type": "markdown",
   "id": "c51370b7-2771-4d49-9bef-674b5473f173",
   "metadata": {},
   "source": [
    "#### Checking if there are some invalid values in the *Years* columns"
   ]
  },
  {
   "cell_type": "markdown",
   "id": "f995097d-755a-4ae2-be27-97be4b2a8061",
   "metadata": {},
   "source": [
    "Let's check if are there any negative numbers in production"
   ]
  },
  {
   "cell_type": "code",
   "execution_count": 109,
   "id": "600f612f-78e7-42c1-9e83-87bceb330e29",
   "metadata": {},
   "outputs": [
    {
     "data": {
      "text/html": [
       "<div>\n",
       "<style scoped>\n",
       "    .dataframe tbody tr th:only-of-type {\n",
       "        vertical-align: middle;\n",
       "    }\n",
       "\n",
       "    .dataframe tbody tr th {\n",
       "        vertical-align: top;\n",
       "    }\n",
       "\n",
       "    .dataframe thead th {\n",
       "        text-align: right;\n",
       "    }\n",
       "</style>\n",
       "<table border=\"1\" class=\"dataframe\">\n",
       "  <thead>\n",
       "    <tr style=\"text-align: right;\">\n",
       "      <th></th>\n",
       "      <th>min</th>\n",
       "    </tr>\n",
       "  </thead>\n",
       "  <tbody>\n",
       "    <tr>\n",
       "      <th>Y2012</th>\n",
       "      <td>-169.0</td>\n",
       "    </tr>\n",
       "    <tr>\n",
       "      <th>Y2013</th>\n",
       "      <td>-246.0</td>\n",
       "    </tr>\n",
       "  </tbody>\n",
       "</table>\n",
       "</div>"
      ],
      "text/plain": [
       "         min\n",
       "Y2012 -169.0\n",
       "Y2013 -246.0"
      ]
     },
     "execution_count": 109,
     "metadata": {},
     "output_type": "execute_result"
    }
   ],
   "source": [
    "cond = fao_df.loc[:,'Y1961':'Y2013'].agg([min])\n",
    "cond.T[cond.T['min'] < 0]"
   ]
  },
  {
   "cell_type": "markdown",
   "id": "f561fabb-da83-47de-9be4-c063d68c3f2b",
   "metadata": {},
   "source": [
    "Now let's investigate which country has a negative amount of production for which *Item* and *Element* (food or feed)"
   ]
  },
  {
   "cell_type": "code",
   "execution_count": 83,
   "id": "101a182e-160d-42d7-9fa2-f74aead6f097",
   "metadata": {
    "tags": []
   },
   "outputs": [
    {
     "data": {
      "text/html": [
       "<div>\n",
       "<style scoped>\n",
       "    .dataframe tbody tr th:only-of-type {\n",
       "        vertical-align: middle;\n",
       "    }\n",
       "\n",
       "    .dataframe tbody tr th {\n",
       "        vertical-align: top;\n",
       "    }\n",
       "\n",
       "    .dataframe thead th {\n",
       "        text-align: right;\n",
       "    }\n",
       "</style>\n",
       "<table border=\"1\" class=\"dataframe\">\n",
       "  <thead>\n",
       "    <tr style=\"text-align: right;\">\n",
       "      <th></th>\n",
       "      <th>Area</th>\n",
       "      <th>Item</th>\n",
       "      <th>Element</th>\n",
       "    </tr>\n",
       "  </thead>\n",
       "  <tbody>\n",
       "    <tr>\n",
       "      <th>10082</th>\n",
       "      <td>Japan</td>\n",
       "      <td>Oats</td>\n",
       "      <td>Food</td>\n",
       "    </tr>\n",
       "  </tbody>\n",
       "</table>\n",
       "</div>"
      ],
      "text/plain": [
       "        Area  Item Element\n",
       "10082  Japan  Oats    Food"
      ]
     },
     "execution_count": 83,
     "metadata": {},
     "output_type": "execute_result"
    }
   ],
   "source": [
    "fao_df.loc[fao_df[['Y2013', 'Y2012']].idxmin().unique(), ['Area', 'Item', 'Element']]"
   ]
  },
  {
   "cell_type": "markdown",
   "id": "bc59f787-9678-4dc6-9a96-5b798bacc37c",
   "metadata": {},
   "source": [
    "negative number in production must be an error of input, just drop the entire row"
   ]
  },
  {
   "cell_type": "code",
   "execution_count": 13,
   "id": "39c4dc01-60b7-4cbe-8fef-b027383d0446",
   "metadata": {},
   "outputs": [],
   "source": [
    "fao_df.drop(labels=10082, inplace=True)"
   ]
  },
  {
   "cell_type": "markdown",
   "id": "297567cf-2ade-4953-a04b-797117212f59",
   "metadata": {},
   "source": [
    "#### Checking for missing values"
   ]
  },
  {
   "cell_type": "code",
   "execution_count": null,
   "id": "83be4b50-3262-4361-bd4f-8334b8e45c37",
   "metadata": {
    "tags": []
   },
   "outputs": [],
   "source": [
    "for col in fao_df.columns:\n",
    "    print(f'''\n",
    "    {col}\n",
    "    missing value percentage: {round((fao_df[col].isnull().sum()/fao_df.shape[0]*100), 2)}% ---> {fao_df[col].isnull().sum()}/{fao_df.shape[0]*100} rows\n",
    " ''')"
   ]
  },
  {
   "cell_type": "code",
   "execution_count": null,
   "id": "ff004660-2f51-4c67-a452-0715a5e101db",
   "metadata": {},
   "outputs": [],
   "source": [
    "# rwm = fao_df.loc[fao_df.isna().any(axis=1)].index.to_list()\n",
    "# fao_df.loc[rwm]"
   ]
  },
  {
   "cell_type": "code",
   "execution_count": null,
   "id": "9e9b4eef-d76c-4c40-83ed-b9ea374ba3e1",
   "metadata": {},
   "outputs": [],
   "source": []
  },
  {
   "cell_type": "markdown",
   "id": "56915064-daad-4456-92ec-cfae85d53ef5",
   "metadata": {
    "tags": []
   },
   "source": [
    "#### Understanding why are there NaN values"
   ]
  },
  {
   "cell_type": "markdown",
   "id": "b92ec100-4055-43f5-a56a-d4240cec3322",
   "metadata": {},
   "source": [
    "# Data Exploration"
   ]
  },
  {
   "cell_type": "code",
   "execution_count": null,
   "id": "5628b15f-61e1-4b06-8d30-ac347f5c3e7c",
   "metadata": {},
   "outputs": [],
   "source": []
  },
  {
   "cell_type": "code",
   "execution_count": null,
   "id": "fbdc8c04-7001-4023-bf61-b127cdfb3662",
   "metadata": {},
   "outputs": [],
   "source": []
  },
  {
   "cell_type": "markdown",
   "id": "1873d2db-fc4d-46fd-9c4f-79b40e0d89cc",
   "metadata": {},
   "source": [
    "# Data Transformation"
   ]
  },
  {
   "cell_type": "code",
   "execution_count": null,
   "id": "1b61a159-d3f8-43db-bdde-d96311cb2d93",
   "metadata": {},
   "outputs": [],
   "source": []
  },
  {
   "cell_type": "code",
   "execution_count": null,
   "id": "0875a051-a401-4f0e-b2c5-35efe329ed59",
   "metadata": {},
   "outputs": [],
   "source": []
  },
  {
   "cell_type": "markdown",
   "id": "e0d0501d-6041-4d54-b65a-db0f89db5fe8",
   "metadata": {},
   "source": [
    "# Data Visualization"
   ]
  },
  {
   "cell_type": "code",
   "execution_count": 140,
   "id": "51d5145a-c3ae-4bac-879b-b97988445818",
   "metadata": {},
   "outputs": [
    {
     "name": "stdout",
     "output_type": "stream",
     "text": [
      "diocan\n"
     ]
    }
   ],
   "source": [
    "print('diocan')"
   ]
  },
  {
   "cell_type": "code",
   "execution_count": null,
   "id": "573f5b66-36c6-49ba-b49f-b7cb2b155288",
   "metadata": {},
   "outputs": [],
   "source": [
    "# cond = fao_df['Element'] == 'Feed'\n",
    "# cond2 = fao_df['Element'] == 'Food'\n",
    "\n",
    "# feed = fao_df.loc[cond, 'Item']\n",
    "# food = fao_df.loc[cond2, 'Item']\n",
    "\n",
    "# differences = np.setdiff1d(food, feed)\n",
    "# for n, i in enumerate(differences):\n",
    "#     print(f'{n}{i :>30}')"
   ]
  }
 ],
 "metadata": {
  "kernelspec": {
   "display_name": "Python 3 (ipykernel)",
   "language": "python",
   "name": "python3"
  },
  "language_info": {
   "codemirror_mode": {
    "name": "ipython",
    "version": 3
   },
   "file_extension": ".py",
   "mimetype": "text/x-python",
   "name": "python",
   "nbconvert_exporter": "python",
   "pygments_lexer": "ipython3",
   "version": "3.9.7"
  }
 },
 "nbformat": 4,
 "nbformat_minor": 5
}
