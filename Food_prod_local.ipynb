{
 "cells": [
  {
   "cell_type": "markdown",
   "id": "f7a185b8-c2b0-4844-8c8a-b480f1e99482",
   "metadata": {
    "tags": []
   },
   "source": [
    "# Discovery"
   ]
  },
  {
   "cell_type": "markdown",
   "id": "306a6783-15a3-4082-b16c-4c6ab6770449",
   "metadata": {
    "tags": []
   },
   "source": [
    "By now, world population is in constant increase. The more the people, the more the food we need that translate in an increase of use of natural resources.\n",
    "\n",
    "\n",
    "But which are the product we produce that exploit most resources? Which countries contribute to the exploitation of natural resources?"
   ]
  },
  {
   "cell_type": "markdown",
   "id": "efb91031-d4a6-4d6c-b34b-2db184e2cf8d",
   "metadata": {
    "tags": []
   },
   "source": [
    "**Goal**: Discovering which are the top 10 products that use more water, need more land and emit more gas. Then discovering which countries are the most producer of each category\n"
   ]
  },
  {
   "cell_type": "markdown",
   "id": "c0bf9804-d604-442d-ac42-b69fb1758191",
   "metadata": {
    "tags": []
   },
   "source": [
    "# Data Selection"
   ]
  },
  {
   "cell_type": "code",
   "execution_count": 72,
   "id": "ba615e1b-349f-4845-b63f-69ac8c188aae",
   "metadata": {
    "tags": []
   },
   "outputs": [],
   "source": [
    "import pandas as pd\n",
    "import numpy as np\n",
    "import sidetable \n",
    "from dataprep.clean import clean_country\n",
    "from dataprep.clean import clean_df\n",
    "from dataprep.clean import validate_lat_long\n",
    "import country_converter as coco\n",
    "import plotly \n",
    "import plotly.express as px\n",
    "import plotly.io as pio \n"
   ]
  },
  {
   "cell_type": "code",
   "execution_count": 73,
   "id": "aec7fb0d-b3e8-43a9-9e65-f2ac9f4a0dc8",
   "metadata": {},
   "outputs": [],
   "source": [
    "pd.set_option('display.max_rows', 100)\n",
    "pd.set_option('display.max_columns', 100)\n",
    "pd.options.display.max_colwidth = 100\n",
    "pd.set_option('display.max_colwidth', None)\n",
    "pd.set_option('display.float_format', '{:20,.2f}'.format)"
   ]
  },
  {
   "cell_type": "code",
   "execution_count": 74,
   "id": "4a678d91-e1e3-47ac-b248-abd20c921a68",
   "metadata": {
    "tags": []
   },
   "outputs": [],
   "source": [
    "fao_df = pd.read_csv('FAO.csv', encoding='latin-1')\n",
    "food_pr_df = pd.read_csv('Food_Production.csv')"
   ]
  },
  {
   "cell_type": "markdown",
   "id": "f4f125d9-8984-401c-a96b-f6d9d7125c2c",
   "metadata": {},
   "source": [
    "# Data Cleaning"
   ]
  },
  {
   "cell_type": "markdown",
   "id": "13c730b1-82b7-4c33-b670-17258cf653a7",
   "metadata": {},
   "source": [
    "### FAO Data"
   ]
  },
  {
   "cell_type": "code",
   "execution_count": 75,
   "id": "a8713cd7-ed7d-4389-907f-ab3d57e1ea0f",
   "metadata": {
    "tags": []
   },
   "outputs": [
    {
     "data": {
      "text/html": [
       "<div>\n",
       "<style scoped>\n",
       "    .dataframe tbody tr th:only-of-type {\n",
       "        vertical-align: middle;\n",
       "    }\n",
       "\n",
       "    .dataframe tbody tr th {\n",
       "        vertical-align: top;\n",
       "    }\n",
       "\n",
       "    .dataframe thead th {\n",
       "        text-align: right;\n",
       "    }\n",
       "</style>\n",
       "<table border=\"1\" class=\"dataframe\">\n",
       "  <thead>\n",
       "    <tr style=\"text-align: right;\">\n",
       "      <th></th>\n",
       "      <th>Area Abbreviation</th>\n",
       "      <th>Area Code</th>\n",
       "      <th>Area</th>\n",
       "      <th>Item Code</th>\n",
       "      <th>Item</th>\n",
       "      <th>Element Code</th>\n",
       "      <th>Element</th>\n",
       "      <th>Unit</th>\n",
       "      <th>latitude</th>\n",
       "      <th>longitude</th>\n",
       "      <th>Y1961</th>\n",
       "      <th>Y1962</th>\n",
       "      <th>Y1963</th>\n",
       "      <th>Y1964</th>\n",
       "      <th>Y1965</th>\n",
       "      <th>Y1966</th>\n",
       "      <th>Y1967</th>\n",
       "      <th>Y1968</th>\n",
       "      <th>Y1969</th>\n",
       "      <th>Y1970</th>\n",
       "      <th>Y1971</th>\n",
       "      <th>Y1972</th>\n",
       "      <th>Y1973</th>\n",
       "      <th>Y1974</th>\n",
       "      <th>Y1975</th>\n",
       "      <th>Y1976</th>\n",
       "      <th>Y1977</th>\n",
       "      <th>Y1978</th>\n",
       "      <th>Y1979</th>\n",
       "      <th>Y1980</th>\n",
       "      <th>Y1981</th>\n",
       "      <th>Y1982</th>\n",
       "      <th>Y1983</th>\n",
       "      <th>Y1984</th>\n",
       "      <th>Y1985</th>\n",
       "      <th>Y1986</th>\n",
       "      <th>Y1987</th>\n",
       "      <th>Y1988</th>\n",
       "      <th>Y1989</th>\n",
       "      <th>Y1990</th>\n",
       "      <th>Y1991</th>\n",
       "      <th>Y1992</th>\n",
       "      <th>Y1993</th>\n",
       "      <th>Y1994</th>\n",
       "      <th>Y1995</th>\n",
       "      <th>Y1996</th>\n",
       "      <th>Y1997</th>\n",
       "      <th>Y1998</th>\n",
       "      <th>Y1999</th>\n",
       "      <th>Y2000</th>\n",
       "      <th>Y2001</th>\n",
       "      <th>Y2002</th>\n",
       "      <th>Y2003</th>\n",
       "      <th>Y2004</th>\n",
       "      <th>Y2005</th>\n",
       "      <th>Y2006</th>\n",
       "      <th>Y2007</th>\n",
       "      <th>Y2008</th>\n",
       "      <th>Y2009</th>\n",
       "      <th>Y2010</th>\n",
       "      <th>Y2011</th>\n",
       "      <th>Y2012</th>\n",
       "      <th>Y2013</th>\n",
       "    </tr>\n",
       "  </thead>\n",
       "  <tbody>\n",
       "    <tr>\n",
       "      <th>0</th>\n",
       "      <td>AFG</td>\n",
       "      <td>2</td>\n",
       "      <td>Afghanistan</td>\n",
       "      <td>2511</td>\n",
       "      <td>Wheat and products</td>\n",
       "      <td>5142</td>\n",
       "      <td>Food</td>\n",
       "      <td>1000 tonnes</td>\n",
       "      <td>33.94</td>\n",
       "      <td>67.71</td>\n",
       "      <td>1,928.00</td>\n",
       "      <td>1,904.00</td>\n",
       "      <td>1,666.00</td>\n",
       "      <td>1,950.00</td>\n",
       "      <td>2,001.00</td>\n",
       "      <td>1,808.00</td>\n",
       "      <td>2,053.00</td>\n",
       "      <td>2,045.00</td>\n",
       "      <td>2,154.00</td>\n",
       "      <td>1,819.00</td>\n",
       "      <td>1,963.00</td>\n",
       "      <td>2,215.00</td>\n",
       "      <td>2,310.00</td>\n",
       "      <td>2,335.00</td>\n",
       "      <td>2,434.00</td>\n",
       "      <td>2,512.00</td>\n",
       "      <td>2,282.00</td>\n",
       "      <td>2,454.00</td>\n",
       "      <td>2,443.00</td>\n",
       "      <td>2,129.00</td>\n",
       "      <td>2,133.00</td>\n",
       "      <td>2,068.00</td>\n",
       "      <td>1,994.00</td>\n",
       "      <td>1,851.00</td>\n",
       "      <td>1,791.00</td>\n",
       "      <td>1,683.00</td>\n",
       "      <td>2,194.00</td>\n",
       "      <td>1,801.00</td>\n",
       "      <td>1,754.00</td>\n",
       "      <td>1,640.00</td>\n",
       "      <td>1,539.00</td>\n",
       "      <td>1,582.00</td>\n",
       "      <td>1,840.00</td>\n",
       "      <td>1,855.00</td>\n",
       "      <td>1,853.00</td>\n",
       "      <td>2,177.00</td>\n",
       "      <td>2,343.00</td>\n",
       "      <td>2,407.00</td>\n",
       "      <td>2,463.00</td>\n",
       "      <td>2,600.00</td>\n",
       "      <td>2,668.00</td>\n",
       "      <td>2,776.00</td>\n",
       "      <td>3,095.00</td>\n",
       "      <td>3,249.00</td>\n",
       "      <td>3,486.00</td>\n",
       "      <td>3,704.00</td>\n",
       "      <td>4,164.00</td>\n",
       "      <td>4,252.00</td>\n",
       "      <td>4,538.00</td>\n",
       "      <td>4,605.00</td>\n",
       "      <td>4,711.00</td>\n",
       "      <td>4810</td>\n",
       "      <td>4895</td>\n",
       "    </tr>\n",
       "    <tr>\n",
       "      <th>1</th>\n",
       "      <td>AFG</td>\n",
       "      <td>2</td>\n",
       "      <td>Afghanistan</td>\n",
       "      <td>2805</td>\n",
       "      <td>Rice (Milled Equivalent)</td>\n",
       "      <td>5142</td>\n",
       "      <td>Food</td>\n",
       "      <td>1000 tonnes</td>\n",
       "      <td>33.94</td>\n",
       "      <td>67.71</td>\n",
       "      <td>183.00</td>\n",
       "      <td>183.00</td>\n",
       "      <td>182.00</td>\n",
       "      <td>220.00</td>\n",
       "      <td>220.00</td>\n",
       "      <td>195.00</td>\n",
       "      <td>231.00</td>\n",
       "      <td>235.00</td>\n",
       "      <td>238.00</td>\n",
       "      <td>213.00</td>\n",
       "      <td>205.00</td>\n",
       "      <td>233.00</td>\n",
       "      <td>246.00</td>\n",
       "      <td>246.00</td>\n",
       "      <td>255.00</td>\n",
       "      <td>263.00</td>\n",
       "      <td>235.00</td>\n",
       "      <td>254.00</td>\n",
       "      <td>270.00</td>\n",
       "      <td>259.00</td>\n",
       "      <td>248.00</td>\n",
       "      <td>217.00</td>\n",
       "      <td>217.00</td>\n",
       "      <td>197.00</td>\n",
       "      <td>186.00</td>\n",
       "      <td>200.00</td>\n",
       "      <td>193.00</td>\n",
       "      <td>202.00</td>\n",
       "      <td>191.00</td>\n",
       "      <td>199.00</td>\n",
       "      <td>197.00</td>\n",
       "      <td>249.00</td>\n",
       "      <td>218.00</td>\n",
       "      <td>260.00</td>\n",
       "      <td>319.00</td>\n",
       "      <td>254.00</td>\n",
       "      <td>326.00</td>\n",
       "      <td>347.00</td>\n",
       "      <td>270.00</td>\n",
       "      <td>372.00</td>\n",
       "      <td>411.00</td>\n",
       "      <td>448.00</td>\n",
       "      <td>460.00</td>\n",
       "      <td>419.00</td>\n",
       "      <td>445.00</td>\n",
       "      <td>546.00</td>\n",
       "      <td>455.00</td>\n",
       "      <td>490.00</td>\n",
       "      <td>415.00</td>\n",
       "      <td>442.00</td>\n",
       "      <td>476.00</td>\n",
       "      <td>425</td>\n",
       "      <td>422</td>\n",
       "    </tr>\n",
       "    <tr>\n",
       "      <th>2</th>\n",
       "      <td>AFG</td>\n",
       "      <td>2</td>\n",
       "      <td>Afghanistan</td>\n",
       "      <td>2513</td>\n",
       "      <td>Barley and products</td>\n",
       "      <td>5521</td>\n",
       "      <td>Feed</td>\n",
       "      <td>1000 tonnes</td>\n",
       "      <td>33.94</td>\n",
       "      <td>67.71</td>\n",
       "      <td>76.00</td>\n",
       "      <td>76.00</td>\n",
       "      <td>76.00</td>\n",
       "      <td>76.00</td>\n",
       "      <td>76.00</td>\n",
       "      <td>75.00</td>\n",
       "      <td>71.00</td>\n",
       "      <td>72.00</td>\n",
       "      <td>73.00</td>\n",
       "      <td>74.00</td>\n",
       "      <td>71.00</td>\n",
       "      <td>70.00</td>\n",
       "      <td>72.00</td>\n",
       "      <td>76.00</td>\n",
       "      <td>77.00</td>\n",
       "      <td>80.00</td>\n",
       "      <td>60.00</td>\n",
       "      <td>65.00</td>\n",
       "      <td>64.00</td>\n",
       "      <td>64.00</td>\n",
       "      <td>60.00</td>\n",
       "      <td>55.00</td>\n",
       "      <td>53.00</td>\n",
       "      <td>51.00</td>\n",
       "      <td>48.00</td>\n",
       "      <td>46.00</td>\n",
       "      <td>46.00</td>\n",
       "      <td>47.00</td>\n",
       "      <td>46.00</td>\n",
       "      <td>43.00</td>\n",
       "      <td>43.00</td>\n",
       "      <td>40.00</td>\n",
       "      <td>50.00</td>\n",
       "      <td>46.00</td>\n",
       "      <td>41.00</td>\n",
       "      <td>44.00</td>\n",
       "      <td>50.00</td>\n",
       "      <td>48.00</td>\n",
       "      <td>43.00</td>\n",
       "      <td>26.00</td>\n",
       "      <td>29.00</td>\n",
       "      <td>70.00</td>\n",
       "      <td>48.00</td>\n",
       "      <td>58.00</td>\n",
       "      <td>236.00</td>\n",
       "      <td>262.00</td>\n",
       "      <td>263.00</td>\n",
       "      <td>230.00</td>\n",
       "      <td>379.00</td>\n",
       "      <td>315.00</td>\n",
       "      <td>203.00</td>\n",
       "      <td>367</td>\n",
       "      <td>360</td>\n",
       "    </tr>\n",
       "    <tr>\n",
       "      <th>3</th>\n",
       "      <td>AFG</td>\n",
       "      <td>2</td>\n",
       "      <td>Afghanistan</td>\n",
       "      <td>2513</td>\n",
       "      <td>Barley and products</td>\n",
       "      <td>5142</td>\n",
       "      <td>Food</td>\n",
       "      <td>1000 tonnes</td>\n",
       "      <td>33.94</td>\n",
       "      <td>67.71</td>\n",
       "      <td>237.00</td>\n",
       "      <td>237.00</td>\n",
       "      <td>237.00</td>\n",
       "      <td>238.00</td>\n",
       "      <td>238.00</td>\n",
       "      <td>237.00</td>\n",
       "      <td>225.00</td>\n",
       "      <td>227.00</td>\n",
       "      <td>230.00</td>\n",
       "      <td>234.00</td>\n",
       "      <td>223.00</td>\n",
       "      <td>219.00</td>\n",
       "      <td>225.00</td>\n",
       "      <td>240.00</td>\n",
       "      <td>244.00</td>\n",
       "      <td>255.00</td>\n",
       "      <td>185.00</td>\n",
       "      <td>203.00</td>\n",
       "      <td>198.00</td>\n",
       "      <td>202.00</td>\n",
       "      <td>189.00</td>\n",
       "      <td>174.00</td>\n",
       "      <td>167.00</td>\n",
       "      <td>160.00</td>\n",
       "      <td>151.00</td>\n",
       "      <td>145.00</td>\n",
       "      <td>145.00</td>\n",
       "      <td>148.00</td>\n",
       "      <td>145.00</td>\n",
       "      <td>135.00</td>\n",
       "      <td>132.00</td>\n",
       "      <td>120.00</td>\n",
       "      <td>155.00</td>\n",
       "      <td>143.00</td>\n",
       "      <td>125.00</td>\n",
       "      <td>138.00</td>\n",
       "      <td>159.00</td>\n",
       "      <td>154.00</td>\n",
       "      <td>141.00</td>\n",
       "      <td>84.00</td>\n",
       "      <td>83.00</td>\n",
       "      <td>122.00</td>\n",
       "      <td>144.00</td>\n",
       "      <td>185.00</td>\n",
       "      <td>43.00</td>\n",
       "      <td>44.00</td>\n",
       "      <td>48.00</td>\n",
       "      <td>62.00</td>\n",
       "      <td>55.00</td>\n",
       "      <td>60.00</td>\n",
       "      <td>72.00</td>\n",
       "      <td>78</td>\n",
       "      <td>89</td>\n",
       "    </tr>\n",
       "    <tr>\n",
       "      <th>4</th>\n",
       "      <td>AFG</td>\n",
       "      <td>2</td>\n",
       "      <td>Afghanistan</td>\n",
       "      <td>2514</td>\n",
       "      <td>Maize and products</td>\n",
       "      <td>5521</td>\n",
       "      <td>Feed</td>\n",
       "      <td>1000 tonnes</td>\n",
       "      <td>33.94</td>\n",
       "      <td>67.71</td>\n",
       "      <td>210.00</td>\n",
       "      <td>210.00</td>\n",
       "      <td>214.00</td>\n",
       "      <td>216.00</td>\n",
       "      <td>216.00</td>\n",
       "      <td>216.00</td>\n",
       "      <td>235.00</td>\n",
       "      <td>232.00</td>\n",
       "      <td>236.00</td>\n",
       "      <td>200.00</td>\n",
       "      <td>201.00</td>\n",
       "      <td>216.00</td>\n",
       "      <td>228.00</td>\n",
       "      <td>231.00</td>\n",
       "      <td>234.00</td>\n",
       "      <td>240.00</td>\n",
       "      <td>228.00</td>\n",
       "      <td>234.00</td>\n",
       "      <td>228.00</td>\n",
       "      <td>226.00</td>\n",
       "      <td>210.00</td>\n",
       "      <td>199.00</td>\n",
       "      <td>192.00</td>\n",
       "      <td>182.00</td>\n",
       "      <td>173.00</td>\n",
       "      <td>170.00</td>\n",
       "      <td>154.00</td>\n",
       "      <td>148.00</td>\n",
       "      <td>137.00</td>\n",
       "      <td>144.00</td>\n",
       "      <td>126.00</td>\n",
       "      <td>90.00</td>\n",
       "      <td>141.00</td>\n",
       "      <td>150.00</td>\n",
       "      <td>159.00</td>\n",
       "      <td>108.00</td>\n",
       "      <td>90.00</td>\n",
       "      <td>99.00</td>\n",
       "      <td>72.00</td>\n",
       "      <td>35.00</td>\n",
       "      <td>48.00</td>\n",
       "      <td>89.00</td>\n",
       "      <td>63.00</td>\n",
       "      <td>120.00</td>\n",
       "      <td>208.00</td>\n",
       "      <td>233.00</td>\n",
       "      <td>249.00</td>\n",
       "      <td>247.00</td>\n",
       "      <td>195.00</td>\n",
       "      <td>178.00</td>\n",
       "      <td>191.00</td>\n",
       "      <td>200</td>\n",
       "      <td>200</td>\n",
       "    </tr>\n",
       "  </tbody>\n",
       "</table>\n",
       "</div>"
      ],
      "text/plain": [
       "  Area Abbreviation  Area Code         Area  Item Code  \\\n",
       "0               AFG          2  Afghanistan       2511   \n",
       "1               AFG          2  Afghanistan       2805   \n",
       "2               AFG          2  Afghanistan       2513   \n",
       "3               AFG          2  Afghanistan       2513   \n",
       "4               AFG          2  Afghanistan       2514   \n",
       "\n",
       "                       Item  Element Code Element         Unit  \\\n",
       "0        Wheat and products          5142    Food  1000 tonnes   \n",
       "1  Rice (Milled Equivalent)          5142    Food  1000 tonnes   \n",
       "2       Barley and products          5521    Feed  1000 tonnes   \n",
       "3       Barley and products          5142    Food  1000 tonnes   \n",
       "4        Maize and products          5521    Feed  1000 tonnes   \n",
       "\n",
       "              latitude            longitude                Y1961  \\\n",
       "0                33.94                67.71             1,928.00   \n",
       "1                33.94                67.71               183.00   \n",
       "2                33.94                67.71                76.00   \n",
       "3                33.94                67.71               237.00   \n",
       "4                33.94                67.71               210.00   \n",
       "\n",
       "                 Y1962                Y1963                Y1964  \\\n",
       "0             1,904.00             1,666.00             1,950.00   \n",
       "1               183.00               182.00               220.00   \n",
       "2                76.00                76.00                76.00   \n",
       "3               237.00               237.00               238.00   \n",
       "4               210.00               214.00               216.00   \n",
       "\n",
       "                 Y1965                Y1966                Y1967  \\\n",
       "0             2,001.00             1,808.00             2,053.00   \n",
       "1               220.00               195.00               231.00   \n",
       "2                76.00                75.00                71.00   \n",
       "3               238.00               237.00               225.00   \n",
       "4               216.00               216.00               235.00   \n",
       "\n",
       "                 Y1968                Y1969                Y1970  \\\n",
       "0             2,045.00             2,154.00             1,819.00   \n",
       "1               235.00               238.00               213.00   \n",
       "2                72.00                73.00                74.00   \n",
       "3               227.00               230.00               234.00   \n",
       "4               232.00               236.00               200.00   \n",
       "\n",
       "                 Y1971                Y1972                Y1973  \\\n",
       "0             1,963.00             2,215.00             2,310.00   \n",
       "1               205.00               233.00               246.00   \n",
       "2                71.00                70.00                72.00   \n",
       "3               223.00               219.00               225.00   \n",
       "4               201.00               216.00               228.00   \n",
       "\n",
       "                 Y1974                Y1975                Y1976  \\\n",
       "0             2,335.00             2,434.00             2,512.00   \n",
       "1               246.00               255.00               263.00   \n",
       "2                76.00                77.00                80.00   \n",
       "3               240.00               244.00               255.00   \n",
       "4               231.00               234.00               240.00   \n",
       "\n",
       "                 Y1977                Y1978                Y1979  \\\n",
       "0             2,282.00             2,454.00             2,443.00   \n",
       "1               235.00               254.00               270.00   \n",
       "2                60.00                65.00                64.00   \n",
       "3               185.00               203.00               198.00   \n",
       "4               228.00               234.00               228.00   \n",
       "\n",
       "                 Y1980                Y1981                Y1982  \\\n",
       "0             2,129.00             2,133.00             2,068.00   \n",
       "1               259.00               248.00               217.00   \n",
       "2                64.00                60.00                55.00   \n",
       "3               202.00               189.00               174.00   \n",
       "4               226.00               210.00               199.00   \n",
       "\n",
       "                 Y1983                Y1984                Y1985  \\\n",
       "0             1,994.00             1,851.00             1,791.00   \n",
       "1               217.00               197.00               186.00   \n",
       "2                53.00                51.00                48.00   \n",
       "3               167.00               160.00               151.00   \n",
       "4               192.00               182.00               173.00   \n",
       "\n",
       "                 Y1986                Y1987                Y1988  \\\n",
       "0             1,683.00             2,194.00             1,801.00   \n",
       "1               200.00               193.00               202.00   \n",
       "2                46.00                46.00                47.00   \n",
       "3               145.00               145.00               148.00   \n",
       "4               170.00               154.00               148.00   \n",
       "\n",
       "                 Y1989                Y1990                Y1991  \\\n",
       "0             1,754.00             1,640.00             1,539.00   \n",
       "1               191.00               199.00               197.00   \n",
       "2                46.00                43.00                43.00   \n",
       "3               145.00               135.00               132.00   \n",
       "4               137.00               144.00               126.00   \n",
       "\n",
       "                 Y1992                Y1993                Y1994  \\\n",
       "0             1,582.00             1,840.00             1,855.00   \n",
       "1               249.00               218.00               260.00   \n",
       "2                40.00                50.00                46.00   \n",
       "3               120.00               155.00               143.00   \n",
       "4                90.00               141.00               150.00   \n",
       "\n",
       "                 Y1995                Y1996                Y1997  \\\n",
       "0             1,853.00             2,177.00             2,343.00   \n",
       "1               319.00               254.00               326.00   \n",
       "2                41.00                44.00                50.00   \n",
       "3               125.00               138.00               159.00   \n",
       "4               159.00               108.00                90.00   \n",
       "\n",
       "                 Y1998                Y1999                Y2000  \\\n",
       "0             2,407.00             2,463.00             2,600.00   \n",
       "1               347.00               270.00               372.00   \n",
       "2                48.00                43.00                26.00   \n",
       "3               154.00               141.00                84.00   \n",
       "4                99.00                72.00                35.00   \n",
       "\n",
       "                 Y2001                Y2002                Y2003  \\\n",
       "0             2,668.00             2,776.00             3,095.00   \n",
       "1               411.00               448.00               460.00   \n",
       "2                29.00                70.00                48.00   \n",
       "3                83.00               122.00               144.00   \n",
       "4                48.00                89.00                63.00   \n",
       "\n",
       "                 Y2004                Y2005                Y2006  \\\n",
       "0             3,249.00             3,486.00             3,704.00   \n",
       "1               419.00               445.00               546.00   \n",
       "2                58.00               236.00               262.00   \n",
       "3               185.00                43.00                44.00   \n",
       "4               120.00               208.00               233.00   \n",
       "\n",
       "                 Y2007                Y2008                Y2009  \\\n",
       "0             4,164.00             4,252.00             4,538.00   \n",
       "1               455.00               490.00               415.00   \n",
       "2               263.00               230.00               379.00   \n",
       "3                48.00                62.00                55.00   \n",
       "4               249.00               247.00               195.00   \n",
       "\n",
       "                 Y2010                Y2011  Y2012  Y2013  \n",
       "0             4,605.00             4,711.00   4810   4895  \n",
       "1               442.00               476.00    425    422  \n",
       "2               315.00               203.00    367    360  \n",
       "3                60.00                72.00     78     89  \n",
       "4               178.00               191.00    200    200  "
      ]
     },
     "execution_count": 75,
     "metadata": {},
     "output_type": "execute_result"
    }
   ],
   "source": [
    "fao_df.head()"
   ]
  },
  {
   "cell_type": "code",
   "execution_count": 76,
   "id": "699e2ae4-f0f5-4505-9473-17fda82bf52e",
   "metadata": {
    "tags": []
   },
   "outputs": [
    {
     "data": {
      "text/plain": [
       "(21477, 63)"
      ]
     },
     "execution_count": 76,
     "metadata": {},
     "output_type": "execute_result"
    }
   ],
   "source": [
    "fao_df.shape"
   ]
  },
  {
   "cell_type": "markdown",
   "id": "7e31fd2a-0bf2-4119-bb85-6982cdb2edb2",
   "metadata": {},
   "source": [
    "#### Checking columns dtypes"
   ]
  },
  {
   "cell_type": "code",
   "execution_count": 77,
   "id": "00ec8fc0",
   "metadata": {},
   "outputs": [
    {
     "name": "stdout",
     "output_type": "stream",
     "text": [
      "Data Type Detection Report:\n",
      "\tThese data types are supported by DataPrep to clean: ['country', 'coordinate', 'address']\n"
     ]
    }
   ],
   "source": [
    "fao_dtypes, clean_fao = clean_df(fao_df, clean_header=False, standardize_missing_values='ignore', downcast_memory=False)"
   ]
  },
  {
   "cell_type": "code",
   "execution_count": 78,
   "id": "5cd9bfec",
   "metadata": {},
   "outputs": [
    {
     "data": {
      "text/html": [
       "<div>\n",
       "<style scoped>\n",
       "    .dataframe tbody tr th:only-of-type {\n",
       "        vertical-align: middle;\n",
       "    }\n",
       "\n",
       "    .dataframe tbody tr th {\n",
       "        vertical-align: top;\n",
       "    }\n",
       "\n",
       "    .dataframe thead th {\n",
       "        text-align: right;\n",
       "    }\n",
       "</style>\n",
       "<table border=\"1\" class=\"dataframe\">\n",
       "  <thead>\n",
       "    <tr style=\"text-align: right;\">\n",
       "      <th></th>\n",
       "      <th>semantic_data_type</th>\n",
       "      <th>atomic_data_type</th>\n",
       "    </tr>\n",
       "  </thead>\n",
       "  <tbody>\n",
       "    <tr>\n",
       "      <th>Area Abbreviation</th>\n",
       "      <td>country</td>\n",
       "      <td>string</td>\n",
       "    </tr>\n",
       "    <tr>\n",
       "      <th>Area Code</th>\n",
       "      <td>integer</td>\n",
       "      <td>integer</td>\n",
       "    </tr>\n",
       "    <tr>\n",
       "      <th>Area</th>\n",
       "      <td>country</td>\n",
       "      <td>string</td>\n",
       "    </tr>\n",
       "    <tr>\n",
       "      <th>Item Code</th>\n",
       "      <td>integer</td>\n",
       "      <td>integer</td>\n",
       "    </tr>\n",
       "    <tr>\n",
       "      <th>Item</th>\n",
       "      <td>string</td>\n",
       "      <td>string</td>\n",
       "    </tr>\n",
       "    <tr>\n",
       "      <th>Element Code</th>\n",
       "      <td>integer</td>\n",
       "      <td>integer</td>\n",
       "    </tr>\n",
       "    <tr>\n",
       "      <th>Element</th>\n",
       "      <td>string</td>\n",
       "      <td>string</td>\n",
       "    </tr>\n",
       "    <tr>\n",
       "      <th>Unit</th>\n",
       "      <td>address</td>\n",
       "      <td>string</td>\n",
       "    </tr>\n",
       "    <tr>\n",
       "      <th>latitude</th>\n",
       "      <td>coordinate</td>\n",
       "      <td>floating</td>\n",
       "    </tr>\n",
       "    <tr>\n",
       "      <th>longitude</th>\n",
       "      <td>coordinate</td>\n",
       "      <td>floating</td>\n",
       "    </tr>\n",
       "    <tr>\n",
       "      <th>Y1961</th>\n",
       "      <td>floating</td>\n",
       "      <td>floating</td>\n",
       "    </tr>\n",
       "    <tr>\n",
       "      <th>Y1962</th>\n",
       "      <td>floating</td>\n",
       "      <td>floating</td>\n",
       "    </tr>\n",
       "    <tr>\n",
       "      <th>Y1963</th>\n",
       "      <td>floating</td>\n",
       "      <td>floating</td>\n",
       "    </tr>\n",
       "    <tr>\n",
       "      <th>Y1964</th>\n",
       "      <td>floating</td>\n",
       "      <td>floating</td>\n",
       "    </tr>\n",
       "    <tr>\n",
       "      <th>Y1965</th>\n",
       "      <td>floating</td>\n",
       "      <td>floating</td>\n",
       "    </tr>\n",
       "    <tr>\n",
       "      <th>Y1966</th>\n",
       "      <td>floating</td>\n",
       "      <td>floating</td>\n",
       "    </tr>\n",
       "    <tr>\n",
       "      <th>Y1967</th>\n",
       "      <td>floating</td>\n",
       "      <td>floating</td>\n",
       "    </tr>\n",
       "    <tr>\n",
       "      <th>Y1968</th>\n",
       "      <td>floating</td>\n",
       "      <td>floating</td>\n",
       "    </tr>\n",
       "    <tr>\n",
       "      <th>Y1969</th>\n",
       "      <td>floating</td>\n",
       "      <td>floating</td>\n",
       "    </tr>\n",
       "    <tr>\n",
       "      <th>Y1970</th>\n",
       "      <td>floating</td>\n",
       "      <td>floating</td>\n",
       "    </tr>\n",
       "    <tr>\n",
       "      <th>Y1971</th>\n",
       "      <td>floating</td>\n",
       "      <td>floating</td>\n",
       "    </tr>\n",
       "    <tr>\n",
       "      <th>Y1972</th>\n",
       "      <td>floating</td>\n",
       "      <td>floating</td>\n",
       "    </tr>\n",
       "    <tr>\n",
       "      <th>Y1973</th>\n",
       "      <td>floating</td>\n",
       "      <td>floating</td>\n",
       "    </tr>\n",
       "    <tr>\n",
       "      <th>Y1974</th>\n",
       "      <td>floating</td>\n",
       "      <td>floating</td>\n",
       "    </tr>\n",
       "    <tr>\n",
       "      <th>Y1975</th>\n",
       "      <td>floating</td>\n",
       "      <td>floating</td>\n",
       "    </tr>\n",
       "    <tr>\n",
       "      <th>Y1976</th>\n",
       "      <td>floating</td>\n",
       "      <td>floating</td>\n",
       "    </tr>\n",
       "    <tr>\n",
       "      <th>Y1977</th>\n",
       "      <td>floating</td>\n",
       "      <td>floating</td>\n",
       "    </tr>\n",
       "    <tr>\n",
       "      <th>Y1978</th>\n",
       "      <td>floating</td>\n",
       "      <td>floating</td>\n",
       "    </tr>\n",
       "    <tr>\n",
       "      <th>Y1979</th>\n",
       "      <td>floating</td>\n",
       "      <td>floating</td>\n",
       "    </tr>\n",
       "    <tr>\n",
       "      <th>Y1980</th>\n",
       "      <td>floating</td>\n",
       "      <td>floating</td>\n",
       "    </tr>\n",
       "    <tr>\n",
       "      <th>Y1981</th>\n",
       "      <td>floating</td>\n",
       "      <td>floating</td>\n",
       "    </tr>\n",
       "    <tr>\n",
       "      <th>Y1982</th>\n",
       "      <td>floating</td>\n",
       "      <td>floating</td>\n",
       "    </tr>\n",
       "    <tr>\n",
       "      <th>Y1983</th>\n",
       "      <td>floating</td>\n",
       "      <td>floating</td>\n",
       "    </tr>\n",
       "    <tr>\n",
       "      <th>Y1984</th>\n",
       "      <td>floating</td>\n",
       "      <td>floating</td>\n",
       "    </tr>\n",
       "    <tr>\n",
       "      <th>Y1985</th>\n",
       "      <td>floating</td>\n",
       "      <td>floating</td>\n",
       "    </tr>\n",
       "    <tr>\n",
       "      <th>Y1986</th>\n",
       "      <td>floating</td>\n",
       "      <td>floating</td>\n",
       "    </tr>\n",
       "    <tr>\n",
       "      <th>Y1987</th>\n",
       "      <td>floating</td>\n",
       "      <td>floating</td>\n",
       "    </tr>\n",
       "    <tr>\n",
       "      <th>Y1988</th>\n",
       "      <td>floating</td>\n",
       "      <td>floating</td>\n",
       "    </tr>\n",
       "    <tr>\n",
       "      <th>Y1989</th>\n",
       "      <td>floating</td>\n",
       "      <td>floating</td>\n",
       "    </tr>\n",
       "    <tr>\n",
       "      <th>Y1990</th>\n",
       "      <td>floating</td>\n",
       "      <td>floating</td>\n",
       "    </tr>\n",
       "    <tr>\n",
       "      <th>Y1991</th>\n",
       "      <td>floating</td>\n",
       "      <td>floating</td>\n",
       "    </tr>\n",
       "    <tr>\n",
       "      <th>Y1992</th>\n",
       "      <td>floating</td>\n",
       "      <td>floating</td>\n",
       "    </tr>\n",
       "    <tr>\n",
       "      <th>Y1993</th>\n",
       "      <td>floating</td>\n",
       "      <td>floating</td>\n",
       "    </tr>\n",
       "    <tr>\n",
       "      <th>Y1994</th>\n",
       "      <td>floating</td>\n",
       "      <td>floating</td>\n",
       "    </tr>\n",
       "    <tr>\n",
       "      <th>Y1995</th>\n",
       "      <td>floating</td>\n",
       "      <td>floating</td>\n",
       "    </tr>\n",
       "    <tr>\n",
       "      <th>Y1996</th>\n",
       "      <td>floating</td>\n",
       "      <td>floating</td>\n",
       "    </tr>\n",
       "    <tr>\n",
       "      <th>Y1997</th>\n",
       "      <td>floating</td>\n",
       "      <td>floating</td>\n",
       "    </tr>\n",
       "    <tr>\n",
       "      <th>Y1998</th>\n",
       "      <td>floating</td>\n",
       "      <td>floating</td>\n",
       "    </tr>\n",
       "    <tr>\n",
       "      <th>Y1999</th>\n",
       "      <td>floating</td>\n",
       "      <td>floating</td>\n",
       "    </tr>\n",
       "    <tr>\n",
       "      <th>Y2000</th>\n",
       "      <td>floating</td>\n",
       "      <td>floating</td>\n",
       "    </tr>\n",
       "    <tr>\n",
       "      <th>Y2001</th>\n",
       "      <td>floating</td>\n",
       "      <td>floating</td>\n",
       "    </tr>\n",
       "    <tr>\n",
       "      <th>Y2002</th>\n",
       "      <td>floating</td>\n",
       "      <td>floating</td>\n",
       "    </tr>\n",
       "    <tr>\n",
       "      <th>Y2003</th>\n",
       "      <td>floating</td>\n",
       "      <td>floating</td>\n",
       "    </tr>\n",
       "    <tr>\n",
       "      <th>Y2004</th>\n",
       "      <td>floating</td>\n",
       "      <td>floating</td>\n",
       "    </tr>\n",
       "    <tr>\n",
       "      <th>Y2005</th>\n",
       "      <td>floating</td>\n",
       "      <td>floating</td>\n",
       "    </tr>\n",
       "    <tr>\n",
       "      <th>Y2006</th>\n",
       "      <td>floating</td>\n",
       "      <td>floating</td>\n",
       "    </tr>\n",
       "    <tr>\n",
       "      <th>Y2007</th>\n",
       "      <td>floating</td>\n",
       "      <td>floating</td>\n",
       "    </tr>\n",
       "    <tr>\n",
       "      <th>Y2008</th>\n",
       "      <td>floating</td>\n",
       "      <td>floating</td>\n",
       "    </tr>\n",
       "    <tr>\n",
       "      <th>Y2009</th>\n",
       "      <td>floating</td>\n",
       "      <td>floating</td>\n",
       "    </tr>\n",
       "    <tr>\n",
       "      <th>Y2010</th>\n",
       "      <td>floating</td>\n",
       "      <td>floating</td>\n",
       "    </tr>\n",
       "    <tr>\n",
       "      <th>Y2011</th>\n",
       "      <td>floating</td>\n",
       "      <td>floating</td>\n",
       "    </tr>\n",
       "    <tr>\n",
       "      <th>Y2012</th>\n",
       "      <td>integer</td>\n",
       "      <td>integer</td>\n",
       "    </tr>\n",
       "    <tr>\n",
       "      <th>Y2013</th>\n",
       "      <td>integer</td>\n",
       "      <td>integer</td>\n",
       "    </tr>\n",
       "  </tbody>\n",
       "</table>\n",
       "</div>"
      ],
      "text/plain": [
       "                  semantic_data_type atomic_data_type\n",
       "Area Abbreviation            country           string\n",
       "Area Code                    integer          integer\n",
       "Area                         country           string\n",
       "Item Code                    integer          integer\n",
       "Item                          string           string\n",
       "Element Code                 integer          integer\n",
       "Element                       string           string\n",
       "Unit                         address           string\n",
       "latitude                  coordinate         floating\n",
       "longitude                 coordinate         floating\n",
       "Y1961                       floating         floating\n",
       "Y1962                       floating         floating\n",
       "Y1963                       floating         floating\n",
       "Y1964                       floating         floating\n",
       "Y1965                       floating         floating\n",
       "Y1966                       floating         floating\n",
       "Y1967                       floating         floating\n",
       "Y1968                       floating         floating\n",
       "Y1969                       floating         floating\n",
       "Y1970                       floating         floating\n",
       "Y1971                       floating         floating\n",
       "Y1972                       floating         floating\n",
       "Y1973                       floating         floating\n",
       "Y1974                       floating         floating\n",
       "Y1975                       floating         floating\n",
       "Y1976                       floating         floating\n",
       "Y1977                       floating         floating\n",
       "Y1978                       floating         floating\n",
       "Y1979                       floating         floating\n",
       "Y1980                       floating         floating\n",
       "Y1981                       floating         floating\n",
       "Y1982                       floating         floating\n",
       "Y1983                       floating         floating\n",
       "Y1984                       floating         floating\n",
       "Y1985                       floating         floating\n",
       "Y1986                       floating         floating\n",
       "Y1987                       floating         floating\n",
       "Y1988                       floating         floating\n",
       "Y1989                       floating         floating\n",
       "Y1990                       floating         floating\n",
       "Y1991                       floating         floating\n",
       "Y1992                       floating         floating\n",
       "Y1993                       floating         floating\n",
       "Y1994                       floating         floating\n",
       "Y1995                       floating         floating\n",
       "Y1996                       floating         floating\n",
       "Y1997                       floating         floating\n",
       "Y1998                       floating         floating\n",
       "Y1999                       floating         floating\n",
       "Y2000                       floating         floating\n",
       "Y2001                       floating         floating\n",
       "Y2002                       floating         floating\n",
       "Y2003                       floating         floating\n",
       "Y2004                       floating         floating\n",
       "Y2005                       floating         floating\n",
       "Y2006                       floating         floating\n",
       "Y2007                       floating         floating\n",
       "Y2008                       floating         floating\n",
       "Y2009                       floating         floating\n",
       "Y2010                       floating         floating\n",
       "Y2011                       floating         floating\n",
       "Y2012                        integer          integer\n",
       "Y2013                        integer          integer"
      ]
     },
     "execution_count": 78,
     "metadata": {},
     "output_type": "execute_result"
    }
   ],
   "source": [
    "fao_dtypes"
   ]
  },
  {
   "cell_type": "markdown",
   "id": "f7382ea6-3268-4355-ae6a-92bcc9afa3e0",
   "metadata": {},
   "source": [
    "changing *Y2012* and *Y2013* data type from int to float"
   ]
  },
  {
   "cell_type": "code",
   "execution_count": 79,
   "id": "6a0b965d-8e6a-4fe5-be20-3c9105a17f80",
   "metadata": {
    "tags": []
   },
   "outputs": [],
   "source": [
    "clean_fao[['Y2012', 'Y2013']] = clean_fao[['Y2012', 'Y2013']].astype(float)"
   ]
  },
  {
   "cell_type": "markdown",
   "id": "179dcefe-b754-414f-b221-550470efe3d4",
   "metadata": {},
   "source": [
    "#### Checking column names and eventually fixing them"
   ]
  },
  {
   "cell_type": "code",
   "execution_count": 80,
   "id": "fda170e7-d051-43f6-9a25-e08411a81a42",
   "metadata": {
    "tags": []
   },
   "outputs": [
    {
     "data": {
      "text/plain": [
       "Index(['Area Abbreviation', 'Area Code', 'Area', 'Item Code', 'Item',\n",
       "       'Element Code', 'Element', 'Unit', 'latitude', 'longitude', 'Y1961',\n",
       "       'Y1962', 'Y1963', 'Y1964', 'Y1965', 'Y1966', 'Y1967', 'Y1968', 'Y1969',\n",
       "       'Y1970', 'Y1971', 'Y1972', 'Y1973', 'Y1974', 'Y1975', 'Y1976', 'Y1977',\n",
       "       'Y1978', 'Y1979', 'Y1980', 'Y1981', 'Y1982', 'Y1983', 'Y1984', 'Y1985',\n",
       "       'Y1986', 'Y1987', 'Y1988', 'Y1989', 'Y1990', 'Y1991', 'Y1992', 'Y1993',\n",
       "       'Y1994', 'Y1995', 'Y1996', 'Y1997', 'Y1998', 'Y1999', 'Y2000', 'Y2001',\n",
       "       'Y2002', 'Y2003', 'Y2004', 'Y2005', 'Y2006', 'Y2007', 'Y2008', 'Y2009',\n",
       "       'Y2010', 'Y2011', 'Y2012', 'Y2013'],\n",
       "      dtype='object')"
      ]
     },
     "execution_count": 80,
     "metadata": {},
     "output_type": "execute_result"
    }
   ],
   "source": [
    "clean_fao.columns"
   ]
  },
  {
   "cell_type": "code",
   "execution_count": 81,
   "id": "a0cf4137-af9e-4273-a431-838bf8ada4cb",
   "metadata": {
    "tags": []
   },
   "outputs": [],
   "source": [
    "clean_fao.rename(columns={n:n[1:] for n in clean_fao.columns if 'Y' in n}, inplace=True) "
   ]
  },
  {
   "cell_type": "markdown",
   "id": "db6ddac9-fab6-4ff2-82bc-f5975aa56c0b",
   "metadata": {},
   "source": [
    "#### Checking for duplicates"
   ]
  },
  {
   "cell_type": "code",
   "execution_count": 82,
   "id": "5b01f0eb",
   "metadata": {},
   "outputs": [
    {
     "name": "stdout",
     "output_type": "stream",
     "text": [
      "Number of rows before dropping duplicates:  21477\n",
      "Number of rows after dropping duplicates:   21477\n"
     ]
    }
   ],
   "source": [
    "print(f'Number of rows before dropping duplicates: {clean_fao.shape[0] :>6}')\n",
    "clean_fao.drop_duplicates(keep='first')\n",
    "print(f'Number of rows after dropping duplicates: {clean_fao.shape[0] :>7}')"
   ]
  },
  {
   "cell_type": "markdown",
   "id": "74c1c240",
   "metadata": {},
   "source": [
    "Counting the number of rows before and after checking for duplicates. No duplicates were found"
   ]
  },
  {
   "cell_type": "markdown",
   "id": "dbecc911-4e6f-4173-bea0-f1a01443c7b0",
   "metadata": {},
   "source": [
    "#### Checking qualitative columns values"
   ]
  },
  {
   "cell_type": "code",
   "execution_count": 83,
   "id": "db90975a",
   "metadata": {},
   "outputs": [
    {
     "data": {
      "text/html": [
       "<div>\n",
       "<style scoped>\n",
       "    .dataframe tbody tr th:only-of-type {\n",
       "        vertical-align: middle;\n",
       "    }\n",
       "\n",
       "    .dataframe tbody tr th {\n",
       "        vertical-align: top;\n",
       "    }\n",
       "\n",
       "    .dataframe thead th {\n",
       "        text-align: right;\n",
       "    }\n",
       "</style>\n",
       "<table border=\"1\" class=\"dataframe\">\n",
       "  <thead>\n",
       "    <tr style=\"text-align: right;\">\n",
       "      <th></th>\n",
       "      <th>count</th>\n",
       "      <th>unique</th>\n",
       "      <th>most_freq</th>\n",
       "      <th>most_freq_count</th>\n",
       "      <th>least_freq</th>\n",
       "      <th>least_freq_count</th>\n",
       "    </tr>\n",
       "  </thead>\n",
       "  <tbody>\n",
       "    <tr>\n",
       "      <th>Unit</th>\n",
       "      <td>21477</td>\n",
       "      <td>1</td>\n",
       "      <td>1000 tonnes</td>\n",
       "      <td>21477</td>\n",
       "      <td>1000 tonnes</td>\n",
       "      <td>21477</td>\n",
       "    </tr>\n",
       "    <tr>\n",
       "      <th>Element</th>\n",
       "      <td>21477</td>\n",
       "      <td>2</td>\n",
       "      <td>Food</td>\n",
       "      <td>17528</td>\n",
       "      <td>Feed</td>\n",
       "      <td>3949</td>\n",
       "    </tr>\n",
       "    <tr>\n",
       "      <th>Item</th>\n",
       "      <td>21477</td>\n",
       "      <td>115</td>\n",
       "      <td>Milk - Excluding Butter</td>\n",
       "      <td>558</td>\n",
       "      <td>Meat, Aquatic Mammals</td>\n",
       "      <td>3</td>\n",
       "    </tr>\n",
       "    <tr>\n",
       "      <th>Area Abbreviation</th>\n",
       "      <td>21477</td>\n",
       "      <td>169</td>\n",
       "      <td>CHN</td>\n",
       "      <td>541</td>\n",
       "      <td>LSO</td>\n",
       "      <td>75</td>\n",
       "    </tr>\n",
       "    <tr>\n",
       "      <th>Area</th>\n",
       "      <td>21477</td>\n",
       "      <td>174</td>\n",
       "      <td>Spain</td>\n",
       "      <td>150</td>\n",
       "      <td>Lesotho</td>\n",
       "      <td>75</td>\n",
       "    </tr>\n",
       "  </tbody>\n",
       "</table>\n",
       "</div>"
      ],
      "text/plain": [
       "                   count  unique                most_freq  most_freq_count  \\\n",
       "Unit               21477       1              1000 tonnes            21477   \n",
       "Element            21477       2                     Food            17528   \n",
       "Item               21477     115  Milk - Excluding Butter              558   \n",
       "Area Abbreviation  21477     169                      CHN              541   \n",
       "Area               21477     174                    Spain              150   \n",
       "\n",
       "                              least_freq  least_freq_count  \n",
       "Unit                         1000 tonnes             21477  \n",
       "Element                             Feed              3949  \n",
       "Item               Meat, Aquatic Mammals                 3  \n",
       "Area Abbreviation                    LSO                75  \n",
       "Area                             Lesotho                75  "
      ]
     },
     "execution_count": 83,
     "metadata": {},
     "output_type": "execute_result"
    }
   ],
   "source": [
    "years = clean_fao.columns[clean_fao.columns.get_loc('1961'):]\n",
    "clean_fao.stb.counts(exclude=['number'])"
   ]
  },
  {
   "cell_type": "code",
   "execution_count": 84,
   "id": "3d8c402b-9c39-4bee-86ea-057cbc2222b5",
   "metadata": {
    "tags": []
   },
   "outputs": [
    {
     "name": "stdout",
     "output_type": "stream",
     "text": [
      "Area\n",
      "['Afghanistan', 'Albania', 'Algeria', 'Angola', 'Antigua and Barbuda', 'Argentina', 'Armenia', 'Australia', 'Austria', 'Azerbaijan', 'Bahamas', 'Bangladesh', 'Barbados', 'Belarus', 'Belgium', 'Belize', 'Benin', 'Bermuda', 'Bolivia (Plurinational State of)', 'Bosnia and Herzegovina', 'Botswana', 'Brazil', 'Brunei Darussalam', 'Bulgaria', 'Burkina Faso', 'Cabo Verde', 'Cambodia', 'Cameroon', 'Canada', 'Central African Republic', 'Chad', 'Chile', 'China, Hong Kong SAR', 'China, Macao SAR', 'China, Taiwan Province of', 'China, mainland', 'Colombia', 'Congo', 'Costa Rica', 'Croatia', 'Cuba', 'Cyprus', 'Czechia', \"Côte d'Ivoire\", \"Democratic People's Republic of Korea\", 'Denmark', 'Djibouti', 'Dominica', 'Dominican Republic', 'Ecuador', 'Egypt', 'El Salvador', 'Estonia', 'Ethiopia', 'Fiji', 'Finland', 'France', 'French Polynesia', 'Gabon', 'Gambia', 'Georgia', 'Germany', 'Ghana', 'Greece', 'Grenada', 'Guatemala', 'Guinea', 'Guinea-Bissau', 'Guyana', 'Haiti', 'Honduras', 'Hungary', 'Iceland', 'India', 'Indonesia', 'Iran (Islamic Republic of)', 'Iraq', 'Ireland', 'Israel', 'Italy', 'Jamaica', 'Japan', 'Jordan', 'Kazakhstan', 'Kenya', 'Kiribati', 'Kuwait', 'Kyrgyzstan', \"Lao People's Democratic Republic\", 'Latvia', 'Lebanon', 'Lesotho', 'Liberia', 'Lithuania', 'Luxembourg', 'Madagascar', 'Malawi', 'Malaysia', 'Maldives', 'Mali', 'Malta', 'Mauritania', 'Mauritius', 'Mexico', 'Mongolia', 'Montenegro', 'Morocco', 'Mozambique', 'Myanmar', 'Namibia', 'Nepal', 'Netherlands', 'New Caledonia', 'New Zealand', 'Nicaragua', 'Niger', 'Nigeria', 'Norway', 'Oman', 'Pakistan', 'Panama', 'Paraguay', 'Peru', 'Philippines', 'Poland', 'Portugal', 'Republic of Korea', 'Republic of Moldova', 'Romania', 'Russian Federation', 'Rwanda', 'Saint Kitts and Nevis', 'Saint Lucia', 'Saint Vincent and the Grenadines', 'Samoa', 'Sao Tome and Principe', 'Saudi Arabia', 'Senegal', 'Serbia', 'Sierra Leone', 'Slovakia', 'Slovenia', 'Solomon Islands', 'South Africa', 'Spain', 'Sri Lanka', 'Sudan', 'Suriname', 'Swaziland', 'Sweden', 'Switzerland', 'Tajikistan', 'Thailand', 'The former Yugoslav Republic of Macedonia', 'Timor-Leste', 'Togo', 'Trinidad and Tobago', 'Tunisia', 'Turkey', 'Turkmenistan', 'Uganda', 'Ukraine', 'United Arab Emirates', 'United Kingdom', 'United Republic of Tanzania', 'United States of America', 'Uruguay', 'Uzbekistan', 'Vanuatu', 'Venezuela (Bolivarian Republic of)', 'Viet Nam', 'Yemen', 'Zambia', 'Zimbabwe']\n",
      "----------------------------------------------------------------------------------------------------------------------------------------------------------------------------------------------------------------------------------------------------------\n",
      "Area Abbreviation\n",
      "['AFG', 'AGO', 'ALB', 'ARE', 'ARG', 'ARM', 'ATG', 'AUS', 'AUT', 'AZE', 'BEL', 'BEN', 'BFA', 'BGD', 'BGR', 'BIH', 'BLR', 'BLZ', 'BMU', 'BOL', 'BRA', 'BRB', 'BRN', 'BWA', 'CAF', 'CAN', 'CHE', 'CHL', 'CHN', 'CIV', 'CMR', 'COD', 'COL', 'CPV', 'CRI', 'CUB', 'CYP', 'CZE', 'DEU', 'DJI', 'DMA', 'DNK', 'DOM', 'DZA', 'ECU', 'EGY', 'ESP', 'EST', 'ETH', 'FIN', 'FJI', 'FRA', 'GAB', 'GBR', 'GEO', 'GHA', 'GIN', 'GMB', 'GNB', 'GRC', 'GRD', 'GTM', 'GUY', 'HND', 'HRV', 'HTI', 'HUN', 'IDN', 'IND', 'IRL', 'IRN', 'IRQ', 'ISL', 'ISR', 'ITA', 'JAM', 'JOR', 'JPN', 'KAZ', 'KEN', 'KGZ', 'KHM', 'KIR', 'KNA', 'KOR', 'KWT', 'LAO', 'LBN', 'LBR', 'LCA', 'LKA', 'LSO', 'LTU', 'LUX', 'LVA', 'MAR', 'MDA', 'MDG', 'MDV', 'MEX', 'MLI', 'MLT', 'MMR', 'MNE', 'MNG', 'MOZ', 'MRT', 'MUS', 'MWI', 'MYS', 'NAM', 'NCL', 'NER', 'NGA', 'NIC', 'NLD', 'NOR', 'NPL', 'NZL', 'OMN', 'PAK', 'PAN', 'PER', 'PHL', 'POL', 'PRT', 'PRY', 'PYF', 'QAT', 'ROU', 'RUS', 'RWA', 'SAU', 'SDN', 'SEN', 'SLB', 'SLE', 'SLV', 'SRB', 'STP', 'SUR', 'SVK', 'SVN', 'SWE', 'SWZ', 'TCD', 'TGO', 'THA', 'TJK', 'TKM', 'TLS', 'TTO', 'TUN', 'TUR', 'TZA', 'UGA', 'UKR', 'URY', 'USA', 'UZB', 'VCT', 'VEN', 'VNM', 'VUT', 'WSM', 'YEM', 'ZAF', 'ZMB', 'ZWE']\n",
      "----------------------------------------------------------------------------------------------------------------------------------------------------------------------------------------------------------------------------------------------------------\n",
      "Item\n",
      "['Alcoholic Beverages', 'Animal fats', 'Apples and products', 'Aquatic Animals, Others', 'Aquatic Plants', 'Aquatic Products, Other', 'Bananas', 'Barley and products', 'Beans', 'Beer', 'Beverages, Alcoholic', 'Beverages, Fermented', 'Bovine Meat', 'Butter, Ghee', 'Cassava and products', 'Cephalopods', 'Cereals - Excluding Beer', 'Cereals, Other', 'Citrus, Other', 'Cloves', 'Cocoa Beans and products', 'Coconut Oil', 'Coconuts - Incl Copra', 'Coffee and products', 'Cottonseed', 'Cottonseed Oil', 'Cream', 'Crustaceans', 'Dates', 'Demersal Fish', 'Eggs', 'Fats, Animals, Raw', 'Fish, Body Oil', 'Fish, Liver Oil', 'Fish, Seafood', 'Freshwater Fish', 'Fruits - Excluding Wine', 'Fruits, Other', 'Grapefruit and products', 'Grapes and products (excl wine)', 'Groundnut Oil', 'Groundnuts (Shelled Eq)', 'Honey', 'Infant food', 'Lemons, Limes and products', 'Maize Germ Oil', 'Maize and products', 'Marine Fish, Other', 'Meat', 'Meat, Aquatic Mammals', 'Meat, Other', 'Milk - Excluding Butter', 'Millet and products', 'Miscellaneous', 'Molluscs, Other', 'Mutton & Goat Meat', 'Nuts and products', 'Oats', 'Offals', 'Offals, Edible', 'Oilcrops', 'Oilcrops Oil, Other', 'Oilcrops, Other', 'Olive Oil', 'Olives (including preserved)', 'Onions', 'Oranges, Mandarines', 'Palm Oil', 'Palm kernels', 'Palmkernel Oil', 'Peas', 'Pelagic Fish', 'Pepper', 'Pigmeat', 'Pimento', 'Pineapples and products', 'Plantains', 'Potatoes and products', 'Poultry Meat', 'Pulses', 'Pulses, Other and products', 'Rape and Mustard Oil', 'Rape and Mustardseed', 'Rice (Milled Equivalent)', 'Ricebran Oil', 'Roots, Other', 'Rye and products', 'Sesame seed', 'Sesameseed Oil', 'Sorghum and products', 'Soyabean Oil', 'Soyabeans', 'Spices', 'Spices, Other', 'Starchy Roots', 'Stimulants', 'Sugar & Sweeteners', 'Sugar (Raw Equivalent)', 'Sugar Crops', 'Sugar beet', 'Sugar cane', 'Sugar non-centrifugal', 'Sunflower seed', 'Sunflowerseed Oil', 'Sweet potatoes', 'Sweeteners, Other', 'Tea (including mate)', 'Tomatoes and products', 'Treenuts', 'Vegetable Oils', 'Vegetables', 'Vegetables, Other', 'Wheat and products', 'Wine', 'Yams']\n",
      "----------------------------------------------------------------------------------------------------------------------------------------------------------------------------------------------------------------------------------------------------------\n"
     ]
    }
   ],
   "source": [
    "to_check = ['Area', 'Area Abbreviation', 'Item']\n",
    "for col in to_check:\n",
    "    print(f'{col}\\n{sorted(clean_fao[col].unique())}', end=f'\\n{\"-\"*250}\\n')\n",
    "    "
   ]
  },
  {
   "cell_type": "markdown",
   "id": "5fa00560-8762-4fc6-b6db-f21c113ae84f",
   "metadata": {},
   "source": [
    "#### Fixing Area column values"
   ]
  },
  {
   "cell_type": "markdown",
   "id": "985947c6-01a7-4910-95b0-0d80dbaf91a7",
   "metadata": {},
   "source": [
    "After a close look, some of the Area names are not correct. let's correct them:"
   ]
  },
  {
   "cell_type": "markdown",
   "id": "a198cece",
   "metadata": {},
   "source": [
    "With the function clean_country *Taiwan*, *Macau* and *Hong Kong* would fall under *China*, let's remove it from those country before applying the function"
   ]
  },
  {
   "cell_type": "code",
   "execution_count": 85,
   "id": "074ade97",
   "metadata": {},
   "outputs": [],
   "source": [
    "clean_fao['Area'] = clean_fao['Area'].apply(lambda x: 'Taiwan' if 'Taiwan' in x else x)\n",
    "clean_fao['Area'] = clean_fao['Area'].apply(lambda x: 'Hong Kong' if 'Hong Kong' in x else x)\n",
    "clean_fao['Area'] = clean_fao['Area'].apply(lambda x: 'Macau' if 'Macao' in x else x)"
   ]
  },
  {
   "cell_type": "markdown",
   "id": "4ff480ee",
   "metadata": {},
   "source": [
    "Cleaning country names with clean_country"
   ]
  },
  {
   "cell_type": "code",
   "execution_count": 86,
   "id": "f85f1a78",
   "metadata": {},
   "outputs": [
    {
     "data": {
      "application/vnd.jupyter.widget-view+json": {
       "model_id": "284de7121a5742909cdd1eac656d2d3a",
       "version_major": 2,
       "version_minor": 0
      },
      "text/plain": [
       "  0%|          | 0/9 [00:00<?, ?it/s]"
      ]
     },
     "metadata": {},
     "output_type": "display_data"
    },
    {
     "name": "stdout",
     "output_type": "stream",
     "text": [
      "Country Cleaning Report:\n",
      "\t17246 values cleaned (80.3%)\n",
      "Result contains 21477 (100.0%) values in the correct format and 0 null values (0.0%)\n"
     ]
    }
   ],
   "source": [
    "clean_fao = clean_country(clean_fao, 'Area', input_format=('name', 'official'), output_format='official', fuzzy_dist=2, inplace=True, errors='raise')"
   ]
  },
  {
   "cell_type": "markdown",
   "id": "3f27ed52-69d4-433c-9d19-223d6ac63172",
   "metadata": {},
   "source": [
    " *Area Abbreviation* and the *Area* count do not match. Let's investigate why"
   ]
  },
  {
   "cell_type": "code",
   "execution_count": 87,
   "id": "5317928f-a894-46c5-9819-fb886ce347be",
   "metadata": {
    "tags": []
   },
   "outputs": [
    {
     "data": {
      "text/plain": [
       "Area Abbreviation\n",
       "AZE    2\n",
       "CHN    4\n",
       "THA    2\n",
       "Name: Area_clean, dtype: int64"
      ]
     },
     "execution_count": 87,
     "metadata": {},
     "output_type": "execute_result"
    }
   ],
   "source": [
    "# checking if there are more than 1 country with the same area code\n",
    "a_code_unique = clean_fao.groupby('Area Abbreviation')['Area_clean'].nunique()\n",
    "a_code_unique[a_code_unique > 1]"
   ]
  },
  {
   "cell_type": "markdown",
   "id": "bf715aba-035f-438b-91de-1f0d6b1e062f",
   "metadata": {},
   "source": [
    "As suspected, 3 *Area Abbreviation* are associated with more than 1 country. Let's find out which countries fall under the same code"
   ]
  },
  {
   "cell_type": "code",
   "execution_count": 88,
   "id": "c9f2605f-880e-4836-bd0b-77bcf0ff8f14",
   "metadata": {
    "tags": []
   },
   "outputs": [
    {
     "data": {
      "text/plain": [
       "Area Abbreviation\n",
       "AZE                        [Republic of Azerbaijan, Commonwealth of the Bahamas]\n",
       "CHN    [Hong Kong SAR, Macau SAR, People's Republic of China, Republic of China]\n",
       "THA                                 [Kingdom of Thailand, Republic of Macedonia]\n",
       "Name: Area_clean, dtype: object"
      ]
     },
     "execution_count": 88,
     "metadata": {},
     "output_type": "execute_result"
    }
   ],
   "source": [
    "cond = clean_fao['Area Abbreviation'].isin(['AZE', 'THA', 'CHN'])\n",
    "clean_fao.loc[cond].groupby('Area Abbreviation')['Area_clean'].unique()"
   ]
  },
  {
   "cell_type": "markdown",
   "id": "2349ed5c-d783-47c0-94fe-e234abdb11be",
   "metadata": {},
   "source": [
    "The result of the investigation evidenciate that *Bahamas*, *Macedonia*, *Taiwan*, *Macau* and *Hong Kong* fall under the wrong *Area abbreviation* code."
   ]
  },
  {
   "cell_type": "markdown",
   "id": "2dcb162c",
   "metadata": {},
   "source": [
    "Fixing the wrong Area Abbreviation values"
   ]
  },
  {
   "cell_type": "code",
   "execution_count": 89,
   "id": "b086213f",
   "metadata": {},
   "outputs": [],
   "source": [
    "cond = clean_fao['Area_clean'] == 'Bahamas'\n",
    "clean_fao.loc[cond, 'Area Abbreviation'] = 'BHS'\n",
    "\n",
    "cond = clean_fao['Area_clean'] == 'Hong Kong'\n",
    "clean_fao.loc[cond, 'Area Abbreviation'] = 'HKG'\n",
    "\n",
    "cond = clean_fao['Area_clean'] == 'Macau'\n",
    "clean_fao.loc[cond, 'Area Abbreviation'] = 'MAC'\n",
    "\n",
    "cond = clean_fao['Area_clean'] == 'Taiwan'\n",
    "clean_fao.loc[cond, 'Area Abbreviation'] = 'TWN'\n",
    "\n",
    "cond = clean_fao['Area_clean'] == 'Macedonia'\n",
    "clean_fao.loc[cond, 'Area Abbreviation'] = 'MKD'"
   ]
  },
  {
   "cell_type": "markdown",
   "id": "530f3325-5b31-4688-83d5-e75d6c7a9459",
   "metadata": {},
   "source": [
    "#### Dropping unecessary columns"
   ]
  },
  {
   "cell_type": "code",
   "execution_count": 90,
   "id": "436708ea-ba01-4a8b-bd77-9ca52745a33d",
   "metadata": {
    "tags": []
   },
   "outputs": [],
   "source": [
    "clean_fao.drop(columns=['Area Code', 'Item Code', 'Element Code', 'Unit'], inplace=True)"
   ]
  },
  {
   "cell_type": "markdown",
   "id": "04a87cf9-54b9-40a5-b988-e57c65ef37fc",
   "metadata": {},
   "source": [
    "#### Checking latitude and longitude values"
   ]
  },
  {
   "cell_type": "markdown",
   "id": "22b435bb-420b-4d93-95bd-664635739dfc",
   "metadata": {},
   "source": [
    "Let's check if latitude and longitude contains some non valide values. "
   ]
  },
  {
   "cell_type": "code",
   "execution_count": 91,
   "id": "613fdf8d",
   "metadata": {},
   "outputs": [
    {
     "data": {
      "text/plain": [
       "True"
      ]
     },
     "execution_count": 91,
     "metadata": {},
     "output_type": "execute_result"
    }
   ],
   "source": [
    "validate_lat_long(clean_fao[\"latitude\"], lat_long=False, lat=True).all()"
   ]
  },
  {
   "cell_type": "code",
   "execution_count": 92,
   "id": "5f525725",
   "metadata": {},
   "outputs": [
    {
     "data": {
      "text/plain": [
       "True"
      ]
     },
     "execution_count": 92,
     "metadata": {},
     "output_type": "execute_result"
    }
   ],
   "source": [
    "validate_lat_long(clean_fao[\"longitude\"], lat_long=False, lon=True).all()"
   ]
  },
  {
   "cell_type": "markdown",
   "id": "117f7631",
   "metadata": {},
   "source": [
    "Latitude ranges from -90 to 90,  longitude ranges from -180 to 180"
   ]
  },
  {
   "cell_type": "code",
   "execution_count": 93,
   "id": "b7674054-c68d-48aa-ba55-2d454354a273",
   "metadata": {},
   "outputs": [
    {
     "data": {
      "text/html": [
       "<div>\n",
       "<style scoped>\n",
       "    .dataframe tbody tr th:only-of-type {\n",
       "        vertical-align: middle;\n",
       "    }\n",
       "\n",
       "    .dataframe tbody tr th {\n",
       "        vertical-align: top;\n",
       "    }\n",
       "\n",
       "    .dataframe thead th {\n",
       "        text-align: right;\n",
       "    }\n",
       "</style>\n",
       "<table border=\"1\" class=\"dataframe\">\n",
       "  <thead>\n",
       "    <tr style=\"text-align: right;\">\n",
       "      <th></th>\n",
       "      <th>longitude</th>\n",
       "      <th>latitude</th>\n",
       "    </tr>\n",
       "  </thead>\n",
       "  <tbody>\n",
       "    <tr>\n",
       "      <th>min</th>\n",
       "      <td>-172.10</td>\n",
       "      <td>-40.90</td>\n",
       "    </tr>\n",
       "    <tr>\n",
       "      <th>max</th>\n",
       "      <td>179.41</td>\n",
       "      <td>64.96</td>\n",
       "    </tr>\n",
       "  </tbody>\n",
       "</table>\n",
       "</div>"
      ],
      "text/plain": [
       "               longitude             latitude\n",
       "min              -172.10               -40.90\n",
       "max               179.41                64.96"
      ]
     },
     "execution_count": 93,
     "metadata": {},
     "output_type": "execute_result"
    }
   ],
   "source": [
    "clean_fao[['longitude', 'latitude']].agg([min, max])"
   ]
  },
  {
   "cell_type": "markdown",
   "id": "19e91643-19e5-4ce9-83dd-f371e607c156",
   "metadata": {},
   "source": [
    "Both max and min of latitude and longitude fall under the accepted range"
   ]
  },
  {
   "cell_type": "markdown",
   "id": "c51370b7-2771-4d49-9bef-674b5473f173",
   "metadata": {},
   "source": [
    "#### Checking if there are some invalid values in the *Years* columns"
   ]
  },
  {
   "cell_type": "markdown",
   "id": "f995097d-755a-4ae2-be27-97be4b2a8061",
   "metadata": {},
   "source": [
    "Let's check if are there any negative numbers in production"
   ]
  },
  {
   "cell_type": "code",
   "execution_count": 94,
   "id": "600f612f-78e7-42c1-9e83-87bceb330e29",
   "metadata": {},
   "outputs": [
    {
     "data": {
      "text/html": [
       "<div>\n",
       "<style scoped>\n",
       "    .dataframe tbody tr th:only-of-type {\n",
       "        vertical-align: middle;\n",
       "    }\n",
       "\n",
       "    .dataframe tbody tr th {\n",
       "        vertical-align: top;\n",
       "    }\n",
       "\n",
       "    .dataframe thead th {\n",
       "        text-align: right;\n",
       "    }\n",
       "</style>\n",
       "<table border=\"1\" class=\"dataframe\">\n",
       "  <thead>\n",
       "    <tr style=\"text-align: right;\">\n",
       "      <th></th>\n",
       "      <th>min</th>\n",
       "    </tr>\n",
       "  </thead>\n",
       "  <tbody>\n",
       "    <tr>\n",
       "      <th>2012</th>\n",
       "      <td>-169.00</td>\n",
       "    </tr>\n",
       "    <tr>\n",
       "      <th>2013</th>\n",
       "      <td>-246.00</td>\n",
       "    </tr>\n",
       "  </tbody>\n",
       "</table>\n",
       "</div>"
      ],
      "text/plain": [
       "                      min\n",
       "2012              -169.00\n",
       "2013              -246.00"
      ]
     },
     "execution_count": 94,
     "metadata": {},
     "output_type": "execute_result"
    }
   ],
   "source": [
    "cond = clean_fao.loc[:,'1961':'2013'].agg([min])\n",
    "cond.T[cond.T['min'] < 0]"
   ]
  },
  {
   "cell_type": "markdown",
   "id": "f561fabb-da83-47de-9be4-c063d68c3f2b",
   "metadata": {},
   "source": [
    "Now let's investigate which country has a negative amount of production for which *Item* and *Element* (food or feed)"
   ]
  },
  {
   "cell_type": "code",
   "execution_count": 95,
   "id": "101a182e-160d-42d7-9fa2-f74aead6f097",
   "metadata": {
    "tags": []
   },
   "outputs": [
    {
     "data": {
      "text/html": [
       "<div>\n",
       "<style scoped>\n",
       "    .dataframe tbody tr th:only-of-type {\n",
       "        vertical-align: middle;\n",
       "    }\n",
       "\n",
       "    .dataframe tbody tr th {\n",
       "        vertical-align: top;\n",
       "    }\n",
       "\n",
       "    .dataframe thead th {\n",
       "        text-align: right;\n",
       "    }\n",
       "</style>\n",
       "<table border=\"1\" class=\"dataframe\">\n",
       "  <thead>\n",
       "    <tr style=\"text-align: right;\">\n",
       "      <th></th>\n",
       "      <th>Area_clean</th>\n",
       "      <th>Item</th>\n",
       "      <th>Element</th>\n",
       "    </tr>\n",
       "  </thead>\n",
       "  <tbody>\n",
       "    <tr>\n",
       "      <th>10082</th>\n",
       "      <td>Japan</td>\n",
       "      <td>Oats</td>\n",
       "      <td>Food</td>\n",
       "    </tr>\n",
       "  </tbody>\n",
       "</table>\n",
       "</div>"
      ],
      "text/plain": [
       "      Area_clean  Item Element\n",
       "10082      Japan  Oats    Food"
      ]
     },
     "execution_count": 95,
     "metadata": {},
     "output_type": "execute_result"
    }
   ],
   "source": [
    "clean_fao.loc[clean_fao[['2013', '2012']].idxmin().unique(), ['Area_clean', 'Item', 'Element']]"
   ]
  },
  {
   "cell_type": "markdown",
   "id": "bc59f787-9678-4dc6-9a96-5b798bacc37c",
   "metadata": {},
   "source": [
    "Negative number in production must be an error of input, just drop the entire row"
   ]
  },
  {
   "cell_type": "code",
   "execution_count": 96,
   "id": "39c4dc01-60b7-4cbe-8fef-b027383d0446",
   "metadata": {},
   "outputs": [],
   "source": [
    "clean_fao.drop(labels=10082, inplace=True)"
   ]
  },
  {
   "cell_type": "markdown",
   "id": "297567cf-2ade-4953-a04b-797117212f59",
   "metadata": {},
   "source": [
    "#### Checking for missing values"
   ]
  },
  {
   "cell_type": "code",
   "execution_count": 97,
   "id": "83be4b50-3262-4361-bd4f-8334b8e45c37",
   "metadata": {
    "tags": []
   },
   "outputs": [
    {
     "data": {
      "text/html": [
       "<style type=\"text/css\">\n",
       "</style>\n",
       "<table id=\"T_3a9ea_\">\n",
       "  <thead>\n",
       "    <tr>\n",
       "      <th class=\"blank level0\" >&nbsp;</th>\n",
       "      <th class=\"col_heading level0 col0\" >missing</th>\n",
       "      <th class=\"col_heading level0 col1\" >total</th>\n",
       "      <th class=\"col_heading level0 col2\" >percent</th>\n",
       "    </tr>\n",
       "  </thead>\n",
       "  <tbody>\n",
       "    <tr>\n",
       "      <th id=\"T_3a9ea_level0_row0\" class=\"row_heading level0 row0\" >1961</th>\n",
       "      <td id=\"T_3a9ea_row0_col0\" class=\"data row0 col0\" >3,539</td>\n",
       "      <td id=\"T_3a9ea_row0_col1\" class=\"data row0 col1\" >21,476</td>\n",
       "      <td id=\"T_3a9ea_row0_col2\" class=\"data row0 col2\" >16.48%</td>\n",
       "    </tr>\n",
       "    <tr>\n",
       "      <th id=\"T_3a9ea_level0_row1\" class=\"row_heading level0 row1\" >1976</th>\n",
       "      <td id=\"T_3a9ea_row1_col0\" class=\"data row1 col0\" >3,539</td>\n",
       "      <td id=\"T_3a9ea_row1_col1\" class=\"data row1 col1\" >21,476</td>\n",
       "      <td id=\"T_3a9ea_row1_col2\" class=\"data row1 col2\" >16.48%</td>\n",
       "    </tr>\n",
       "    <tr>\n",
       "      <th id=\"T_3a9ea_level0_row2\" class=\"row_heading level0 row2\" >1989</th>\n",
       "      <td id=\"T_3a9ea_row2_col0\" class=\"data row2 col0\" >3,539</td>\n",
       "      <td id=\"T_3a9ea_row2_col1\" class=\"data row2 col1\" >21,476</td>\n",
       "      <td id=\"T_3a9ea_row2_col2\" class=\"data row2 col2\" >16.48%</td>\n",
       "    </tr>\n",
       "    <tr>\n",
       "      <th id=\"T_3a9ea_level0_row3\" class=\"row_heading level0 row3\" >1988</th>\n",
       "      <td id=\"T_3a9ea_row3_col0\" class=\"data row3 col0\" >3,539</td>\n",
       "      <td id=\"T_3a9ea_row3_col1\" class=\"data row3 col1\" >21,476</td>\n",
       "      <td id=\"T_3a9ea_row3_col2\" class=\"data row3 col2\" >16.48%</td>\n",
       "    </tr>\n",
       "    <tr>\n",
       "      <th id=\"T_3a9ea_level0_row4\" class=\"row_heading level0 row4\" >1987</th>\n",
       "      <td id=\"T_3a9ea_row4_col0\" class=\"data row4 col0\" >3,539</td>\n",
       "      <td id=\"T_3a9ea_row4_col1\" class=\"data row4 col1\" >21,476</td>\n",
       "      <td id=\"T_3a9ea_row4_col2\" class=\"data row4 col2\" >16.48%</td>\n",
       "    </tr>\n",
       "    <tr>\n",
       "      <th id=\"T_3a9ea_level0_row5\" class=\"row_heading level0 row5\" >1962</th>\n",
       "      <td id=\"T_3a9ea_row5_col0\" class=\"data row5 col0\" >3,539</td>\n",
       "      <td id=\"T_3a9ea_row5_col1\" class=\"data row5 col1\" >21,476</td>\n",
       "      <td id=\"T_3a9ea_row5_col2\" class=\"data row5 col2\" >16.48%</td>\n",
       "    </tr>\n",
       "    <tr>\n",
       "      <th id=\"T_3a9ea_level0_row6\" class=\"row_heading level0 row6\" >1985</th>\n",
       "      <td id=\"T_3a9ea_row6_col0\" class=\"data row6 col0\" >3,539</td>\n",
       "      <td id=\"T_3a9ea_row6_col1\" class=\"data row6 col1\" >21,476</td>\n",
       "      <td id=\"T_3a9ea_row6_col2\" class=\"data row6 col2\" >16.48%</td>\n",
       "    </tr>\n",
       "    <tr>\n",
       "      <th id=\"T_3a9ea_level0_row7\" class=\"row_heading level0 row7\" >1984</th>\n",
       "      <td id=\"T_3a9ea_row7_col0\" class=\"data row7 col0\" >3,539</td>\n",
       "      <td id=\"T_3a9ea_row7_col1\" class=\"data row7 col1\" >21,476</td>\n",
       "      <td id=\"T_3a9ea_row7_col2\" class=\"data row7 col2\" >16.48%</td>\n",
       "    </tr>\n",
       "    <tr>\n",
       "      <th id=\"T_3a9ea_level0_row8\" class=\"row_heading level0 row8\" >1983</th>\n",
       "      <td id=\"T_3a9ea_row8_col0\" class=\"data row8 col0\" >3,539</td>\n",
       "      <td id=\"T_3a9ea_row8_col1\" class=\"data row8 col1\" >21,476</td>\n",
       "      <td id=\"T_3a9ea_row8_col2\" class=\"data row8 col2\" >16.48%</td>\n",
       "    </tr>\n",
       "    <tr>\n",
       "      <th id=\"T_3a9ea_level0_row9\" class=\"row_heading level0 row9\" >1982</th>\n",
       "      <td id=\"T_3a9ea_row9_col0\" class=\"data row9 col0\" >3,539</td>\n",
       "      <td id=\"T_3a9ea_row9_col1\" class=\"data row9 col1\" >21,476</td>\n",
       "      <td id=\"T_3a9ea_row9_col2\" class=\"data row9 col2\" >16.48%</td>\n",
       "    </tr>\n",
       "    <tr>\n",
       "      <th id=\"T_3a9ea_level0_row10\" class=\"row_heading level0 row10\" >1981</th>\n",
       "      <td id=\"T_3a9ea_row10_col0\" class=\"data row10 col0\" >3,539</td>\n",
       "      <td id=\"T_3a9ea_row10_col1\" class=\"data row10 col1\" >21,476</td>\n",
       "      <td id=\"T_3a9ea_row10_col2\" class=\"data row10 col2\" >16.48%</td>\n",
       "    </tr>\n",
       "    <tr>\n",
       "      <th id=\"T_3a9ea_level0_row11\" class=\"row_heading level0 row11\" >1980</th>\n",
       "      <td id=\"T_3a9ea_row11_col0\" class=\"data row11 col0\" >3,539</td>\n",
       "      <td id=\"T_3a9ea_row11_col1\" class=\"data row11 col1\" >21,476</td>\n",
       "      <td id=\"T_3a9ea_row11_col2\" class=\"data row11 col2\" >16.48%</td>\n",
       "    </tr>\n",
       "    <tr>\n",
       "      <th id=\"T_3a9ea_level0_row12\" class=\"row_heading level0 row12\" >1979</th>\n",
       "      <td id=\"T_3a9ea_row12_col0\" class=\"data row12 col0\" >3,539</td>\n",
       "      <td id=\"T_3a9ea_row12_col1\" class=\"data row12 col1\" >21,476</td>\n",
       "      <td id=\"T_3a9ea_row12_col2\" class=\"data row12 col2\" >16.48%</td>\n",
       "    </tr>\n",
       "    <tr>\n",
       "      <th id=\"T_3a9ea_level0_row13\" class=\"row_heading level0 row13\" >1978</th>\n",
       "      <td id=\"T_3a9ea_row13_col0\" class=\"data row13 col0\" >3,539</td>\n",
       "      <td id=\"T_3a9ea_row13_col1\" class=\"data row13 col1\" >21,476</td>\n",
       "      <td id=\"T_3a9ea_row13_col2\" class=\"data row13 col2\" >16.48%</td>\n",
       "    </tr>\n",
       "    <tr>\n",
       "      <th id=\"T_3a9ea_level0_row14\" class=\"row_heading level0 row14\" >1977</th>\n",
       "      <td id=\"T_3a9ea_row14_col0\" class=\"data row14 col0\" >3,539</td>\n",
       "      <td id=\"T_3a9ea_row14_col1\" class=\"data row14 col1\" >21,476</td>\n",
       "      <td id=\"T_3a9ea_row14_col2\" class=\"data row14 col2\" >16.48%</td>\n",
       "    </tr>\n",
       "    <tr>\n",
       "      <th id=\"T_3a9ea_level0_row15\" class=\"row_heading level0 row15\" >1986</th>\n",
       "      <td id=\"T_3a9ea_row15_col0\" class=\"data row15 col0\" >3,539</td>\n",
       "      <td id=\"T_3a9ea_row15_col1\" class=\"data row15 col1\" >21,476</td>\n",
       "      <td id=\"T_3a9ea_row15_col2\" class=\"data row15 col2\" >16.48%</td>\n",
       "    </tr>\n",
       "    <tr>\n",
       "      <th id=\"T_3a9ea_level0_row16\" class=\"row_heading level0 row16\" >1975</th>\n",
       "      <td id=\"T_3a9ea_row16_col0\" class=\"data row16 col0\" >3,539</td>\n",
       "      <td id=\"T_3a9ea_row16_col1\" class=\"data row16 col1\" >21,476</td>\n",
       "      <td id=\"T_3a9ea_row16_col2\" class=\"data row16 col2\" >16.48%</td>\n",
       "    </tr>\n",
       "    <tr>\n",
       "      <th id=\"T_3a9ea_level0_row17\" class=\"row_heading level0 row17\" >1968</th>\n",
       "      <td id=\"T_3a9ea_row17_col0\" class=\"data row17 col0\" >3,539</td>\n",
       "      <td id=\"T_3a9ea_row17_col1\" class=\"data row17 col1\" >21,476</td>\n",
       "      <td id=\"T_3a9ea_row17_col2\" class=\"data row17 col2\" >16.48%</td>\n",
       "    </tr>\n",
       "    <tr>\n",
       "      <th id=\"T_3a9ea_level0_row18\" class=\"row_heading level0 row18\" >1974</th>\n",
       "      <td id=\"T_3a9ea_row18_col0\" class=\"data row18 col0\" >3,539</td>\n",
       "      <td id=\"T_3a9ea_row18_col1\" class=\"data row18 col1\" >21,476</td>\n",
       "      <td id=\"T_3a9ea_row18_col2\" class=\"data row18 col2\" >16.48%</td>\n",
       "    </tr>\n",
       "    <tr>\n",
       "      <th id=\"T_3a9ea_level0_row19\" class=\"row_heading level0 row19\" >1963</th>\n",
       "      <td id=\"T_3a9ea_row19_col0\" class=\"data row19 col0\" >3,539</td>\n",
       "      <td id=\"T_3a9ea_row19_col1\" class=\"data row19 col1\" >21,476</td>\n",
       "      <td id=\"T_3a9ea_row19_col2\" class=\"data row19 col2\" >16.48%</td>\n",
       "    </tr>\n",
       "    <tr>\n",
       "      <th id=\"T_3a9ea_level0_row20\" class=\"row_heading level0 row20\" >1964</th>\n",
       "      <td id=\"T_3a9ea_row20_col0\" class=\"data row20 col0\" >3,539</td>\n",
       "      <td id=\"T_3a9ea_row20_col1\" class=\"data row20 col1\" >21,476</td>\n",
       "      <td id=\"T_3a9ea_row20_col2\" class=\"data row20 col2\" >16.48%</td>\n",
       "    </tr>\n",
       "    <tr>\n",
       "      <th id=\"T_3a9ea_level0_row21\" class=\"row_heading level0 row21\" >1965</th>\n",
       "      <td id=\"T_3a9ea_row21_col0\" class=\"data row21 col0\" >3,539</td>\n",
       "      <td id=\"T_3a9ea_row21_col1\" class=\"data row21 col1\" >21,476</td>\n",
       "      <td id=\"T_3a9ea_row21_col2\" class=\"data row21 col2\" >16.48%</td>\n",
       "    </tr>\n",
       "    <tr>\n",
       "      <th id=\"T_3a9ea_level0_row22\" class=\"row_heading level0 row22\" >1967</th>\n",
       "      <td id=\"T_3a9ea_row22_col0\" class=\"data row22 col0\" >3,539</td>\n",
       "      <td id=\"T_3a9ea_row22_col1\" class=\"data row22 col1\" >21,476</td>\n",
       "      <td id=\"T_3a9ea_row22_col2\" class=\"data row22 col2\" >16.48%</td>\n",
       "    </tr>\n",
       "    <tr>\n",
       "      <th id=\"T_3a9ea_level0_row23\" class=\"row_heading level0 row23\" >1966</th>\n",
       "      <td id=\"T_3a9ea_row23_col0\" class=\"data row23 col0\" >3,539</td>\n",
       "      <td id=\"T_3a9ea_row23_col1\" class=\"data row23 col1\" >21,476</td>\n",
       "      <td id=\"T_3a9ea_row23_col2\" class=\"data row23 col2\" >16.48%</td>\n",
       "    </tr>\n",
       "    <tr>\n",
       "      <th id=\"T_3a9ea_level0_row24\" class=\"row_heading level0 row24\" >1969</th>\n",
       "      <td id=\"T_3a9ea_row24_col0\" class=\"data row24 col0\" >3,539</td>\n",
       "      <td id=\"T_3a9ea_row24_col1\" class=\"data row24 col1\" >21,476</td>\n",
       "      <td id=\"T_3a9ea_row24_col2\" class=\"data row24 col2\" >16.48%</td>\n",
       "    </tr>\n",
       "    <tr>\n",
       "      <th id=\"T_3a9ea_level0_row25\" class=\"row_heading level0 row25\" >1970</th>\n",
       "      <td id=\"T_3a9ea_row25_col0\" class=\"data row25 col0\" >3,539</td>\n",
       "      <td id=\"T_3a9ea_row25_col1\" class=\"data row25 col1\" >21,476</td>\n",
       "      <td id=\"T_3a9ea_row25_col2\" class=\"data row25 col2\" >16.48%</td>\n",
       "    </tr>\n",
       "    <tr>\n",
       "      <th id=\"T_3a9ea_level0_row26\" class=\"row_heading level0 row26\" >1971</th>\n",
       "      <td id=\"T_3a9ea_row26_col0\" class=\"data row26 col0\" >3,539</td>\n",
       "      <td id=\"T_3a9ea_row26_col1\" class=\"data row26 col1\" >21,476</td>\n",
       "      <td id=\"T_3a9ea_row26_col2\" class=\"data row26 col2\" >16.48%</td>\n",
       "    </tr>\n",
       "    <tr>\n",
       "      <th id=\"T_3a9ea_level0_row27\" class=\"row_heading level0 row27\" >1972</th>\n",
       "      <td id=\"T_3a9ea_row27_col0\" class=\"data row27 col0\" >3,539</td>\n",
       "      <td id=\"T_3a9ea_row27_col1\" class=\"data row27 col1\" >21,476</td>\n",
       "      <td id=\"T_3a9ea_row27_col2\" class=\"data row27 col2\" >16.48%</td>\n",
       "    </tr>\n",
       "    <tr>\n",
       "      <th id=\"T_3a9ea_level0_row28\" class=\"row_heading level0 row28\" >1973</th>\n",
       "      <td id=\"T_3a9ea_row28_col0\" class=\"data row28 col0\" >3,539</td>\n",
       "      <td id=\"T_3a9ea_row28_col1\" class=\"data row28 col1\" >21,476</td>\n",
       "      <td id=\"T_3a9ea_row28_col2\" class=\"data row28 col2\" >16.48%</td>\n",
       "    </tr>\n",
       "    <tr>\n",
       "      <th id=\"T_3a9ea_level0_row29\" class=\"row_heading level0 row29\" >1990</th>\n",
       "      <td id=\"T_3a9ea_row29_col0\" class=\"data row29 col0\" >3,415</td>\n",
       "      <td id=\"T_3a9ea_row29_col1\" class=\"data row29 col1\" >21,476</td>\n",
       "      <td id=\"T_3a9ea_row29_col2\" class=\"data row29 col2\" >15.90%</td>\n",
       "    </tr>\n",
       "    <tr>\n",
       "      <th id=\"T_3a9ea_level0_row30\" class=\"row_heading level0 row30\" >1991</th>\n",
       "      <td id=\"T_3a9ea_row30_col0\" class=\"data row30 col0\" >3,415</td>\n",
       "      <td id=\"T_3a9ea_row30_col1\" class=\"data row30 col1\" >21,476</td>\n",
       "      <td id=\"T_3a9ea_row30_col2\" class=\"data row30 col2\" >15.90%</td>\n",
       "    </tr>\n",
       "    <tr>\n",
       "      <th id=\"T_3a9ea_level0_row31\" class=\"row_heading level0 row31\" >1992</th>\n",
       "      <td id=\"T_3a9ea_row31_col0\" class=\"data row31 col0\" >987</td>\n",
       "      <td id=\"T_3a9ea_row31_col1\" class=\"data row31 col1\" >21,476</td>\n",
       "      <td id=\"T_3a9ea_row31_col2\" class=\"data row31 col2\" >4.60%</td>\n",
       "    </tr>\n",
       "    <tr>\n",
       "      <th id=\"T_3a9ea_level0_row32\" class=\"row_heading level0 row32\" >1997</th>\n",
       "      <td id=\"T_3a9ea_row32_col0\" class=\"data row32 col0\" >612</td>\n",
       "      <td id=\"T_3a9ea_row32_col1\" class=\"data row32 col1\" >21,476</td>\n",
       "      <td id=\"T_3a9ea_row32_col2\" class=\"data row32 col2\" >2.85%</td>\n",
       "    </tr>\n",
       "    <tr>\n",
       "      <th id=\"T_3a9ea_level0_row33\" class=\"row_heading level0 row33\" >1999</th>\n",
       "      <td id=\"T_3a9ea_row33_col0\" class=\"data row33 col0\" >612</td>\n",
       "      <td id=\"T_3a9ea_row33_col1\" class=\"data row33 col1\" >21,476</td>\n",
       "      <td id=\"T_3a9ea_row33_col2\" class=\"data row33 col2\" >2.85%</td>\n",
       "    </tr>\n",
       "    <tr>\n",
       "      <th id=\"T_3a9ea_level0_row34\" class=\"row_heading level0 row34\" >1998</th>\n",
       "      <td id=\"T_3a9ea_row34_col0\" class=\"data row34 col0\" >612</td>\n",
       "      <td id=\"T_3a9ea_row34_col1\" class=\"data row34 col1\" >21,476</td>\n",
       "      <td id=\"T_3a9ea_row34_col2\" class=\"data row34 col2\" >2.85%</td>\n",
       "    </tr>\n",
       "    <tr>\n",
       "      <th id=\"T_3a9ea_level0_row35\" class=\"row_heading level0 row35\" >1994</th>\n",
       "      <td id=\"T_3a9ea_row35_col0\" class=\"data row35 col0\" >612</td>\n",
       "      <td id=\"T_3a9ea_row35_col1\" class=\"data row35 col1\" >21,476</td>\n",
       "      <td id=\"T_3a9ea_row35_col2\" class=\"data row35 col2\" >2.85%</td>\n",
       "    </tr>\n",
       "    <tr>\n",
       "      <th id=\"T_3a9ea_level0_row36\" class=\"row_heading level0 row36\" >1996</th>\n",
       "      <td id=\"T_3a9ea_row36_col0\" class=\"data row36 col0\" >612</td>\n",
       "      <td id=\"T_3a9ea_row36_col1\" class=\"data row36 col1\" >21,476</td>\n",
       "      <td id=\"T_3a9ea_row36_col2\" class=\"data row36 col2\" >2.85%</td>\n",
       "    </tr>\n",
       "    <tr>\n",
       "      <th id=\"T_3a9ea_level0_row37\" class=\"row_heading level0 row37\" >1995</th>\n",
       "      <td id=\"T_3a9ea_row37_col0\" class=\"data row37 col0\" >612</td>\n",
       "      <td id=\"T_3a9ea_row37_col1\" class=\"data row37 col1\" >21,476</td>\n",
       "      <td id=\"T_3a9ea_row37_col2\" class=\"data row37 col2\" >2.85%</td>\n",
       "    </tr>\n",
       "    <tr>\n",
       "      <th id=\"T_3a9ea_level0_row38\" class=\"row_heading level0 row38\" >1993</th>\n",
       "      <td id=\"T_3a9ea_row38_col0\" class=\"data row38 col0\" >612</td>\n",
       "      <td id=\"T_3a9ea_row38_col1\" class=\"data row38 col1\" >21,476</td>\n",
       "      <td id=\"T_3a9ea_row38_col2\" class=\"data row38 col2\" >2.85%</td>\n",
       "    </tr>\n",
       "    <tr>\n",
       "      <th id=\"T_3a9ea_level0_row39\" class=\"row_heading level0 row39\" >2000</th>\n",
       "      <td id=\"T_3a9ea_row39_col0\" class=\"data row39 col0\" >349</td>\n",
       "      <td id=\"T_3a9ea_row39_col1\" class=\"data row39 col1\" >21,476</td>\n",
       "      <td id=\"T_3a9ea_row39_col2\" class=\"data row39 col2\" >1.63%</td>\n",
       "    </tr>\n",
       "    <tr>\n",
       "      <th id=\"T_3a9ea_level0_row40\" class=\"row_heading level0 row40\" >2001</th>\n",
       "      <td id=\"T_3a9ea_row40_col0\" class=\"data row40 col0\" >349</td>\n",
       "      <td id=\"T_3a9ea_row40_col1\" class=\"data row40 col1\" >21,476</td>\n",
       "      <td id=\"T_3a9ea_row40_col2\" class=\"data row40 col2\" >1.63%</td>\n",
       "    </tr>\n",
       "    <tr>\n",
       "      <th id=\"T_3a9ea_level0_row41\" class=\"row_heading level0 row41\" >2002</th>\n",
       "      <td id=\"T_3a9ea_row41_col0\" class=\"data row41 col0\" >349</td>\n",
       "      <td id=\"T_3a9ea_row41_col1\" class=\"data row41 col1\" >21,476</td>\n",
       "      <td id=\"T_3a9ea_row41_col2\" class=\"data row41 col2\" >1.63%</td>\n",
       "    </tr>\n",
       "    <tr>\n",
       "      <th id=\"T_3a9ea_level0_row42\" class=\"row_heading level0 row42\" >2003</th>\n",
       "      <td id=\"T_3a9ea_row42_col0\" class=\"data row42 col0\" >349</td>\n",
       "      <td id=\"T_3a9ea_row42_col1\" class=\"data row42 col1\" >21,476</td>\n",
       "      <td id=\"T_3a9ea_row42_col2\" class=\"data row42 col2\" >1.63%</td>\n",
       "    </tr>\n",
       "    <tr>\n",
       "      <th id=\"T_3a9ea_level0_row43\" class=\"row_heading level0 row43\" >2004</th>\n",
       "      <td id=\"T_3a9ea_row43_col0\" class=\"data row43 col0\" >349</td>\n",
       "      <td id=\"T_3a9ea_row43_col1\" class=\"data row43 col1\" >21,476</td>\n",
       "      <td id=\"T_3a9ea_row43_col2\" class=\"data row43 col2\" >1.63%</td>\n",
       "    </tr>\n",
       "    <tr>\n",
       "      <th id=\"T_3a9ea_level0_row44\" class=\"row_heading level0 row44\" >2005</th>\n",
       "      <td id=\"T_3a9ea_row44_col0\" class=\"data row44 col0\" >349</td>\n",
       "      <td id=\"T_3a9ea_row44_col1\" class=\"data row44 col1\" >21,476</td>\n",
       "      <td id=\"T_3a9ea_row44_col2\" class=\"data row44 col2\" >1.63%</td>\n",
       "    </tr>\n",
       "    <tr>\n",
       "      <th id=\"T_3a9ea_level0_row45\" class=\"row_heading level0 row45\" >2006</th>\n",
       "      <td id=\"T_3a9ea_row45_col0\" class=\"data row45 col0\" >104</td>\n",
       "      <td id=\"T_3a9ea_row45_col1\" class=\"data row45 col1\" >21,476</td>\n",
       "      <td id=\"T_3a9ea_row45_col2\" class=\"data row45 col2\" >0.48%</td>\n",
       "    </tr>\n",
       "    <tr>\n",
       "      <th id=\"T_3a9ea_level0_row46\" class=\"row_heading level0 row46\" >2007</th>\n",
       "      <td id=\"T_3a9ea_row46_col0\" class=\"data row46 col0\" >104</td>\n",
       "      <td id=\"T_3a9ea_row46_col1\" class=\"data row46 col1\" >21,476</td>\n",
       "      <td id=\"T_3a9ea_row46_col2\" class=\"data row46 col2\" >0.48%</td>\n",
       "    </tr>\n",
       "    <tr>\n",
       "      <th id=\"T_3a9ea_level0_row47\" class=\"row_heading level0 row47\" >2008</th>\n",
       "      <td id=\"T_3a9ea_row47_col0\" class=\"data row47 col0\" >104</td>\n",
       "      <td id=\"T_3a9ea_row47_col1\" class=\"data row47 col1\" >21,476</td>\n",
       "      <td id=\"T_3a9ea_row47_col2\" class=\"data row47 col2\" >0.48%</td>\n",
       "    </tr>\n",
       "    <tr>\n",
       "      <th id=\"T_3a9ea_level0_row48\" class=\"row_heading level0 row48\" >2009</th>\n",
       "      <td id=\"T_3a9ea_row48_col0\" class=\"data row48 col0\" >104</td>\n",
       "      <td id=\"T_3a9ea_row48_col1\" class=\"data row48 col1\" >21,476</td>\n",
       "      <td id=\"T_3a9ea_row48_col2\" class=\"data row48 col2\" >0.48%</td>\n",
       "    </tr>\n",
       "    <tr>\n",
       "      <th id=\"T_3a9ea_level0_row49\" class=\"row_heading level0 row49\" >2010</th>\n",
       "      <td id=\"T_3a9ea_row49_col0\" class=\"data row49 col0\" >104</td>\n",
       "      <td id=\"T_3a9ea_row49_col1\" class=\"data row49 col1\" >21,476</td>\n",
       "      <td id=\"T_3a9ea_row49_col2\" class=\"data row49 col2\" >0.48%</td>\n",
       "    </tr>\n",
       "    <tr>\n",
       "      <th id=\"T_3a9ea_level0_row50\" class=\"row_heading level0 row50\" >2011</th>\n",
       "      <td id=\"T_3a9ea_row50_col0\" class=\"data row50 col0\" >104</td>\n",
       "      <td id=\"T_3a9ea_row50_col1\" class=\"data row50 col1\" >21,476</td>\n",
       "      <td id=\"T_3a9ea_row50_col2\" class=\"data row50 col2\" >0.48%</td>\n",
       "    </tr>\n",
       "  </tbody>\n",
       "</table>\n"
      ],
      "text/plain": [
       "<pandas.io.formats.style.Styler at 0x2203a406fa0>"
      ]
     },
     "execution_count": 97,
     "metadata": {},
     "output_type": "execute_result"
    }
   ],
   "source": [
    "clean_fao.stb.missing(clip_0=True, style=True)"
   ]
  },
  {
   "cell_type": "markdown",
   "id": "2c1e9224",
   "metadata": {},
   "source": [
    "Let's create a dataframe containing only the years variables"
   ]
  },
  {
   "cell_type": "code",
   "execution_count": 98,
   "id": "ddddeb4a",
   "metadata": {},
   "outputs": [],
   "source": [
    "year_df = clean_fao[years]"
   ]
  },
  {
   "cell_type": "markdown",
   "id": "2e4dd527",
   "metadata": {},
   "source": [
    "First let's drop all the rows that contain all NaN values, if there are any"
   ]
  },
  {
   "cell_type": "code",
   "execution_count": 37,
   "id": "59c7e6b9",
   "metadata": {},
   "outputs": [],
   "source": [
    "clean_fao = clean_fao.dropna(how='all')"
   ]
  },
  {
   "cell_type": "markdown",
   "id": "d21e4e13",
   "metadata": {},
   "source": [
    "Since the only NaN values in the dataframe are in the numeric columns, let's fill all the remaining NaN values with 0"
   ]
  },
  {
   "cell_type": "code",
   "execution_count": 38,
   "id": "ac259b28",
   "metadata": {},
   "outputs": [],
   "source": [
    "clean_fao.fillna(0, inplace=True)"
   ]
  },
  {
   "cell_type": "markdown",
   "id": "2948a729",
   "metadata": {},
   "source": [
    "Lastly we  create a list of index of the rows of the years dataframe that has only 0 values"
   ]
  },
  {
   "cell_type": "code",
   "execution_count": 39,
   "id": "8c278e56",
   "metadata": {},
   "outputs": [],
   "source": [
    "idx_to_drop = year_df.loc[(year_df == 0).all(axis=1)].index"
   ]
  },
  {
   "cell_type": "markdown",
   "id": "24f632f9",
   "metadata": {},
   "source": [
    "Finally droping those rows"
   ]
  },
  {
   "cell_type": "code",
   "execution_count": 40,
   "id": "78a31419",
   "metadata": {},
   "outputs": [],
   "source": [
    "clean_fao = clean_fao.drop(labels=idx_to_drop)"
   ]
  },
  {
   "cell_type": "markdown",
   "id": "659a5af9",
   "metadata": {},
   "source": [
    "Updating the years dataset with the NaN value dropped"
   ]
  },
  {
   "cell_type": "code",
   "execution_count": 41,
   "id": "8fe6dad9",
   "metadata": {},
   "outputs": [],
   "source": [
    "year_df = clean_fao[years]"
   ]
  },
  {
   "cell_type": "markdown",
   "id": "872898ba",
   "metadata": {},
   "source": [
    "### Food Production Data"
   ]
  },
  {
   "cell_type": "code",
   "execution_count": 42,
   "id": "7b76e6e7",
   "metadata": {},
   "outputs": [
    {
     "data": {
      "text/html": [
       "<div>\n",
       "<style scoped>\n",
       "    .dataframe tbody tr th:only-of-type {\n",
       "        vertical-align: middle;\n",
       "    }\n",
       "\n",
       "    .dataframe tbody tr th {\n",
       "        vertical-align: top;\n",
       "    }\n",
       "\n",
       "    .dataframe thead th {\n",
       "        text-align: right;\n",
       "    }\n",
       "</style>\n",
       "<table border=\"1\" class=\"dataframe\">\n",
       "  <thead>\n",
       "    <tr style=\"text-align: right;\">\n",
       "      <th></th>\n",
       "      <th>Food product</th>\n",
       "      <th>Land use change</th>\n",
       "      <th>Animal Feed</th>\n",
       "      <th>Farm</th>\n",
       "      <th>Processing</th>\n",
       "      <th>Transport</th>\n",
       "      <th>Packging</th>\n",
       "      <th>Retail</th>\n",
       "      <th>Total_emissions</th>\n",
       "      <th>Eutrophying emissions per 1000kcal (gPO₄eq per 1000kcal)</th>\n",
       "      <th>Eutrophying emissions per kilogram (gPO₄eq per kilogram)</th>\n",
       "      <th>Eutrophying emissions per 100g protein (gPO₄eq per 100 grams protein)</th>\n",
       "      <th>Freshwater withdrawals per 1000kcal (liters per 1000kcal)</th>\n",
       "      <th>Freshwater withdrawals per 100g protein (liters per 100g protein)</th>\n",
       "      <th>Freshwater withdrawals per kilogram (liters per kilogram)</th>\n",
       "      <th>Greenhouse gas emissions per 1000kcal (kgCO₂eq per 1000kcal)</th>\n",
       "      <th>Greenhouse gas emissions per 100g protein (kgCO₂eq per 100g protein)</th>\n",
       "      <th>Land use per 1000kcal (m² per 1000kcal)</th>\n",
       "      <th>Land use per kilogram (m² per kilogram)</th>\n",
       "      <th>Land use per 100g protein (m² per 100g protein)</th>\n",
       "      <th>Scarcity-weighted water use per kilogram (liters per kilogram)</th>\n",
       "      <th>Scarcity-weighted water use per 100g protein (liters per 100g protein)</th>\n",
       "      <th>Scarcity-weighted water use per 1000kcal (liters per 1000 kilocalories)</th>\n",
       "    </tr>\n",
       "  </thead>\n",
       "  <tbody>\n",
       "    <tr>\n",
       "      <th>0</th>\n",
       "      <td>Wheat &amp; Rye (Bread)</td>\n",
       "      <td>0.10</td>\n",
       "      <td>0.00</td>\n",
       "      <td>0.80</td>\n",
       "      <td>0.20</td>\n",
       "      <td>0.10</td>\n",
       "      <td>0.10</td>\n",
       "      <td>0.10</td>\n",
       "      <td>1.40</td>\n",
       "      <td>NaN</td>\n",
       "      <td>NaN</td>\n",
       "      <td>NaN</td>\n",
       "      <td>NaN</td>\n",
       "      <td>NaN</td>\n",
       "      <td>NaN</td>\n",
       "      <td>NaN</td>\n",
       "      <td>NaN</td>\n",
       "      <td>NaN</td>\n",
       "      <td>NaN</td>\n",
       "      <td>NaN</td>\n",
       "      <td>NaN</td>\n",
       "      <td>NaN</td>\n",
       "      <td>NaN</td>\n",
       "    </tr>\n",
       "    <tr>\n",
       "      <th>1</th>\n",
       "      <td>Maize (Meal)</td>\n",
       "      <td>0.30</td>\n",
       "      <td>0.00</td>\n",
       "      <td>0.50</td>\n",
       "      <td>0.10</td>\n",
       "      <td>0.10</td>\n",
       "      <td>0.10</td>\n",
       "      <td>0.00</td>\n",
       "      <td>1.10</td>\n",
       "      <td>NaN</td>\n",
       "      <td>NaN</td>\n",
       "      <td>NaN</td>\n",
       "      <td>NaN</td>\n",
       "      <td>NaN</td>\n",
       "      <td>NaN</td>\n",
       "      <td>NaN</td>\n",
       "      <td>NaN</td>\n",
       "      <td>NaN</td>\n",
       "      <td>NaN</td>\n",
       "      <td>NaN</td>\n",
       "      <td>NaN</td>\n",
       "      <td>NaN</td>\n",
       "      <td>NaN</td>\n",
       "    </tr>\n",
       "    <tr>\n",
       "      <th>2</th>\n",
       "      <td>Barley (Beer)</td>\n",
       "      <td>0.00</td>\n",
       "      <td>0.00</td>\n",
       "      <td>0.20</td>\n",
       "      <td>0.10</td>\n",
       "      <td>0.00</td>\n",
       "      <td>0.50</td>\n",
       "      <td>0.30</td>\n",
       "      <td>1.10</td>\n",
       "      <td>NaN</td>\n",
       "      <td>NaN</td>\n",
       "      <td>NaN</td>\n",
       "      <td>NaN</td>\n",
       "      <td>NaN</td>\n",
       "      <td>NaN</td>\n",
       "      <td>NaN</td>\n",
       "      <td>NaN</td>\n",
       "      <td>NaN</td>\n",
       "      <td>NaN</td>\n",
       "      <td>NaN</td>\n",
       "      <td>NaN</td>\n",
       "      <td>NaN</td>\n",
       "      <td>NaN</td>\n",
       "    </tr>\n",
       "    <tr>\n",
       "      <th>3</th>\n",
       "      <td>Oatmeal</td>\n",
       "      <td>0.00</td>\n",
       "      <td>0.00</td>\n",
       "      <td>1.40</td>\n",
       "      <td>0.00</td>\n",
       "      <td>0.10</td>\n",
       "      <td>0.10</td>\n",
       "      <td>0.00</td>\n",
       "      <td>1.60</td>\n",
       "      <td>4.28</td>\n",
       "      <td>11.23</td>\n",
       "      <td>8.64</td>\n",
       "      <td>183.91</td>\n",
       "      <td>371.08</td>\n",
       "      <td>482.40</td>\n",
       "      <td>0.95</td>\n",
       "      <td>1.91</td>\n",
       "      <td>2.90</td>\n",
       "      <td>7.60</td>\n",
       "      <td>5.85</td>\n",
       "      <td>18,786.20</td>\n",
       "      <td>14,450.92</td>\n",
       "      <td>7,162.10</td>\n",
       "    </tr>\n",
       "    <tr>\n",
       "      <th>4</th>\n",
       "      <td>Rice</td>\n",
       "      <td>0.00</td>\n",
       "      <td>0.00</td>\n",
       "      <td>3.60</td>\n",
       "      <td>0.10</td>\n",
       "      <td>0.10</td>\n",
       "      <td>0.10</td>\n",
       "      <td>0.10</td>\n",
       "      <td>4.00</td>\n",
       "      <td>9.51</td>\n",
       "      <td>35.07</td>\n",
       "      <td>49.39</td>\n",
       "      <td>609.98</td>\n",
       "      <td>3,166.76</td>\n",
       "      <td>2,248.40</td>\n",
       "      <td>1.21</td>\n",
       "      <td>6.27</td>\n",
       "      <td>0.76</td>\n",
       "      <td>2.80</td>\n",
       "      <td>3.94</td>\n",
       "      <td>49,576.30</td>\n",
       "      <td>69,825.77</td>\n",
       "      <td>13,449.89</td>\n",
       "    </tr>\n",
       "  </tbody>\n",
       "</table>\n",
       "</div>"
      ],
      "text/plain": [
       "          Food product      Land use change          Animal Feed  \\\n",
       "0  Wheat & Rye (Bread)                 0.10                 0.00   \n",
       "1         Maize (Meal)                 0.30                 0.00   \n",
       "2        Barley (Beer)                 0.00                 0.00   \n",
       "3              Oatmeal                 0.00                 0.00   \n",
       "4                 Rice                 0.00                 0.00   \n",
       "\n",
       "                  Farm           Processing            Transport  \\\n",
       "0                 0.80                 0.20                 0.10   \n",
       "1                 0.50                 0.10                 0.10   \n",
       "2                 0.20                 0.10                 0.00   \n",
       "3                 1.40                 0.00                 0.10   \n",
       "4                 3.60                 0.10                 0.10   \n",
       "\n",
       "              Packging               Retail      Total_emissions  \\\n",
       "0                 0.10                 0.10                 1.40   \n",
       "1                 0.10                 0.00                 1.10   \n",
       "2                 0.50                 0.30                 1.10   \n",
       "3                 0.10                 0.00                 1.60   \n",
       "4                 0.10                 0.10                 4.00   \n",
       "\n",
       "   Eutrophying emissions per 1000kcal (gPO₄eq per 1000kcal)  \\\n",
       "0                                                       NaN   \n",
       "1                                                       NaN   \n",
       "2                                                       NaN   \n",
       "3                                                      4.28   \n",
       "4                                                      9.51   \n",
       "\n",
       "   Eutrophying emissions per kilogram (gPO₄eq per kilogram)  \\\n",
       "0                                                       NaN   \n",
       "1                                                       NaN   \n",
       "2                                                       NaN   \n",
       "3                                                     11.23   \n",
       "4                                                     35.07   \n",
       "\n",
       "   Eutrophying emissions per 100g protein (gPO₄eq per 100 grams protein)  \\\n",
       "0                                                                    NaN   \n",
       "1                                                                    NaN   \n",
       "2                                                                    NaN   \n",
       "3                                                                   8.64   \n",
       "4                                                                  49.39   \n",
       "\n",
       "   Freshwater withdrawals per 1000kcal (liters per 1000kcal)  \\\n",
       "0                                                        NaN   \n",
       "1                                                        NaN   \n",
       "2                                                        NaN   \n",
       "3                                                     183.91   \n",
       "4                                                     609.98   \n",
       "\n",
       "   Freshwater withdrawals per 100g protein (liters per 100g protein)  \\\n",
       "0                                                                NaN   \n",
       "1                                                                NaN   \n",
       "2                                                                NaN   \n",
       "3                                                             371.08   \n",
       "4                                                           3,166.76   \n",
       "\n",
       "   Freshwater withdrawals per kilogram (liters per kilogram)  \\\n",
       "0                                                        NaN   \n",
       "1                                                        NaN   \n",
       "2                                                        NaN   \n",
       "3                                                     482.40   \n",
       "4                                                   2,248.40   \n",
       "\n",
       "   Greenhouse gas emissions per 1000kcal (kgCO₂eq per 1000kcal)  \\\n",
       "0                                                           NaN   \n",
       "1                                                           NaN   \n",
       "2                                                           NaN   \n",
       "3                                                          0.95   \n",
       "4                                                          1.21   \n",
       "\n",
       "   Greenhouse gas emissions per 100g protein (kgCO₂eq per 100g protein)  \\\n",
       "0                                                                   NaN   \n",
       "1                                                                   NaN   \n",
       "2                                                                   NaN   \n",
       "3                                                                  1.91   \n",
       "4                                                                  6.27   \n",
       "\n",
       "   Land use per 1000kcal (m² per 1000kcal)  \\\n",
       "0                                      NaN   \n",
       "1                                      NaN   \n",
       "2                                      NaN   \n",
       "3                                     2.90   \n",
       "4                                     0.76   \n",
       "\n",
       "   Land use per kilogram (m² per kilogram)  \\\n",
       "0                                      NaN   \n",
       "1                                      NaN   \n",
       "2                                      NaN   \n",
       "3                                     7.60   \n",
       "4                                     2.80   \n",
       "\n",
       "   Land use per 100g protein (m² per 100g protein)  \\\n",
       "0                                              NaN   \n",
       "1                                              NaN   \n",
       "2                                              NaN   \n",
       "3                                             5.85   \n",
       "4                                             3.94   \n",
       "\n",
       "   Scarcity-weighted water use per kilogram (liters per kilogram)  \\\n",
       "0                                                             NaN   \n",
       "1                                                             NaN   \n",
       "2                                                             NaN   \n",
       "3                                                       18,786.20   \n",
       "4                                                       49,576.30   \n",
       "\n",
       "   Scarcity-weighted water use per 100g protein (liters per 100g protein)  \\\n",
       "0                                                                     NaN   \n",
       "1                                                                     NaN   \n",
       "2                                                                     NaN   \n",
       "3                                                               14,450.92   \n",
       "4                                                               69,825.77   \n",
       "\n",
       "   Scarcity-weighted water use per 1000kcal (liters per 1000 kilocalories)  \n",
       "0                                                                      NaN  \n",
       "1                                                                      NaN  \n",
       "2                                                                      NaN  \n",
       "3                                                                 7,162.10  \n",
       "4                                                                13,449.89  "
      ]
     },
     "execution_count": 42,
     "metadata": {},
     "output_type": "execute_result"
    }
   ],
   "source": [
    "food_pr_df.head()"
   ]
  },
  {
   "cell_type": "code",
   "execution_count": 43,
   "id": "5beda68e",
   "metadata": {},
   "outputs": [
    {
     "data": {
      "text/plain": [
       "(43, 23)"
      ]
     },
     "execution_count": 43,
     "metadata": {},
     "output_type": "execute_result"
    }
   ],
   "source": [
    "food_pr_df.shape"
   ]
  },
  {
   "cell_type": "code",
   "execution_count": 44,
   "id": "fb7a7d0b",
   "metadata": {},
   "outputs": [
    {
     "data": {
      "text/plain": [
       "Index(['Food product', 'Land use change', 'Animal Feed', 'Farm', 'Processing',\n",
       "       'Transport', 'Packging', 'Retail', 'Total_emissions',\n",
       "       'Eutrophying emissions per 1000kcal (gPO₄eq per 1000kcal)',\n",
       "       'Eutrophying emissions per kilogram (gPO₄eq per kilogram)',\n",
       "       'Eutrophying emissions per 100g protein (gPO₄eq per 100 grams protein)',\n",
       "       'Freshwater withdrawals per 1000kcal (liters per 1000kcal)',\n",
       "       'Freshwater withdrawals per 100g protein (liters per 100g protein)',\n",
       "       'Freshwater withdrawals per kilogram (liters per kilogram)',\n",
       "       'Greenhouse gas emissions per 1000kcal (kgCO₂eq per 1000kcal)',\n",
       "       'Greenhouse gas emissions per 100g protein (kgCO₂eq per 100g protein)',\n",
       "       'Land use per 1000kcal (m² per 1000kcal)',\n",
       "       'Land use per kilogram (m² per kilogram)',\n",
       "       'Land use per 100g protein (m² per 100g protein)',\n",
       "       'Scarcity-weighted water use per kilogram (liters per kilogram)',\n",
       "       'Scarcity-weighted water use per 100g protein (liters per 100g protein)',\n",
       "       'Scarcity-weighted water use per 1000kcal (liters per 1000 kilocalories)'],\n",
       "      dtype='object')"
      ]
     },
     "execution_count": 44,
     "metadata": {},
     "output_type": "execute_result"
    }
   ],
   "source": [
    "food_pr_df.columns"
   ]
  },
  {
   "cell_type": "markdown",
   "id": "54c4f35b",
   "metadata": {},
   "source": [
    "Dropping unecessary columns"
   ]
  },
  {
   "cell_type": "code",
   "execution_count": 45,
   "id": "c54d4267",
   "metadata": {},
   "outputs": [],
   "source": [
    "to_drop = [\n",
    "       'Eutrophying emissions per 1000kcal (gPO₄eq per 1000kcal)',\n",
    "       'Eutrophying emissions per 100g protein (gPO₄eq per 100 grams protein)',\n",
    "       'Freshwater withdrawals per 1000kcal (liters per 1000kcal)',\n",
    "       'Freshwater withdrawals per 100g protein (liters per 100g protein)',\n",
    "       'Greenhouse gas emissions per 1000kcal (kgCO₂eq per 1000kcal)',\n",
    "       'Greenhouse gas emissions per 100g protein (kgCO₂eq per 100g protein)',\n",
    "       'Land use per 1000kcal (m² per 1000kcal)',\n",
    "       'Land use per 100g protein (m² per 100g protein)',\n",
    "       'Scarcity-weighted water use per 100g protein (liters per 100g protein)',\n",
    "       'Scarcity-weighted water use per 1000kcal (liters per 1000 kilocalories)'\n",
    "       ]\n",
    "food_pr_df.drop(to_drop, axis=1, inplace=True)"
   ]
  },
  {
   "cell_type": "markdown",
   "id": "2ce96cce",
   "metadata": {},
   "source": [
    "Removing missing values"
   ]
  },
  {
   "cell_type": "code",
   "execution_count": 46,
   "id": "b2375b96",
   "metadata": {},
   "outputs": [],
   "source": [
    "food_pr_df.dropna(\n",
    "    how='all', \n",
    "    subset=['Eutrophying emissions per kilogram (gPO₄eq per kilogram)', \n",
    "            'Freshwater withdrawals per kilogram (liters per kilogram)', \n",
    "            'Land use per kilogram (m² per kilogram)',\n",
    "            'Scarcity-weighted water use per kilogram (liters per kilogram)'\n",
    "            ],\n",
    "    inplace=True)"
   ]
  },
  {
   "cell_type": "markdown",
   "id": "b92ec100-4055-43f5-a56a-d4240cec3322",
   "metadata": {},
   "source": [
    "# Data Exploration/Data Transformation"
   ]
  },
  {
   "cell_type": "markdown",
   "id": "0f8c3e53",
   "metadata": {},
   "source": [
    "Calculating the total production for item from 1961 to 2012"
   ]
  },
  {
   "cell_type": "code",
   "execution_count": 47,
   "id": "48fb15f2",
   "metadata": {},
   "outputs": [],
   "source": [
    "clean_fao['Total Production'] = clean_fao[years].sum(axis=1)"
   ]
  },
  {
   "cell_type": "code",
   "execution_count": 48,
   "id": "486dfc92",
   "metadata": {},
   "outputs": [],
   "source": [
    "# filtering datasets for 'Food' and 'Feed' \n",
    "cond_1 = clean_fao['Element'] == 'Food'\n",
    "cond_2 = clean_fao['Element'] == 'Feed'\n",
    "\n",
    "#creating those datasets\n",
    "Food = clean_fao.loc[cond_1, :]\n",
    "Feed = clean_fao.loc[cond_2, :]"
   ]
  },
  {
   "cell_type": "markdown",
   "id": "fb6f4a84",
   "metadata": {},
   "source": [
    "Calculating the mean of production from the first year of production of the item"
   ]
  },
  {
   "cell_type": "code",
   "execution_count": null,
   "id": "230d867a",
   "metadata": {},
   "outputs": [],
   "source": [
    "#tentativo fallimentare di trovare una media a partire dal primo valore non nullo per riga della produzione\n",
    "# def func(row):\n",
    "#     a = np.array(year_df.loc[row, :])\n",
    "#     ind = np.nonzero(a > 0)[0][0]\n",
    "#     if ind == 0:\n",
    "#         mean = clean_fao['Total Production'] / len(a)\n",
    "#         return mean\n",
    "#     elif ind > 0 and ind < len(a):\n",
    "#         mean = clean_fao['Total Production'] / (len(a) - (ind-1))\n",
    "#         return mean\n",
    "#     elif ind == len(a):\n",
    "#         mean = 0\n",
    "#         return mean        \n",
    "             \n",
    "# clean_fao['mean prod'] = year_df.apply(func, raw=True, axis=1)\n",
    "        "
   ]
  },
  {
   "cell_type": "code",
   "execution_count": 49,
   "id": "a0a65a37",
   "metadata": {},
   "outputs": [
    {
     "data": {
      "text/html": [
       "<div>\n",
       "<style scoped>\n",
       "    .dataframe tbody tr th:only-of-type {\n",
       "        vertical-align: middle;\n",
       "    }\n",
       "\n",
       "    .dataframe tbody tr th {\n",
       "        vertical-align: top;\n",
       "    }\n",
       "\n",
       "    .dataframe thead th {\n",
       "        text-align: right;\n",
       "    }\n",
       "</style>\n",
       "<table border=\"1\" class=\"dataframe\">\n",
       "  <thead>\n",
       "    <tr style=\"text-align: right;\">\n",
       "      <th></th>\n",
       "      <th>Land use change</th>\n",
       "      <th>Animal Feed</th>\n",
       "      <th>Farm</th>\n",
       "      <th>Processing</th>\n",
       "      <th>Transport</th>\n",
       "      <th>Packging</th>\n",
       "      <th>Retail</th>\n",
       "      <th>Total_emissions</th>\n",
       "      <th>Eutrophying emissions per kilogram (gPO₄eq per kilogram)</th>\n",
       "      <th>Freshwater withdrawals per kilogram (liters per kilogram)</th>\n",
       "      <th>Land use per kilogram (m² per kilogram)</th>\n",
       "      <th>Scarcity-weighted water use per kilogram (liters per kilogram)</th>\n",
       "    </tr>\n",
       "  </thead>\n",
       "  <tbody>\n",
       "    <tr>\n",
       "      <th>count</th>\n",
       "      <td>38.00</td>\n",
       "      <td>38.00</td>\n",
       "      <td>38.00</td>\n",
       "      <td>38.00</td>\n",
       "      <td>38.00</td>\n",
       "      <td>38.00</td>\n",
       "      <td>38.00</td>\n",
       "      <td>38.00</td>\n",
       "      <td>38.00</td>\n",
       "      <td>38.00</td>\n",
       "      <td>38.00</td>\n",
       "      <td>38.00</td>\n",
       "    </tr>\n",
       "    <tr>\n",
       "      <th>mean</th>\n",
       "      <td>1.38</td>\n",
       "      <td>0.45</td>\n",
       "      <td>3.65</td>\n",
       "      <td>0.26</td>\n",
       "      <td>0.21</td>\n",
       "      <td>0.27</td>\n",
       "      <td>0.06</td>\n",
       "      <td>6.27</td>\n",
       "      <td>46.14</td>\n",
       "      <td>932.61</td>\n",
       "      <td>29.26</td>\n",
       "      <td>36,607.43</td>\n",
       "    </tr>\n",
       "    <tr>\n",
       "      <th>std</th>\n",
       "      <td>3.56</td>\n",
       "      <td>0.91</td>\n",
       "      <td>7.44</td>\n",
       "      <td>0.38</td>\n",
       "      <td>0.16</td>\n",
       "      <td>0.36</td>\n",
       "      <td>0.10</td>\n",
       "      <td>11.05</td>\n",
       "      <td>82.81</td>\n",
       "      <td>1,297.00</td>\n",
       "      <td>78.49</td>\n",
       "      <td>56,891.28</td>\n",
       "    </tr>\n",
       "    <tr>\n",
       "      <th>min</th>\n",
       "      <td>-2.10</td>\n",
       "      <td>0.00</td>\n",
       "      <td>0.10</td>\n",
       "      <td>0.00</td>\n",
       "      <td>0.10</td>\n",
       "      <td>0.00</td>\n",
       "      <td>0.00</td>\n",
       "      <td>0.20</td>\n",
       "      <td>0.69</td>\n",
       "      <td>0.00</td>\n",
       "      <td>0.33</td>\n",
       "      <td>0.00</td>\n",
       "    </tr>\n",
       "    <tr>\n",
       "      <th>25%</th>\n",
       "      <td>0.00</td>\n",
       "      <td>0.00</td>\n",
       "      <td>0.33</td>\n",
       "      <td>0.00</td>\n",
       "      <td>0.10</td>\n",
       "      <td>0.03</td>\n",
       "      <td>0.00</td>\n",
       "      <td>0.80</td>\n",
       "      <td>3.75</td>\n",
       "      <td>105.50</td>\n",
       "      <td>1.11</td>\n",
       "      <td>3,325.07</td>\n",
       "    </tr>\n",
       "    <tr>\n",
       "      <th>50%</th>\n",
       "      <td>0.15</td>\n",
       "      <td>0.00</td>\n",
       "      <td>1.20</td>\n",
       "      <td>0.10</td>\n",
       "      <td>0.10</td>\n",
       "      <td>0.10</td>\n",
       "      <td>0.00</td>\n",
       "      <td>2.00</td>\n",
       "      <td>11.46</td>\n",
       "      <td>417.10</td>\n",
       "      <td>6.87</td>\n",
       "      <td>14,533.05</td>\n",
       "    </tr>\n",
       "    <tr>\n",
       "      <th>75%</th>\n",
       "      <td>0.85</td>\n",
       "      <td>0.00</td>\n",
       "      <td>2.25</td>\n",
       "      <td>0.30</td>\n",
       "      <td>0.28</td>\n",
       "      <td>0.30</td>\n",
       "      <td>0.08</td>\n",
       "      <td>6.00</td>\n",
       "      <td>45.84</td>\n",
       "      <td>1,340.38</td>\n",
       "      <td>14.92</td>\n",
       "      <td>35,960.18</td>\n",
       "    </tr>\n",
       "    <tr>\n",
       "      <th>max</th>\n",
       "      <td>16.30</td>\n",
       "      <td>2.90</td>\n",
       "      <td>39.40</td>\n",
       "      <td>1.30</td>\n",
       "      <td>0.80</td>\n",
       "      <td>1.60</td>\n",
       "      <td>0.30</td>\n",
       "      <td>59.60</td>\n",
       "      <td>365.29</td>\n",
       "      <td>5,605.20</td>\n",
       "      <td>369.81</td>\n",
       "      <td>229,889.80</td>\n",
       "    </tr>\n",
       "  </tbody>\n",
       "</table>\n",
       "</div>"
      ],
      "text/plain": [
       "           Land use change          Animal Feed                 Farm  \\\n",
       "count                38.00                38.00                38.00   \n",
       "mean                  1.38                 0.45                 3.65   \n",
       "std                   3.56                 0.91                 7.44   \n",
       "min                  -2.10                 0.00                 0.10   \n",
       "25%                   0.00                 0.00                 0.33   \n",
       "50%                   0.15                 0.00                 1.20   \n",
       "75%                   0.85                 0.00                 2.25   \n",
       "max                  16.30                 2.90                39.40   \n",
       "\n",
       "                Processing            Transport             Packging  \\\n",
       "count                38.00                38.00                38.00   \n",
       "mean                  0.26                 0.21                 0.27   \n",
       "std                   0.38                 0.16                 0.36   \n",
       "min                   0.00                 0.10                 0.00   \n",
       "25%                   0.00                 0.10                 0.03   \n",
       "50%                   0.10                 0.10                 0.10   \n",
       "75%                   0.30                 0.28                 0.30   \n",
       "max                   1.30                 0.80                 1.60   \n",
       "\n",
       "                    Retail      Total_emissions  \\\n",
       "count                38.00                38.00   \n",
       "mean                  0.06                 6.27   \n",
       "std                   0.10                11.05   \n",
       "min                   0.00                 0.20   \n",
       "25%                   0.00                 0.80   \n",
       "50%                   0.00                 2.00   \n",
       "75%                   0.08                 6.00   \n",
       "max                   0.30                59.60   \n",
       "\n",
       "       Eutrophying emissions per kilogram (gPO₄eq per kilogram)  \\\n",
       "count                                                     38.00   \n",
       "mean                                                      46.14   \n",
       "std                                                       82.81   \n",
       "min                                                        0.69   \n",
       "25%                                                        3.75   \n",
       "50%                                                       11.46   \n",
       "75%                                                       45.84   \n",
       "max                                                      365.29   \n",
       "\n",
       "       Freshwater withdrawals per kilogram (liters per kilogram)  \\\n",
       "count                                                      38.00   \n",
       "mean                                                      932.61   \n",
       "std                                                     1,297.00   \n",
       "min                                                         0.00   \n",
       "25%                                                       105.50   \n",
       "50%                                                       417.10   \n",
       "75%                                                     1,340.38   \n",
       "max                                                     5,605.20   \n",
       "\n",
       "       Land use per kilogram (m² per kilogram)  \\\n",
       "count                                    38.00   \n",
       "mean                                     29.26   \n",
       "std                                      78.49   \n",
       "min                                       0.33   \n",
       "25%                                       1.11   \n",
       "50%                                       6.87   \n",
       "75%                                      14.92   \n",
       "max                                     369.81   \n",
       "\n",
       "       Scarcity-weighted water use per kilogram (liters per kilogram)  \n",
       "count                                                           38.00  \n",
       "mean                                                        36,607.43  \n",
       "std                                                         56,891.28  \n",
       "min                                                              0.00  \n",
       "25%                                                          3,325.07  \n",
       "50%                                                         14,533.05  \n",
       "75%                                                         35,960.18  \n",
       "max                                                        229,889.80  "
      ]
     },
     "execution_count": 49,
     "metadata": {},
     "output_type": "execute_result"
    }
   ],
   "source": [
    "food_pr_df.describe()"
   ]
  },
  {
   "cell_type": "markdown",
   "id": "5628b15f-61e1-4b06-8d30-ac347f5c3e7c",
   "metadata": {},
   "source": [
    "##### Top 10 product for emissions "
   ]
  },
  {
   "cell_type": "code",
   "execution_count": 50,
   "id": "327d5230",
   "metadata": {},
   "outputs": [
    {
     "data": {
      "application/vnd.plotly.v1+json": {
       "config": {
        "plotlyServerURL": "https://plot.ly"
       },
       "data": [
        {
         "alignmentgroup": "True",
         "bingroup": "x",
         "hovertemplate": "Eutrophying emissions per kilogram (gPO₄eq per kilogram)=%{x}<br>count=%{y}<extra></extra>",
         "legendgroup": "",
         "marker": {
          "color": "#636efa",
          "pattern": {
           "shape": ""
          }
         },
         "name": "",
         "offsetgroup": "",
         "orientation": "v",
         "showlegend": false,
         "type": "histogram",
         "x": [
          11.23,
          35.07,
          3.48,
          0.69,
          16.92,
          5.41,
          17.08,
          7.52,
          19.15,
          14.14,
          1.06,
          11.69,
          10.67,
          50.66,
          19.19,
          37.26,
          7.51,
          3.24,
          1.61,
          5.01,
          2.27,
          2.24,
          3.29,
          1.45,
          6.12,
          4.57,
          2.43,
          110.52,
          87.08,
          301.41,
          365.29,
          97.13,
          76.38,
          48.7,
          10.65,
          98.37,
          21.76,
          235.12
         ],
         "xaxis": "x",
         "yaxis": "y"
        },
        {
         "alignmentgroup": "True",
         "customdata": [
          [
           "Oatmeal",
           0,
           0,
           1.4,
           0,
           0.1,
           0.1,
           0,
           1.6,
           482.4,
           7.6,
           18786.2
          ],
          [
           "Rice",
           0,
           0,
           3.6,
           0.1,
           0.1,
           0.1,
           0.1,
           4,
           2248.4,
           2.8,
           49576.3
          ],
          [
           "Potatoes",
           0,
           0,
           0.2,
           0,
           0.1,
           0,
           0,
           0.3,
           59.1,
           0.88,
           2754.2
          ],
          [
           "Cassava",
           0.6,
           0,
           0.2,
           0,
           0.1,
           0,
           0,
           0.9,
           0,
           1.81,
           0
          ],
          [
           "Cane Sugar",
           1.2,
           0,
           0.5,
           0,
           0.8,
           0.1,
           0,
           2.6,
           620.1,
           2.04,
           16438.6
          ],
          [
           "Beet Sugar",
           0,
           0,
           0.5,
           0.2,
           0.6,
           0.1,
           0,
           1.4,
           217.7,
           1.83,
           9493.3
          ],
          [
           "Other Pulses",
           0,
           0,
           1.1,
           0,
           0.1,
           0.4,
           0,
           1.6,
           435.7,
           15.57,
           22477.4
          ],
          [
           "Peas",
           0,
           0,
           0.7,
           0,
           0.1,
           0,
           0,
           0.7999999999999999,
           396.6,
           7.46,
           27948.2
          ],
          [
           "Nuts",
           -2.1,
           0,
           2.1,
           0,
           0.1,
           0.1,
           0,
           0.2,
           4133.8,
           12.96,
           229889.8
          ],
          [
           "Groundnuts",
           0.4,
           0,
           1.4,
           0.4,
           0.1,
           0.1,
           0,
           2.4,
           1852.3,
           9.11,
           61797.9
          ],
          [
           "Soymilk",
           0.2,
           0,
           0.1,
           0.2,
           0.1,
           0.1,
           0.3,
           1,
           27.8,
           0.66,
           955.6
          ],
          [
           "Soybean Oil",
           3.1,
           0,
           1.5,
           0.3,
           0.3,
           0.8,
           0,
           5.999999999999999,
           414.6,
           10.52,
           14888.2
          ],
          [
           "Palm Oil",
           3.1,
           0,
           2.1,
           1.3,
           0.2,
           0.9,
           0,
           7.6,
           6.4,
           2.42,
           36.2
          ],
          [
           "Sunflower Oil",
           0.1,
           0,
           2.1,
           0.2,
           0.2,
           0.9,
           0,
           3.5000000000000004,
           1007.9,
           17.66,
           36369.4
          ],
          [
           "Rapeseed Oil",
           0.2,
           0,
           2.3,
           0.2,
           0.2,
           0.8,
           0,
           3.7,
           237.7,
           10.63,
           10593.7
          ],
          [
           "Olive Oil",
           -0.4,
           0,
           4.3,
           0.7,
           0.5,
           0.9,
           0,
           6,
           2141.8,
           26.31,
           177480.2
          ],
          [
           "Tomatoes",
           0.4,
           0,
           0.7,
           0,
           0.2,
           0.1,
           0,
           1.4,
           369.8,
           0.8,
           5335.7
          ],
          [
           "Onions & Leeks",
           0,
           0,
           0.2,
           0,
           0.1,
           0,
           0,
           0.3,
           14.3,
           0.39,
           932
          ],
          [
           "Root Vegetables",
           0,
           0,
           0.2,
           0,
           0.1,
           0,
           0,
           0.3,
           28.4,
           0.33,
           929.2
          ],
          [
           "Brassicas",
           0,
           0,
           0.3,
           0,
           0.1,
           0,
           0,
           0.4,
           119.4,
           0.55,
           8455.1
          ],
          [
           "Other Vegetables",
           0,
           0,
           0.2,
           0.1,
           0.2,
           0,
           0,
           0.5,
           102.5,
           0.38,
           4911.4
          ],
          [
           "Citrus Fruit",
           -0.1,
           0,
           0.3,
           0,
           0.1,
           0,
           0,
           0.3,
           82.7,
           0.86,
           4662.7
          ],
          [
           "Bananas",
           0,
           0,
           0.3,
           0.1,
           0.3,
           0.1,
           0,
           0.7999999999999999,
           114.5,
           1.93,
           661.9
          ],
          [
           "Apples",
           0,
           0,
           0.2,
           0,
           0.1,
           0,
           0,
           0.3,
           180.1,
           0.63,
           12948.6
          ],
          [
           "Berries & Grapes",
           0,
           0,
           0.7,
           0,
           0.2,
           0.2,
           0,
           1.1,
           419.6,
           2.41,
           21162.1
          ],
          [
           "Wine",
           -0.1,
           0,
           0.6,
           0.1,
           0.1,
           0.7,
           0,
           1.4,
           78.9,
           1.78,
           1149.3
          ],
          [
           "Other Fruit",
           0.1,
           0,
           0.4,
           0,
           0.2,
           0,
           0,
           0.7,
           153.5,
           0.89,
           9533.1
          ],
          [
           "Coffee",
           3.7,
           0,
           10.4,
           0.6,
           0.1,
           1.6,
           0.1,
           16.500000000000004,
           25.9,
           21.62,
           337
          ],
          [
           "Dark Chocolate",
           14.3,
           0,
           3.7,
           0.2,
           0.1,
           0.4,
           0,
           18.7,
           540.6,
           68.96,
           2879.2
          ],
          [
           "Beef (beef herd)",
           16.3,
           1.9,
           39.4,
           1.3,
           0.3,
           0.2,
           0.2,
           59.6,
           1451.2,
           326.21,
           34732.5
          ],
          [
           "Beef (dairy herd)",
           0.9,
           2.5,
           15.7,
           1.1,
           0.4,
           0.3,
           0.2,
           21.1,
           2714.3,
           43.24,
           119805.2
          ],
          [
           "Lamb & Mutton",
           0.5,
           2.4,
           19.5,
           1.1,
           0.5,
           0.3,
           0.2,
           24.5,
           1802.8,
           369.81,
           141925
          ],
          [
           "Pig Meat",
           1.5,
           2.9,
           1.7,
           0.3,
           0.3,
           0.3,
           0.2,
           7.2,
           1795.8,
           17.36,
           66867.4
          ],
          [
           "Poultry Meat",
           2.5,
           1.8,
           0.7,
           0.4,
           0.3,
           0.2,
           0.2,
           6.1000000000000005,
           660,
           12.22,
           14177.9
          ],
          [
           "Milk",
           0.5,
           0.2,
           1.5,
           0.1,
           0.1,
           0.1,
           0.3,
           2.8000000000000003,
           628.2,
           8.95,
           19786.3
          ],
          [
           "Cheese",
           4.5,
           2.3,
           13.1,
           0.7,
           0.1,
           0.2,
           0.3,
           21.2,
           5605.2,
           87.79,
           180850.6
          ],
          [
           "Eggs",
           0.7,
           2.2,
           1.3,
           0,
           0.1,
           0.2,
           0,
           4.5,
           577.7,
           6.27,
           17982.7
          ],
          [
           "Fish (farmed)",
           0.5,
           0.8,
           3.6,
           0,
           0.1,
           0.1,
           0,
           5.1,
           3691.3,
           8.41,
           41572.2
          ]
         ],
         "hovertemplate": "Eutrophying emissions per kilogram (gPO₄eq per kilogram)=%{x}<br>Food product=%{customdata[0]}<br>Land use change=%{customdata[1]}<br>Animal Feed=%{customdata[2]}<br>Farm=%{customdata[3]}<br>Processing=%{customdata[4]}<br>Transport=%{customdata[5]}<br>Packging=%{customdata[6]}<br>Retail=%{customdata[7]}<br>Total_emissions=%{customdata[8]}<br>Freshwater withdrawals per kilogram (liters per kilogram)=%{customdata[9]}<br>Land use per kilogram (m² per kilogram)=%{customdata[10]}<br>Scarcity-weighted water use per kilogram (liters per kilogram)=%{customdata[11]}<extra></extra>",
         "legendgroup": "",
         "marker": {
          "color": "#636efa"
         },
         "name": "",
         "notched": true,
         "offsetgroup": "",
         "showlegend": false,
         "type": "box",
         "x": [
          11.23,
          35.07,
          3.48,
          0.69,
          16.92,
          5.41,
          17.08,
          7.52,
          19.15,
          14.14,
          1.06,
          11.69,
          10.67,
          50.66,
          19.19,
          37.26,
          7.51,
          3.24,
          1.61,
          5.01,
          2.27,
          2.24,
          3.29,
          1.45,
          6.12,
          4.57,
          2.43,
          110.52,
          87.08,
          301.41,
          365.29,
          97.13,
          76.38,
          48.7,
          10.65,
          98.37,
          21.76,
          235.12
         ],
         "xaxis": "x2",
         "yaxis": "y2"
        }
       ],
       "layout": {
        "barmode": "relative",
        "legend": {
         "tracegroupgap": 0
        },
        "margin": {
         "t": 60
        },
        "template": {
         "data": {
          "bar": [
           {
            "error_x": {
             "color": "#2a3f5f"
            },
            "error_y": {
             "color": "#2a3f5f"
            },
            "marker": {
             "line": {
              "color": "#E5ECF6",
              "width": 0.5
             },
             "pattern": {
              "fillmode": "overlay",
              "size": 10,
              "solidity": 0.2
             }
            },
            "type": "bar"
           }
          ],
          "barpolar": [
           {
            "marker": {
             "line": {
              "color": "#E5ECF6",
              "width": 0.5
             },
             "pattern": {
              "fillmode": "overlay",
              "size": 10,
              "solidity": 0.2
             }
            },
            "type": "barpolar"
           }
          ],
          "carpet": [
           {
            "aaxis": {
             "endlinecolor": "#2a3f5f",
             "gridcolor": "white",
             "linecolor": "white",
             "minorgridcolor": "white",
             "startlinecolor": "#2a3f5f"
            },
            "baxis": {
             "endlinecolor": "#2a3f5f",
             "gridcolor": "white",
             "linecolor": "white",
             "minorgridcolor": "white",
             "startlinecolor": "#2a3f5f"
            },
            "type": "carpet"
           }
          ],
          "choropleth": [
           {
            "colorbar": {
             "outlinewidth": 0,
             "ticks": ""
            },
            "type": "choropleth"
           }
          ],
          "contour": [
           {
            "colorbar": {
             "outlinewidth": 0,
             "ticks": ""
            },
            "colorscale": [
             [
              0,
              "#0d0887"
             ],
             [
              0.1111111111111111,
              "#46039f"
             ],
             [
              0.2222222222222222,
              "#7201a8"
             ],
             [
              0.3333333333333333,
              "#9c179e"
             ],
             [
              0.4444444444444444,
              "#bd3786"
             ],
             [
              0.5555555555555556,
              "#d8576b"
             ],
             [
              0.6666666666666666,
              "#ed7953"
             ],
             [
              0.7777777777777778,
              "#fb9f3a"
             ],
             [
              0.8888888888888888,
              "#fdca26"
             ],
             [
              1,
              "#f0f921"
             ]
            ],
            "type": "contour"
           }
          ],
          "contourcarpet": [
           {
            "colorbar": {
             "outlinewidth": 0,
             "ticks": ""
            },
            "type": "contourcarpet"
           }
          ],
          "heatmap": [
           {
            "colorbar": {
             "outlinewidth": 0,
             "ticks": ""
            },
            "colorscale": [
             [
              0,
              "#0d0887"
             ],
             [
              0.1111111111111111,
              "#46039f"
             ],
             [
              0.2222222222222222,
              "#7201a8"
             ],
             [
              0.3333333333333333,
              "#9c179e"
             ],
             [
              0.4444444444444444,
              "#bd3786"
             ],
             [
              0.5555555555555556,
              "#d8576b"
             ],
             [
              0.6666666666666666,
              "#ed7953"
             ],
             [
              0.7777777777777778,
              "#fb9f3a"
             ],
             [
              0.8888888888888888,
              "#fdca26"
             ],
             [
              1,
              "#f0f921"
             ]
            ],
            "type": "heatmap"
           }
          ],
          "heatmapgl": [
           {
            "colorbar": {
             "outlinewidth": 0,
             "ticks": ""
            },
            "colorscale": [
             [
              0,
              "#0d0887"
             ],
             [
              0.1111111111111111,
              "#46039f"
             ],
             [
              0.2222222222222222,
              "#7201a8"
             ],
             [
              0.3333333333333333,
              "#9c179e"
             ],
             [
              0.4444444444444444,
              "#bd3786"
             ],
             [
              0.5555555555555556,
              "#d8576b"
             ],
             [
              0.6666666666666666,
              "#ed7953"
             ],
             [
              0.7777777777777778,
              "#fb9f3a"
             ],
             [
              0.8888888888888888,
              "#fdca26"
             ],
             [
              1,
              "#f0f921"
             ]
            ],
            "type": "heatmapgl"
           }
          ],
          "histogram": [
           {
            "marker": {
             "pattern": {
              "fillmode": "overlay",
              "size": 10,
              "solidity": 0.2
             }
            },
            "type": "histogram"
           }
          ],
          "histogram2d": [
           {
            "colorbar": {
             "outlinewidth": 0,
             "ticks": ""
            },
            "colorscale": [
             [
              0,
              "#0d0887"
             ],
             [
              0.1111111111111111,
              "#46039f"
             ],
             [
              0.2222222222222222,
              "#7201a8"
             ],
             [
              0.3333333333333333,
              "#9c179e"
             ],
             [
              0.4444444444444444,
              "#bd3786"
             ],
             [
              0.5555555555555556,
              "#d8576b"
             ],
             [
              0.6666666666666666,
              "#ed7953"
             ],
             [
              0.7777777777777778,
              "#fb9f3a"
             ],
             [
              0.8888888888888888,
              "#fdca26"
             ],
             [
              1,
              "#f0f921"
             ]
            ],
            "type": "histogram2d"
           }
          ],
          "histogram2dcontour": [
           {
            "colorbar": {
             "outlinewidth": 0,
             "ticks": ""
            },
            "colorscale": [
             [
              0,
              "#0d0887"
             ],
             [
              0.1111111111111111,
              "#46039f"
             ],
             [
              0.2222222222222222,
              "#7201a8"
             ],
             [
              0.3333333333333333,
              "#9c179e"
             ],
             [
              0.4444444444444444,
              "#bd3786"
             ],
             [
              0.5555555555555556,
              "#d8576b"
             ],
             [
              0.6666666666666666,
              "#ed7953"
             ],
             [
              0.7777777777777778,
              "#fb9f3a"
             ],
             [
              0.8888888888888888,
              "#fdca26"
             ],
             [
              1,
              "#f0f921"
             ]
            ],
            "type": "histogram2dcontour"
           }
          ],
          "mesh3d": [
           {
            "colorbar": {
             "outlinewidth": 0,
             "ticks": ""
            },
            "type": "mesh3d"
           }
          ],
          "parcoords": [
           {
            "line": {
             "colorbar": {
              "outlinewidth": 0,
              "ticks": ""
             }
            },
            "type": "parcoords"
           }
          ],
          "pie": [
           {
            "automargin": true,
            "type": "pie"
           }
          ],
          "scatter": [
           {
            "fillpattern": {
             "fillmode": "overlay",
             "size": 10,
             "solidity": 0.2
            },
            "type": "scatter"
           }
          ],
          "scatter3d": [
           {
            "line": {
             "colorbar": {
              "outlinewidth": 0,
              "ticks": ""
             }
            },
            "marker": {
             "colorbar": {
              "outlinewidth": 0,
              "ticks": ""
             }
            },
            "type": "scatter3d"
           }
          ],
          "scattercarpet": [
           {
            "marker": {
             "colorbar": {
              "outlinewidth": 0,
              "ticks": ""
             }
            },
            "type": "scattercarpet"
           }
          ],
          "scattergeo": [
           {
            "marker": {
             "colorbar": {
              "outlinewidth": 0,
              "ticks": ""
             }
            },
            "type": "scattergeo"
           }
          ],
          "scattergl": [
           {
            "marker": {
             "colorbar": {
              "outlinewidth": 0,
              "ticks": ""
             }
            },
            "type": "scattergl"
           }
          ],
          "scattermapbox": [
           {
            "marker": {
             "colorbar": {
              "outlinewidth": 0,
              "ticks": ""
             }
            },
            "type": "scattermapbox"
           }
          ],
          "scatterpolar": [
           {
            "marker": {
             "colorbar": {
              "outlinewidth": 0,
              "ticks": ""
             }
            },
            "type": "scatterpolar"
           }
          ],
          "scatterpolargl": [
           {
            "marker": {
             "colorbar": {
              "outlinewidth": 0,
              "ticks": ""
             }
            },
            "type": "scatterpolargl"
           }
          ],
          "scatterternary": [
           {
            "marker": {
             "colorbar": {
              "outlinewidth": 0,
              "ticks": ""
             }
            },
            "type": "scatterternary"
           }
          ],
          "surface": [
           {
            "colorbar": {
             "outlinewidth": 0,
             "ticks": ""
            },
            "colorscale": [
             [
              0,
              "#0d0887"
             ],
             [
              0.1111111111111111,
              "#46039f"
             ],
             [
              0.2222222222222222,
              "#7201a8"
             ],
             [
              0.3333333333333333,
              "#9c179e"
             ],
             [
              0.4444444444444444,
              "#bd3786"
             ],
             [
              0.5555555555555556,
              "#d8576b"
             ],
             [
              0.6666666666666666,
              "#ed7953"
             ],
             [
              0.7777777777777778,
              "#fb9f3a"
             ],
             [
              0.8888888888888888,
              "#fdca26"
             ],
             [
              1,
              "#f0f921"
             ]
            ],
            "type": "surface"
           }
          ],
          "table": [
           {
            "cells": {
             "fill": {
              "color": "#EBF0F8"
             },
             "line": {
              "color": "white"
             }
            },
            "header": {
             "fill": {
              "color": "#C8D4E3"
             },
             "line": {
              "color": "white"
             }
            },
            "type": "table"
           }
          ]
         },
         "layout": {
          "annotationdefaults": {
           "arrowcolor": "#2a3f5f",
           "arrowhead": 0,
           "arrowwidth": 1
          },
          "autotypenumbers": "strict",
          "coloraxis": {
           "colorbar": {
            "outlinewidth": 0,
            "ticks": ""
           }
          },
          "colorscale": {
           "diverging": [
            [
             0,
             "#8e0152"
            ],
            [
             0.1,
             "#c51b7d"
            ],
            [
             0.2,
             "#de77ae"
            ],
            [
             0.3,
             "#f1b6da"
            ],
            [
             0.4,
             "#fde0ef"
            ],
            [
             0.5,
             "#f7f7f7"
            ],
            [
             0.6,
             "#e6f5d0"
            ],
            [
             0.7,
             "#b8e186"
            ],
            [
             0.8,
             "#7fbc41"
            ],
            [
             0.9,
             "#4d9221"
            ],
            [
             1,
             "#276419"
            ]
           ],
           "sequential": [
            [
             0,
             "#0d0887"
            ],
            [
             0.1111111111111111,
             "#46039f"
            ],
            [
             0.2222222222222222,
             "#7201a8"
            ],
            [
             0.3333333333333333,
             "#9c179e"
            ],
            [
             0.4444444444444444,
             "#bd3786"
            ],
            [
             0.5555555555555556,
             "#d8576b"
            ],
            [
             0.6666666666666666,
             "#ed7953"
            ],
            [
             0.7777777777777778,
             "#fb9f3a"
            ],
            [
             0.8888888888888888,
             "#fdca26"
            ],
            [
             1,
             "#f0f921"
            ]
           ],
           "sequentialminus": [
            [
             0,
             "#0d0887"
            ],
            [
             0.1111111111111111,
             "#46039f"
            ],
            [
             0.2222222222222222,
             "#7201a8"
            ],
            [
             0.3333333333333333,
             "#9c179e"
            ],
            [
             0.4444444444444444,
             "#bd3786"
            ],
            [
             0.5555555555555556,
             "#d8576b"
            ],
            [
             0.6666666666666666,
             "#ed7953"
            ],
            [
             0.7777777777777778,
             "#fb9f3a"
            ],
            [
             0.8888888888888888,
             "#fdca26"
            ],
            [
             1,
             "#f0f921"
            ]
           ]
          },
          "colorway": [
           "#636efa",
           "#EF553B",
           "#00cc96",
           "#ab63fa",
           "#FFA15A",
           "#19d3f3",
           "#FF6692",
           "#B6E880",
           "#FF97FF",
           "#FECB52"
          ],
          "font": {
           "color": "#2a3f5f"
          },
          "geo": {
           "bgcolor": "white",
           "lakecolor": "white",
           "landcolor": "#E5ECF6",
           "showlakes": true,
           "showland": true,
           "subunitcolor": "white"
          },
          "hoverlabel": {
           "align": "left"
          },
          "hovermode": "closest",
          "mapbox": {
           "style": "light"
          },
          "paper_bgcolor": "white",
          "plot_bgcolor": "#E5ECF6",
          "polar": {
           "angularaxis": {
            "gridcolor": "white",
            "linecolor": "white",
            "ticks": ""
           },
           "bgcolor": "#E5ECF6",
           "radialaxis": {
            "gridcolor": "white",
            "linecolor": "white",
            "ticks": ""
           }
          },
          "scene": {
           "xaxis": {
            "backgroundcolor": "#E5ECF6",
            "gridcolor": "white",
            "gridwidth": 2,
            "linecolor": "white",
            "showbackground": true,
            "ticks": "",
            "zerolinecolor": "white"
           },
           "yaxis": {
            "backgroundcolor": "#E5ECF6",
            "gridcolor": "white",
            "gridwidth": 2,
            "linecolor": "white",
            "showbackground": true,
            "ticks": "",
            "zerolinecolor": "white"
           },
           "zaxis": {
            "backgroundcolor": "#E5ECF6",
            "gridcolor": "white",
            "gridwidth": 2,
            "linecolor": "white",
            "showbackground": true,
            "ticks": "",
            "zerolinecolor": "white"
           }
          },
          "shapedefaults": {
           "line": {
            "color": "#2a3f5f"
           }
          },
          "ternary": {
           "aaxis": {
            "gridcolor": "white",
            "linecolor": "white",
            "ticks": ""
           },
           "baxis": {
            "gridcolor": "white",
            "linecolor": "white",
            "ticks": ""
           },
           "bgcolor": "#E5ECF6",
           "caxis": {
            "gridcolor": "white",
            "linecolor": "white",
            "ticks": ""
           }
          },
          "title": {
           "x": 0.05
          },
          "xaxis": {
           "automargin": true,
           "gridcolor": "white",
           "linecolor": "white",
           "ticks": "",
           "title": {
            "standoff": 15
           },
           "zerolinecolor": "white",
           "zerolinewidth": 2
          },
          "yaxis": {
           "automargin": true,
           "gridcolor": "white",
           "linecolor": "white",
           "ticks": "",
           "title": {
            "standoff": 15
           },
           "zerolinecolor": "white",
           "zerolinewidth": 2
          }
         }
        },
        "xaxis": {
         "anchor": "y",
         "domain": [
          0,
          1
         ],
         "title": {
          "text": "Eutrophying emissions per kilogram (gPO₄eq per kilogram)"
         }
        },
        "xaxis2": {
         "anchor": "y2",
         "domain": [
          0,
          1
         ],
         "matches": "x",
         "showgrid": true,
         "showticklabels": false
        },
        "yaxis": {
         "anchor": "x",
         "domain": [
          0,
          0.8316
         ],
         "title": {
          "text": "count"
         }
        },
        "yaxis2": {
         "anchor": "x2",
         "domain": [
          0.8416,
          1
         ],
         "matches": "y2",
         "showgrid": false,
         "showline": false,
         "showticklabels": false,
         "ticks": ""
        }
       }
      }
     },
     "metadata": {},
     "output_type": "display_data"
    }
   ],
   "source": [
    "fig = px.histogram(food_pr_df, x=food_pr_df['Eutrophying emissions per kilogram (gPO₄eq per kilogram)'],\n",
    "                   marginal=\"box\",\n",
    "                   hover_data=food_pr_df.columns)\n",
    "fig.show()\n"
   ]
  },
  {
   "cell_type": "markdown",
   "id": "48bd7eec",
   "metadata": {},
   "source": [
    "75% of the emissions are under 50 gPO₄eq per kilogram\n",
    "\n",
    "Since we want to know the top product that contributes to the Eutrophyng emissions per kilogram, we first find a threshold above which set the analysys.\n",
    "The threshold is set above the 3rd percentile: "
   ]
  },
  {
   "cell_type": "code",
   "execution_count": 51,
   "id": "06d8d6cc",
   "metadata": {},
   "outputs": [
    {
     "data": {
      "text/html": [
       "<div>\n",
       "<style scoped>\n",
       "    .dataframe tbody tr th:only-of-type {\n",
       "        vertical-align: middle;\n",
       "    }\n",
       "\n",
       "    .dataframe tbody tr th {\n",
       "        vertical-align: top;\n",
       "    }\n",
       "\n",
       "    .dataframe thead th {\n",
       "        text-align: right;\n",
       "    }\n",
       "</style>\n",
       "<table border=\"1\" class=\"dataframe\">\n",
       "  <thead>\n",
       "    <tr style=\"text-align: right;\">\n",
       "      <th></th>\n",
       "      <th>Food product</th>\n",
       "      <th>Eutrophying emissions per kilogram (gPO₄eq per kilogram)</th>\n",
       "    </tr>\n",
       "  </thead>\n",
       "  <tbody>\n",
       "    <tr>\n",
       "      <th>34</th>\n",
       "      <td>Beef (dairy herd)</td>\n",
       "      <td>365.29</td>\n",
       "    </tr>\n",
       "    <tr>\n",
       "      <th>33</th>\n",
       "      <td>Beef (beef herd)</td>\n",
       "      <td>301.41</td>\n",
       "    </tr>\n",
       "    <tr>\n",
       "      <th>41</th>\n",
       "      <td>Fish (farmed)</td>\n",
       "      <td>235.12</td>\n",
       "    </tr>\n",
       "    <tr>\n",
       "      <th>31</th>\n",
       "      <td>Coffee</td>\n",
       "      <td>110.52</td>\n",
       "    </tr>\n",
       "    <tr>\n",
       "      <th>39</th>\n",
       "      <td>Cheese</td>\n",
       "      <td>98.37</td>\n",
       "    </tr>\n",
       "    <tr>\n",
       "      <th>35</th>\n",
       "      <td>Lamb &amp; Mutton</td>\n",
       "      <td>97.13</td>\n",
       "    </tr>\n",
       "    <tr>\n",
       "      <th>32</th>\n",
       "      <td>Dark Chocolate</td>\n",
       "      <td>87.08</td>\n",
       "    </tr>\n",
       "    <tr>\n",
       "      <th>36</th>\n",
       "      <td>Pig Meat</td>\n",
       "      <td>76.38</td>\n",
       "    </tr>\n",
       "    <tr>\n",
       "      <th>17</th>\n",
       "      <td>Sunflower Oil</td>\n",
       "      <td>50.66</td>\n",
       "    </tr>\n",
       "    <tr>\n",
       "      <th>37</th>\n",
       "      <td>Poultry Meat</td>\n",
       "      <td>48.70</td>\n",
       "    </tr>\n",
       "  </tbody>\n",
       "</table>\n",
       "</div>"
      ],
      "text/plain": [
       "         Food product  \\\n",
       "34  Beef (dairy herd)   \n",
       "33   Beef (beef herd)   \n",
       "41      Fish (farmed)   \n",
       "31             Coffee   \n",
       "39             Cheese   \n",
       "35      Lamb & Mutton   \n",
       "32     Dark Chocolate   \n",
       "36           Pig Meat   \n",
       "17      Sunflower Oil   \n",
       "37       Poultry Meat   \n",
       "\n",
       "    Eutrophying emissions per kilogram (gPO₄eq per kilogram)  \n",
       "34                                                    365.29  \n",
       "33                                                    301.41  \n",
       "41                                                    235.12  \n",
       "31                                                    110.52  \n",
       "39                                                     98.37  \n",
       "35                                                     97.13  \n",
       "32                                                     87.08  \n",
       "36                                                     76.38  \n",
       "17                                                     50.66  \n",
       "37                                                     48.70  "
      ]
     },
     "execution_count": 51,
     "metadata": {},
     "output_type": "execute_result"
    }
   ],
   "source": [
    "cond = food_pr_df['Eutrophying emissions per kilogram (gPO₄eq per kilogram)'] > np.percentile(food_pr_df['Eutrophying emissions per kilogram (gPO₄eq per kilogram)'], 75)\n",
    "food_pr_df.loc[cond, ['Food product', 'Eutrophying emissions per kilogram (gPO₄eq per kilogram)']].sort_values(by='Eutrophying emissions per kilogram (gPO₄eq per kilogram)', ascending=False)"
   ]
  },
  {
   "cell_type": "code",
   "execution_count": 52,
   "id": "fbdc8c04-7001-4023-bf61-b127cdfb3662",
   "metadata": {},
   "outputs": [],
   "source": [
    "top_emissions = food_pr_df.sort_values(by='Eutrophying emissions per kilogram (gPO₄eq per kilogram)', ascending=False)[:10]['Food product'].to_list()"
   ]
  },
  {
   "cell_type": "markdown",
   "id": "9a269dc6",
   "metadata": {},
   "source": [
    "Top 10 product for freshwater withdrawals"
   ]
  },
  {
   "cell_type": "code",
   "execution_count": 53,
   "id": "f05ef8d5",
   "metadata": {},
   "outputs": [
    {
     "data": {
      "application/vnd.plotly.v1+json": {
       "config": {
        "plotlyServerURL": "https://plot.ly"
       },
       "data": [
        {
         "alignmentgroup": "True",
         "bingroup": "x",
         "hovertemplate": "Freshwater withdrawals per kilogram (liters per kilogram)=%{x}<br>count=%{y}<extra></extra>",
         "legendgroup": "",
         "marker": {
          "color": "#636efa",
          "pattern": {
           "shape": ""
          }
         },
         "name": "",
         "offsetgroup": "",
         "orientation": "v",
         "showlegend": false,
         "type": "histogram",
         "x": [
          482.4,
          2248.4,
          59.1,
          0,
          620.1,
          217.7,
          435.7,
          396.6,
          4133.8,
          1852.3,
          27.8,
          414.6,
          6.4,
          1007.9,
          237.7,
          2141.8,
          369.8,
          14.3,
          28.4,
          119.4,
          102.5,
          82.7,
          114.5,
          180.1,
          419.6,
          78.9,
          153.5,
          25.9,
          540.6,
          1451.2,
          2714.3,
          1802.8,
          1795.8,
          660,
          628.2,
          5605.2,
          577.7,
          3691.3
         ],
         "xaxis": "x",
         "yaxis": "y"
        },
        {
         "alignmentgroup": "True",
         "customdata": [
          [
           "Oatmeal",
           0,
           0,
           1.4,
           0,
           0.1,
           0.1,
           0,
           1.6,
           11.23,
           7.6,
           18786.2
          ],
          [
           "Rice",
           0,
           0,
           3.6,
           0.1,
           0.1,
           0.1,
           0.1,
           4,
           35.07,
           2.8,
           49576.3
          ],
          [
           "Potatoes",
           0,
           0,
           0.2,
           0,
           0.1,
           0,
           0,
           0.3,
           3.48,
           0.88,
           2754.2
          ],
          [
           "Cassava",
           0.6,
           0,
           0.2,
           0,
           0.1,
           0,
           0,
           0.9,
           0.69,
           1.81,
           0
          ],
          [
           "Cane Sugar",
           1.2,
           0,
           0.5,
           0,
           0.8,
           0.1,
           0,
           2.6,
           16.92,
           2.04,
           16438.6
          ],
          [
           "Beet Sugar",
           0,
           0,
           0.5,
           0.2,
           0.6,
           0.1,
           0,
           1.4,
           5.41,
           1.83,
           9493.3
          ],
          [
           "Other Pulses",
           0,
           0,
           1.1,
           0,
           0.1,
           0.4,
           0,
           1.6,
           17.08,
           15.57,
           22477.4
          ],
          [
           "Peas",
           0,
           0,
           0.7,
           0,
           0.1,
           0,
           0,
           0.7999999999999999,
           7.52,
           7.46,
           27948.2
          ],
          [
           "Nuts",
           -2.1,
           0,
           2.1,
           0,
           0.1,
           0.1,
           0,
           0.2,
           19.15,
           12.96,
           229889.8
          ],
          [
           "Groundnuts",
           0.4,
           0,
           1.4,
           0.4,
           0.1,
           0.1,
           0,
           2.4,
           14.14,
           9.11,
           61797.9
          ],
          [
           "Soymilk",
           0.2,
           0,
           0.1,
           0.2,
           0.1,
           0.1,
           0.3,
           1,
           1.06,
           0.66,
           955.6
          ],
          [
           "Soybean Oil",
           3.1,
           0,
           1.5,
           0.3,
           0.3,
           0.8,
           0,
           5.999999999999999,
           11.69,
           10.52,
           14888.2
          ],
          [
           "Palm Oil",
           3.1,
           0,
           2.1,
           1.3,
           0.2,
           0.9,
           0,
           7.6,
           10.67,
           2.42,
           36.2
          ],
          [
           "Sunflower Oil",
           0.1,
           0,
           2.1,
           0.2,
           0.2,
           0.9,
           0,
           3.5000000000000004,
           50.66,
           17.66,
           36369.4
          ],
          [
           "Rapeseed Oil",
           0.2,
           0,
           2.3,
           0.2,
           0.2,
           0.8,
           0,
           3.7,
           19.19,
           10.63,
           10593.7
          ],
          [
           "Olive Oil",
           -0.4,
           0,
           4.3,
           0.7,
           0.5,
           0.9,
           0,
           6,
           37.26,
           26.31,
           177480.2
          ],
          [
           "Tomatoes",
           0.4,
           0,
           0.7,
           0,
           0.2,
           0.1,
           0,
           1.4,
           7.51,
           0.8,
           5335.7
          ],
          [
           "Onions & Leeks",
           0,
           0,
           0.2,
           0,
           0.1,
           0,
           0,
           0.3,
           3.24,
           0.39,
           932
          ],
          [
           "Root Vegetables",
           0,
           0,
           0.2,
           0,
           0.1,
           0,
           0,
           0.3,
           1.61,
           0.33,
           929.2
          ],
          [
           "Brassicas",
           0,
           0,
           0.3,
           0,
           0.1,
           0,
           0,
           0.4,
           5.01,
           0.55,
           8455.1
          ],
          [
           "Other Vegetables",
           0,
           0,
           0.2,
           0.1,
           0.2,
           0,
           0,
           0.5,
           2.27,
           0.38,
           4911.4
          ],
          [
           "Citrus Fruit",
           -0.1,
           0,
           0.3,
           0,
           0.1,
           0,
           0,
           0.3,
           2.24,
           0.86,
           4662.7
          ],
          [
           "Bananas",
           0,
           0,
           0.3,
           0.1,
           0.3,
           0.1,
           0,
           0.7999999999999999,
           3.29,
           1.93,
           661.9
          ],
          [
           "Apples",
           0,
           0,
           0.2,
           0,
           0.1,
           0,
           0,
           0.3,
           1.45,
           0.63,
           12948.6
          ],
          [
           "Berries & Grapes",
           0,
           0,
           0.7,
           0,
           0.2,
           0.2,
           0,
           1.1,
           6.12,
           2.41,
           21162.1
          ],
          [
           "Wine",
           -0.1,
           0,
           0.6,
           0.1,
           0.1,
           0.7,
           0,
           1.4,
           4.57,
           1.78,
           1149.3
          ],
          [
           "Other Fruit",
           0.1,
           0,
           0.4,
           0,
           0.2,
           0,
           0,
           0.7,
           2.43,
           0.89,
           9533.1
          ],
          [
           "Coffee",
           3.7,
           0,
           10.4,
           0.6,
           0.1,
           1.6,
           0.1,
           16.500000000000004,
           110.52,
           21.62,
           337
          ],
          [
           "Dark Chocolate",
           14.3,
           0,
           3.7,
           0.2,
           0.1,
           0.4,
           0,
           18.7,
           87.08,
           68.96,
           2879.2
          ],
          [
           "Beef (beef herd)",
           16.3,
           1.9,
           39.4,
           1.3,
           0.3,
           0.2,
           0.2,
           59.6,
           301.41,
           326.21,
           34732.5
          ],
          [
           "Beef (dairy herd)",
           0.9,
           2.5,
           15.7,
           1.1,
           0.4,
           0.3,
           0.2,
           21.1,
           365.29,
           43.24,
           119805.2
          ],
          [
           "Lamb & Mutton",
           0.5,
           2.4,
           19.5,
           1.1,
           0.5,
           0.3,
           0.2,
           24.5,
           97.13,
           369.81,
           141925
          ],
          [
           "Pig Meat",
           1.5,
           2.9,
           1.7,
           0.3,
           0.3,
           0.3,
           0.2,
           7.2,
           76.38,
           17.36,
           66867.4
          ],
          [
           "Poultry Meat",
           2.5,
           1.8,
           0.7,
           0.4,
           0.3,
           0.2,
           0.2,
           6.1000000000000005,
           48.7,
           12.22,
           14177.9
          ],
          [
           "Milk",
           0.5,
           0.2,
           1.5,
           0.1,
           0.1,
           0.1,
           0.3,
           2.8000000000000003,
           10.65,
           8.95,
           19786.3
          ],
          [
           "Cheese",
           4.5,
           2.3,
           13.1,
           0.7,
           0.1,
           0.2,
           0.3,
           21.2,
           98.37,
           87.79,
           180850.6
          ],
          [
           "Eggs",
           0.7,
           2.2,
           1.3,
           0,
           0.1,
           0.2,
           0,
           4.5,
           21.76,
           6.27,
           17982.7
          ],
          [
           "Fish (farmed)",
           0.5,
           0.8,
           3.6,
           0,
           0.1,
           0.1,
           0,
           5.1,
           235.12,
           8.41,
           41572.2
          ]
         ],
         "hovertemplate": "Freshwater withdrawals per kilogram (liters per kilogram)=%{x}<br>Food product=%{customdata[0]}<br>Land use change=%{customdata[1]}<br>Animal Feed=%{customdata[2]}<br>Farm=%{customdata[3]}<br>Processing=%{customdata[4]}<br>Transport=%{customdata[5]}<br>Packging=%{customdata[6]}<br>Retail=%{customdata[7]}<br>Total_emissions=%{customdata[8]}<br>Eutrophying emissions per kilogram (gPO₄eq per kilogram)=%{customdata[9]}<br>Land use per kilogram (m² per kilogram)=%{customdata[10]}<br>Scarcity-weighted water use per kilogram (liters per kilogram)=%{customdata[11]}<extra></extra>",
         "legendgroup": "",
         "marker": {
          "color": "#636efa"
         },
         "name": "",
         "notched": true,
         "offsetgroup": "",
         "showlegend": false,
         "type": "box",
         "x": [
          482.4,
          2248.4,
          59.1,
          0,
          620.1,
          217.7,
          435.7,
          396.6,
          4133.8,
          1852.3,
          27.8,
          414.6,
          6.4,
          1007.9,
          237.7,
          2141.8,
          369.8,
          14.3,
          28.4,
          119.4,
          102.5,
          82.7,
          114.5,
          180.1,
          419.6,
          78.9,
          153.5,
          25.9,
          540.6,
          1451.2,
          2714.3,
          1802.8,
          1795.8,
          660,
          628.2,
          5605.2,
          577.7,
          3691.3
         ],
         "xaxis": "x2",
         "yaxis": "y2"
        }
       ],
       "layout": {
        "barmode": "relative",
        "legend": {
         "tracegroupgap": 0
        },
        "margin": {
         "t": 60
        },
        "template": {
         "data": {
          "bar": [
           {
            "error_x": {
             "color": "#2a3f5f"
            },
            "error_y": {
             "color": "#2a3f5f"
            },
            "marker": {
             "line": {
              "color": "#E5ECF6",
              "width": 0.5
             },
             "pattern": {
              "fillmode": "overlay",
              "size": 10,
              "solidity": 0.2
             }
            },
            "type": "bar"
           }
          ],
          "barpolar": [
           {
            "marker": {
             "line": {
              "color": "#E5ECF6",
              "width": 0.5
             },
             "pattern": {
              "fillmode": "overlay",
              "size": 10,
              "solidity": 0.2
             }
            },
            "type": "barpolar"
           }
          ],
          "carpet": [
           {
            "aaxis": {
             "endlinecolor": "#2a3f5f",
             "gridcolor": "white",
             "linecolor": "white",
             "minorgridcolor": "white",
             "startlinecolor": "#2a3f5f"
            },
            "baxis": {
             "endlinecolor": "#2a3f5f",
             "gridcolor": "white",
             "linecolor": "white",
             "minorgridcolor": "white",
             "startlinecolor": "#2a3f5f"
            },
            "type": "carpet"
           }
          ],
          "choropleth": [
           {
            "colorbar": {
             "outlinewidth": 0,
             "ticks": ""
            },
            "type": "choropleth"
           }
          ],
          "contour": [
           {
            "colorbar": {
             "outlinewidth": 0,
             "ticks": ""
            },
            "colorscale": [
             [
              0,
              "#0d0887"
             ],
             [
              0.1111111111111111,
              "#46039f"
             ],
             [
              0.2222222222222222,
              "#7201a8"
             ],
             [
              0.3333333333333333,
              "#9c179e"
             ],
             [
              0.4444444444444444,
              "#bd3786"
             ],
             [
              0.5555555555555556,
              "#d8576b"
             ],
             [
              0.6666666666666666,
              "#ed7953"
             ],
             [
              0.7777777777777778,
              "#fb9f3a"
             ],
             [
              0.8888888888888888,
              "#fdca26"
             ],
             [
              1,
              "#f0f921"
             ]
            ],
            "type": "contour"
           }
          ],
          "contourcarpet": [
           {
            "colorbar": {
             "outlinewidth": 0,
             "ticks": ""
            },
            "type": "contourcarpet"
           }
          ],
          "heatmap": [
           {
            "colorbar": {
             "outlinewidth": 0,
             "ticks": ""
            },
            "colorscale": [
             [
              0,
              "#0d0887"
             ],
             [
              0.1111111111111111,
              "#46039f"
             ],
             [
              0.2222222222222222,
              "#7201a8"
             ],
             [
              0.3333333333333333,
              "#9c179e"
             ],
             [
              0.4444444444444444,
              "#bd3786"
             ],
             [
              0.5555555555555556,
              "#d8576b"
             ],
             [
              0.6666666666666666,
              "#ed7953"
             ],
             [
              0.7777777777777778,
              "#fb9f3a"
             ],
             [
              0.8888888888888888,
              "#fdca26"
             ],
             [
              1,
              "#f0f921"
             ]
            ],
            "type": "heatmap"
           }
          ],
          "heatmapgl": [
           {
            "colorbar": {
             "outlinewidth": 0,
             "ticks": ""
            },
            "colorscale": [
             [
              0,
              "#0d0887"
             ],
             [
              0.1111111111111111,
              "#46039f"
             ],
             [
              0.2222222222222222,
              "#7201a8"
             ],
             [
              0.3333333333333333,
              "#9c179e"
             ],
             [
              0.4444444444444444,
              "#bd3786"
             ],
             [
              0.5555555555555556,
              "#d8576b"
             ],
             [
              0.6666666666666666,
              "#ed7953"
             ],
             [
              0.7777777777777778,
              "#fb9f3a"
             ],
             [
              0.8888888888888888,
              "#fdca26"
             ],
             [
              1,
              "#f0f921"
             ]
            ],
            "type": "heatmapgl"
           }
          ],
          "histogram": [
           {
            "marker": {
             "pattern": {
              "fillmode": "overlay",
              "size": 10,
              "solidity": 0.2
             }
            },
            "type": "histogram"
           }
          ],
          "histogram2d": [
           {
            "colorbar": {
             "outlinewidth": 0,
             "ticks": ""
            },
            "colorscale": [
             [
              0,
              "#0d0887"
             ],
             [
              0.1111111111111111,
              "#46039f"
             ],
             [
              0.2222222222222222,
              "#7201a8"
             ],
             [
              0.3333333333333333,
              "#9c179e"
             ],
             [
              0.4444444444444444,
              "#bd3786"
             ],
             [
              0.5555555555555556,
              "#d8576b"
             ],
             [
              0.6666666666666666,
              "#ed7953"
             ],
             [
              0.7777777777777778,
              "#fb9f3a"
             ],
             [
              0.8888888888888888,
              "#fdca26"
             ],
             [
              1,
              "#f0f921"
             ]
            ],
            "type": "histogram2d"
           }
          ],
          "histogram2dcontour": [
           {
            "colorbar": {
             "outlinewidth": 0,
             "ticks": ""
            },
            "colorscale": [
             [
              0,
              "#0d0887"
             ],
             [
              0.1111111111111111,
              "#46039f"
             ],
             [
              0.2222222222222222,
              "#7201a8"
             ],
             [
              0.3333333333333333,
              "#9c179e"
             ],
             [
              0.4444444444444444,
              "#bd3786"
             ],
             [
              0.5555555555555556,
              "#d8576b"
             ],
             [
              0.6666666666666666,
              "#ed7953"
             ],
             [
              0.7777777777777778,
              "#fb9f3a"
             ],
             [
              0.8888888888888888,
              "#fdca26"
             ],
             [
              1,
              "#f0f921"
             ]
            ],
            "type": "histogram2dcontour"
           }
          ],
          "mesh3d": [
           {
            "colorbar": {
             "outlinewidth": 0,
             "ticks": ""
            },
            "type": "mesh3d"
           }
          ],
          "parcoords": [
           {
            "line": {
             "colorbar": {
              "outlinewidth": 0,
              "ticks": ""
             }
            },
            "type": "parcoords"
           }
          ],
          "pie": [
           {
            "automargin": true,
            "type": "pie"
           }
          ],
          "scatter": [
           {
            "fillpattern": {
             "fillmode": "overlay",
             "size": 10,
             "solidity": 0.2
            },
            "type": "scatter"
           }
          ],
          "scatter3d": [
           {
            "line": {
             "colorbar": {
              "outlinewidth": 0,
              "ticks": ""
             }
            },
            "marker": {
             "colorbar": {
              "outlinewidth": 0,
              "ticks": ""
             }
            },
            "type": "scatter3d"
           }
          ],
          "scattercarpet": [
           {
            "marker": {
             "colorbar": {
              "outlinewidth": 0,
              "ticks": ""
             }
            },
            "type": "scattercarpet"
           }
          ],
          "scattergeo": [
           {
            "marker": {
             "colorbar": {
              "outlinewidth": 0,
              "ticks": ""
             }
            },
            "type": "scattergeo"
           }
          ],
          "scattergl": [
           {
            "marker": {
             "colorbar": {
              "outlinewidth": 0,
              "ticks": ""
             }
            },
            "type": "scattergl"
           }
          ],
          "scattermapbox": [
           {
            "marker": {
             "colorbar": {
              "outlinewidth": 0,
              "ticks": ""
             }
            },
            "type": "scattermapbox"
           }
          ],
          "scatterpolar": [
           {
            "marker": {
             "colorbar": {
              "outlinewidth": 0,
              "ticks": ""
             }
            },
            "type": "scatterpolar"
           }
          ],
          "scatterpolargl": [
           {
            "marker": {
             "colorbar": {
              "outlinewidth": 0,
              "ticks": ""
             }
            },
            "type": "scatterpolargl"
           }
          ],
          "scatterternary": [
           {
            "marker": {
             "colorbar": {
              "outlinewidth": 0,
              "ticks": ""
             }
            },
            "type": "scatterternary"
           }
          ],
          "surface": [
           {
            "colorbar": {
             "outlinewidth": 0,
             "ticks": ""
            },
            "colorscale": [
             [
              0,
              "#0d0887"
             ],
             [
              0.1111111111111111,
              "#46039f"
             ],
             [
              0.2222222222222222,
              "#7201a8"
             ],
             [
              0.3333333333333333,
              "#9c179e"
             ],
             [
              0.4444444444444444,
              "#bd3786"
             ],
             [
              0.5555555555555556,
              "#d8576b"
             ],
             [
              0.6666666666666666,
              "#ed7953"
             ],
             [
              0.7777777777777778,
              "#fb9f3a"
             ],
             [
              0.8888888888888888,
              "#fdca26"
             ],
             [
              1,
              "#f0f921"
             ]
            ],
            "type": "surface"
           }
          ],
          "table": [
           {
            "cells": {
             "fill": {
              "color": "#EBF0F8"
             },
             "line": {
              "color": "white"
             }
            },
            "header": {
             "fill": {
              "color": "#C8D4E3"
             },
             "line": {
              "color": "white"
             }
            },
            "type": "table"
           }
          ]
         },
         "layout": {
          "annotationdefaults": {
           "arrowcolor": "#2a3f5f",
           "arrowhead": 0,
           "arrowwidth": 1
          },
          "autotypenumbers": "strict",
          "coloraxis": {
           "colorbar": {
            "outlinewidth": 0,
            "ticks": ""
           }
          },
          "colorscale": {
           "diverging": [
            [
             0,
             "#8e0152"
            ],
            [
             0.1,
             "#c51b7d"
            ],
            [
             0.2,
             "#de77ae"
            ],
            [
             0.3,
             "#f1b6da"
            ],
            [
             0.4,
             "#fde0ef"
            ],
            [
             0.5,
             "#f7f7f7"
            ],
            [
             0.6,
             "#e6f5d0"
            ],
            [
             0.7,
             "#b8e186"
            ],
            [
             0.8,
             "#7fbc41"
            ],
            [
             0.9,
             "#4d9221"
            ],
            [
             1,
             "#276419"
            ]
           ],
           "sequential": [
            [
             0,
             "#0d0887"
            ],
            [
             0.1111111111111111,
             "#46039f"
            ],
            [
             0.2222222222222222,
             "#7201a8"
            ],
            [
             0.3333333333333333,
             "#9c179e"
            ],
            [
             0.4444444444444444,
             "#bd3786"
            ],
            [
             0.5555555555555556,
             "#d8576b"
            ],
            [
             0.6666666666666666,
             "#ed7953"
            ],
            [
             0.7777777777777778,
             "#fb9f3a"
            ],
            [
             0.8888888888888888,
             "#fdca26"
            ],
            [
             1,
             "#f0f921"
            ]
           ],
           "sequentialminus": [
            [
             0,
             "#0d0887"
            ],
            [
             0.1111111111111111,
             "#46039f"
            ],
            [
             0.2222222222222222,
             "#7201a8"
            ],
            [
             0.3333333333333333,
             "#9c179e"
            ],
            [
             0.4444444444444444,
             "#bd3786"
            ],
            [
             0.5555555555555556,
             "#d8576b"
            ],
            [
             0.6666666666666666,
             "#ed7953"
            ],
            [
             0.7777777777777778,
             "#fb9f3a"
            ],
            [
             0.8888888888888888,
             "#fdca26"
            ],
            [
             1,
             "#f0f921"
            ]
           ]
          },
          "colorway": [
           "#636efa",
           "#EF553B",
           "#00cc96",
           "#ab63fa",
           "#FFA15A",
           "#19d3f3",
           "#FF6692",
           "#B6E880",
           "#FF97FF",
           "#FECB52"
          ],
          "font": {
           "color": "#2a3f5f"
          },
          "geo": {
           "bgcolor": "white",
           "lakecolor": "white",
           "landcolor": "#E5ECF6",
           "showlakes": true,
           "showland": true,
           "subunitcolor": "white"
          },
          "hoverlabel": {
           "align": "left"
          },
          "hovermode": "closest",
          "mapbox": {
           "style": "light"
          },
          "paper_bgcolor": "white",
          "plot_bgcolor": "#E5ECF6",
          "polar": {
           "angularaxis": {
            "gridcolor": "white",
            "linecolor": "white",
            "ticks": ""
           },
           "bgcolor": "#E5ECF6",
           "radialaxis": {
            "gridcolor": "white",
            "linecolor": "white",
            "ticks": ""
           }
          },
          "scene": {
           "xaxis": {
            "backgroundcolor": "#E5ECF6",
            "gridcolor": "white",
            "gridwidth": 2,
            "linecolor": "white",
            "showbackground": true,
            "ticks": "",
            "zerolinecolor": "white"
           },
           "yaxis": {
            "backgroundcolor": "#E5ECF6",
            "gridcolor": "white",
            "gridwidth": 2,
            "linecolor": "white",
            "showbackground": true,
            "ticks": "",
            "zerolinecolor": "white"
           },
           "zaxis": {
            "backgroundcolor": "#E5ECF6",
            "gridcolor": "white",
            "gridwidth": 2,
            "linecolor": "white",
            "showbackground": true,
            "ticks": "",
            "zerolinecolor": "white"
           }
          },
          "shapedefaults": {
           "line": {
            "color": "#2a3f5f"
           }
          },
          "ternary": {
           "aaxis": {
            "gridcolor": "white",
            "linecolor": "white",
            "ticks": ""
           },
           "baxis": {
            "gridcolor": "white",
            "linecolor": "white",
            "ticks": ""
           },
           "bgcolor": "#E5ECF6",
           "caxis": {
            "gridcolor": "white",
            "linecolor": "white",
            "ticks": ""
           }
          },
          "title": {
           "x": 0.05
          },
          "xaxis": {
           "automargin": true,
           "gridcolor": "white",
           "linecolor": "white",
           "ticks": "",
           "title": {
            "standoff": 15
           },
           "zerolinecolor": "white",
           "zerolinewidth": 2
          },
          "yaxis": {
           "automargin": true,
           "gridcolor": "white",
           "linecolor": "white",
           "ticks": "",
           "title": {
            "standoff": 15
           },
           "zerolinecolor": "white",
           "zerolinewidth": 2
          }
         }
        },
        "xaxis": {
         "anchor": "y",
         "domain": [
          0,
          1
         ],
         "title": {
          "text": "Freshwater withdrawals per kilogram (liters per kilogram)"
         }
        },
        "xaxis2": {
         "anchor": "y2",
         "domain": [
          0,
          1
         ],
         "matches": "x",
         "showgrid": true,
         "showticklabels": false
        },
        "yaxis": {
         "anchor": "x",
         "domain": [
          0,
          0.8316
         ],
         "title": {
          "text": "count"
         }
        },
        "yaxis2": {
         "anchor": "x2",
         "domain": [
          0.8416,
          1
         ],
         "matches": "y2",
         "showgrid": false,
         "showline": false,
         "showticklabels": false,
         "ticks": ""
        }
       }
      }
     },
     "metadata": {},
     "output_type": "display_data"
    }
   ],
   "source": [
    "fig = px.histogram(food_pr_df, x=food_pr_df['Freshwater withdrawals per kilogram (liters per kilogram)'],\n",
    "                   marginal=\"box\",\n",
    "                   hover_data=food_pr_df.columns)\n",
    "fig.show()"
   ]
  },
  {
   "cell_type": "code",
   "execution_count": 54,
   "id": "07dd16a7",
   "metadata": {},
   "outputs": [
    {
     "data": {
      "text/html": [
       "<div>\n",
       "<style scoped>\n",
       "    .dataframe tbody tr th:only-of-type {\n",
       "        vertical-align: middle;\n",
       "    }\n",
       "\n",
       "    .dataframe tbody tr th {\n",
       "        vertical-align: top;\n",
       "    }\n",
       "\n",
       "    .dataframe thead th {\n",
       "        text-align: right;\n",
       "    }\n",
       "</style>\n",
       "<table border=\"1\" class=\"dataframe\">\n",
       "  <thead>\n",
       "    <tr style=\"text-align: right;\">\n",
       "      <th></th>\n",
       "      <th>Food product</th>\n",
       "      <th>Freshwater withdrawals per kilogram (liters per kilogram)</th>\n",
       "    </tr>\n",
       "  </thead>\n",
       "  <tbody>\n",
       "    <tr>\n",
       "      <th>39</th>\n",
       "      <td>Cheese</td>\n",
       "      <td>5,605.20</td>\n",
       "    </tr>\n",
       "    <tr>\n",
       "      <th>11</th>\n",
       "      <td>Nuts</td>\n",
       "      <td>4,133.80</td>\n",
       "    </tr>\n",
       "    <tr>\n",
       "      <th>41</th>\n",
       "      <td>Fish (farmed)</td>\n",
       "      <td>3,691.30</td>\n",
       "    </tr>\n",
       "    <tr>\n",
       "      <th>34</th>\n",
       "      <td>Beef (dairy herd)</td>\n",
       "      <td>2,714.30</td>\n",
       "    </tr>\n",
       "    <tr>\n",
       "      <th>4</th>\n",
       "      <td>Rice</td>\n",
       "      <td>2,248.40</td>\n",
       "    </tr>\n",
       "    <tr>\n",
       "      <th>19</th>\n",
       "      <td>Olive Oil</td>\n",
       "      <td>2,141.80</td>\n",
       "    </tr>\n",
       "    <tr>\n",
       "      <th>12</th>\n",
       "      <td>Groundnuts</td>\n",
       "      <td>1,852.30</td>\n",
       "    </tr>\n",
       "    <tr>\n",
       "      <th>35</th>\n",
       "      <td>Lamb &amp; Mutton</td>\n",
       "      <td>1,802.80</td>\n",
       "    </tr>\n",
       "    <tr>\n",
       "      <th>36</th>\n",
       "      <td>Pig Meat</td>\n",
       "      <td>1,795.80</td>\n",
       "    </tr>\n",
       "    <tr>\n",
       "      <th>33</th>\n",
       "      <td>Beef (beef herd)</td>\n",
       "      <td>1,451.20</td>\n",
       "    </tr>\n",
       "  </tbody>\n",
       "</table>\n",
       "</div>"
      ],
      "text/plain": [
       "         Food product  \\\n",
       "39             Cheese   \n",
       "11               Nuts   \n",
       "41      Fish (farmed)   \n",
       "34  Beef (dairy herd)   \n",
       "4                Rice   \n",
       "19          Olive Oil   \n",
       "12         Groundnuts   \n",
       "35      Lamb & Mutton   \n",
       "36           Pig Meat   \n",
       "33   Beef (beef herd)   \n",
       "\n",
       "    Freshwater withdrawals per kilogram (liters per kilogram)  \n",
       "39                                                   5,605.20  \n",
       "11                                                   4,133.80  \n",
       "41                                                   3,691.30  \n",
       "34                                                   2,714.30  \n",
       "4                                                    2,248.40  \n",
       "19                                                   2,141.80  \n",
       "12                                                   1,852.30  \n",
       "35                                                   1,802.80  \n",
       "36                                                   1,795.80  \n",
       "33                                                   1,451.20  "
      ]
     },
     "execution_count": 54,
     "metadata": {},
     "output_type": "execute_result"
    }
   ],
   "source": [
    "cond = food_pr_df['Freshwater withdrawals per kilogram (liters per kilogram)'] > np.percentile(food_pr_df['Freshwater withdrawals per kilogram (liters per kilogram)'], 75)\n",
    "food_pr_df.loc[cond, ['Food product', 'Freshwater withdrawals per kilogram (liters per kilogram)']].sort_values(by='Freshwater withdrawals per kilogram (liters per kilogram)', ascending=False)"
   ]
  },
  {
   "cell_type": "code",
   "execution_count": 55,
   "id": "e9345a27",
   "metadata": {},
   "outputs": [],
   "source": [
    "top_water = food_pr_df.sort_values(by='Freshwater withdrawals per kilogram (liters per kilogram)', ascending=False)[:10]['Food product'].to_list()\n"
   ]
  },
  {
   "cell_type": "markdown",
   "id": "8cb28552",
   "metadata": {},
   "source": [
    "Top 10 prodcuts for land use"
   ]
  },
  {
   "cell_type": "code",
   "execution_count": 56,
   "id": "734ba69a",
   "metadata": {},
   "outputs": [
    {
     "data": {
      "application/vnd.plotly.v1+json": {
       "config": {
        "plotlyServerURL": "https://plot.ly"
       },
       "data": [
        {
         "alignmentgroup": "True",
         "bingroup": "x",
         "hovertemplate": "Land use per kilogram (m² per kilogram)=%{x}<br>count=%{y}<extra></extra>",
         "legendgroup": "",
         "marker": {
          "color": "#636efa",
          "pattern": {
           "shape": ""
          }
         },
         "name": "",
         "offsetgroup": "",
         "orientation": "v",
         "showlegend": false,
         "type": "histogram",
         "x": [
          7.6,
          2.8,
          0.88,
          1.81,
          2.04,
          1.83,
          15.57,
          7.46,
          12.96,
          9.11,
          0.66,
          10.52,
          2.42,
          17.66,
          10.63,
          26.31,
          0.8,
          0.39,
          0.33,
          0.55,
          0.38,
          0.86,
          1.93,
          0.63,
          2.41,
          1.78,
          0.89,
          21.62,
          68.96,
          326.21,
          43.24,
          369.81,
          17.36,
          12.22,
          8.95,
          87.79,
          6.27,
          8.41
         ],
         "xaxis": "x",
         "yaxis": "y"
        },
        {
         "alignmentgroup": "True",
         "customdata": [
          [
           "Oatmeal",
           0,
           0,
           1.4,
           0,
           0.1,
           0.1,
           0,
           1.6,
           11.23,
           482.4,
           18786.2
          ],
          [
           "Rice",
           0,
           0,
           3.6,
           0.1,
           0.1,
           0.1,
           0.1,
           4,
           35.07,
           2248.4,
           49576.3
          ],
          [
           "Potatoes",
           0,
           0,
           0.2,
           0,
           0.1,
           0,
           0,
           0.3,
           3.48,
           59.1,
           2754.2
          ],
          [
           "Cassava",
           0.6,
           0,
           0.2,
           0,
           0.1,
           0,
           0,
           0.9,
           0.69,
           0,
           0
          ],
          [
           "Cane Sugar",
           1.2,
           0,
           0.5,
           0,
           0.8,
           0.1,
           0,
           2.6,
           16.92,
           620.1,
           16438.6
          ],
          [
           "Beet Sugar",
           0,
           0,
           0.5,
           0.2,
           0.6,
           0.1,
           0,
           1.4,
           5.41,
           217.7,
           9493.3
          ],
          [
           "Other Pulses",
           0,
           0,
           1.1,
           0,
           0.1,
           0.4,
           0,
           1.6,
           17.08,
           435.7,
           22477.4
          ],
          [
           "Peas",
           0,
           0,
           0.7,
           0,
           0.1,
           0,
           0,
           0.7999999999999999,
           7.52,
           396.6,
           27948.2
          ],
          [
           "Nuts",
           -2.1,
           0,
           2.1,
           0,
           0.1,
           0.1,
           0,
           0.2,
           19.15,
           4133.8,
           229889.8
          ],
          [
           "Groundnuts",
           0.4,
           0,
           1.4,
           0.4,
           0.1,
           0.1,
           0,
           2.4,
           14.14,
           1852.3,
           61797.9
          ],
          [
           "Soymilk",
           0.2,
           0,
           0.1,
           0.2,
           0.1,
           0.1,
           0.3,
           1,
           1.06,
           27.8,
           955.6
          ],
          [
           "Soybean Oil",
           3.1,
           0,
           1.5,
           0.3,
           0.3,
           0.8,
           0,
           5.999999999999999,
           11.69,
           414.6,
           14888.2
          ],
          [
           "Palm Oil",
           3.1,
           0,
           2.1,
           1.3,
           0.2,
           0.9,
           0,
           7.6,
           10.67,
           6.4,
           36.2
          ],
          [
           "Sunflower Oil",
           0.1,
           0,
           2.1,
           0.2,
           0.2,
           0.9,
           0,
           3.5000000000000004,
           50.66,
           1007.9,
           36369.4
          ],
          [
           "Rapeseed Oil",
           0.2,
           0,
           2.3,
           0.2,
           0.2,
           0.8,
           0,
           3.7,
           19.19,
           237.7,
           10593.7
          ],
          [
           "Olive Oil",
           -0.4,
           0,
           4.3,
           0.7,
           0.5,
           0.9,
           0,
           6,
           37.26,
           2141.8,
           177480.2
          ],
          [
           "Tomatoes",
           0.4,
           0,
           0.7,
           0,
           0.2,
           0.1,
           0,
           1.4,
           7.51,
           369.8,
           5335.7
          ],
          [
           "Onions & Leeks",
           0,
           0,
           0.2,
           0,
           0.1,
           0,
           0,
           0.3,
           3.24,
           14.3,
           932
          ],
          [
           "Root Vegetables",
           0,
           0,
           0.2,
           0,
           0.1,
           0,
           0,
           0.3,
           1.61,
           28.4,
           929.2
          ],
          [
           "Brassicas",
           0,
           0,
           0.3,
           0,
           0.1,
           0,
           0,
           0.4,
           5.01,
           119.4,
           8455.1
          ],
          [
           "Other Vegetables",
           0,
           0,
           0.2,
           0.1,
           0.2,
           0,
           0,
           0.5,
           2.27,
           102.5,
           4911.4
          ],
          [
           "Citrus Fruit",
           -0.1,
           0,
           0.3,
           0,
           0.1,
           0,
           0,
           0.3,
           2.24,
           82.7,
           4662.7
          ],
          [
           "Bananas",
           0,
           0,
           0.3,
           0.1,
           0.3,
           0.1,
           0,
           0.7999999999999999,
           3.29,
           114.5,
           661.9
          ],
          [
           "Apples",
           0,
           0,
           0.2,
           0,
           0.1,
           0,
           0,
           0.3,
           1.45,
           180.1,
           12948.6
          ],
          [
           "Berries & Grapes",
           0,
           0,
           0.7,
           0,
           0.2,
           0.2,
           0,
           1.1,
           6.12,
           419.6,
           21162.1
          ],
          [
           "Wine",
           -0.1,
           0,
           0.6,
           0.1,
           0.1,
           0.7,
           0,
           1.4,
           4.57,
           78.9,
           1149.3
          ],
          [
           "Other Fruit",
           0.1,
           0,
           0.4,
           0,
           0.2,
           0,
           0,
           0.7,
           2.43,
           153.5,
           9533.1
          ],
          [
           "Coffee",
           3.7,
           0,
           10.4,
           0.6,
           0.1,
           1.6,
           0.1,
           16.500000000000004,
           110.52,
           25.9,
           337
          ],
          [
           "Dark Chocolate",
           14.3,
           0,
           3.7,
           0.2,
           0.1,
           0.4,
           0,
           18.7,
           87.08,
           540.6,
           2879.2
          ],
          [
           "Beef (beef herd)",
           16.3,
           1.9,
           39.4,
           1.3,
           0.3,
           0.2,
           0.2,
           59.6,
           301.41,
           1451.2,
           34732.5
          ],
          [
           "Beef (dairy herd)",
           0.9,
           2.5,
           15.7,
           1.1,
           0.4,
           0.3,
           0.2,
           21.1,
           365.29,
           2714.3,
           119805.2
          ],
          [
           "Lamb & Mutton",
           0.5,
           2.4,
           19.5,
           1.1,
           0.5,
           0.3,
           0.2,
           24.5,
           97.13,
           1802.8,
           141925
          ],
          [
           "Pig Meat",
           1.5,
           2.9,
           1.7,
           0.3,
           0.3,
           0.3,
           0.2,
           7.2,
           76.38,
           1795.8,
           66867.4
          ],
          [
           "Poultry Meat",
           2.5,
           1.8,
           0.7,
           0.4,
           0.3,
           0.2,
           0.2,
           6.1000000000000005,
           48.7,
           660,
           14177.9
          ],
          [
           "Milk",
           0.5,
           0.2,
           1.5,
           0.1,
           0.1,
           0.1,
           0.3,
           2.8000000000000003,
           10.65,
           628.2,
           19786.3
          ],
          [
           "Cheese",
           4.5,
           2.3,
           13.1,
           0.7,
           0.1,
           0.2,
           0.3,
           21.2,
           98.37,
           5605.2,
           180850.6
          ],
          [
           "Eggs",
           0.7,
           2.2,
           1.3,
           0,
           0.1,
           0.2,
           0,
           4.5,
           21.76,
           577.7,
           17982.7
          ],
          [
           "Fish (farmed)",
           0.5,
           0.8,
           3.6,
           0,
           0.1,
           0.1,
           0,
           5.1,
           235.12,
           3691.3,
           41572.2
          ]
         ],
         "hovertemplate": "Land use per kilogram (m² per kilogram)=%{x}<br>Food product=%{customdata[0]}<br>Land use change=%{customdata[1]}<br>Animal Feed=%{customdata[2]}<br>Farm=%{customdata[3]}<br>Processing=%{customdata[4]}<br>Transport=%{customdata[5]}<br>Packging=%{customdata[6]}<br>Retail=%{customdata[7]}<br>Total_emissions=%{customdata[8]}<br>Eutrophying emissions per kilogram (gPO₄eq per kilogram)=%{customdata[9]}<br>Freshwater withdrawals per kilogram (liters per kilogram)=%{customdata[10]}<br>Scarcity-weighted water use per kilogram (liters per kilogram)=%{customdata[11]}<extra></extra>",
         "legendgroup": "",
         "marker": {
          "color": "#636efa"
         },
         "name": "",
         "notched": true,
         "offsetgroup": "",
         "showlegend": false,
         "type": "box",
         "x": [
          7.6,
          2.8,
          0.88,
          1.81,
          2.04,
          1.83,
          15.57,
          7.46,
          12.96,
          9.11,
          0.66,
          10.52,
          2.42,
          17.66,
          10.63,
          26.31,
          0.8,
          0.39,
          0.33,
          0.55,
          0.38,
          0.86,
          1.93,
          0.63,
          2.41,
          1.78,
          0.89,
          21.62,
          68.96,
          326.21,
          43.24,
          369.81,
          17.36,
          12.22,
          8.95,
          87.79,
          6.27,
          8.41
         ],
         "xaxis": "x2",
         "yaxis": "y2"
        }
       ],
       "layout": {
        "barmode": "relative",
        "legend": {
         "tracegroupgap": 0
        },
        "margin": {
         "t": 60
        },
        "template": {
         "data": {
          "bar": [
           {
            "error_x": {
             "color": "#2a3f5f"
            },
            "error_y": {
             "color": "#2a3f5f"
            },
            "marker": {
             "line": {
              "color": "#E5ECF6",
              "width": 0.5
             },
             "pattern": {
              "fillmode": "overlay",
              "size": 10,
              "solidity": 0.2
             }
            },
            "type": "bar"
           }
          ],
          "barpolar": [
           {
            "marker": {
             "line": {
              "color": "#E5ECF6",
              "width": 0.5
             },
             "pattern": {
              "fillmode": "overlay",
              "size": 10,
              "solidity": 0.2
             }
            },
            "type": "barpolar"
           }
          ],
          "carpet": [
           {
            "aaxis": {
             "endlinecolor": "#2a3f5f",
             "gridcolor": "white",
             "linecolor": "white",
             "minorgridcolor": "white",
             "startlinecolor": "#2a3f5f"
            },
            "baxis": {
             "endlinecolor": "#2a3f5f",
             "gridcolor": "white",
             "linecolor": "white",
             "minorgridcolor": "white",
             "startlinecolor": "#2a3f5f"
            },
            "type": "carpet"
           }
          ],
          "choropleth": [
           {
            "colorbar": {
             "outlinewidth": 0,
             "ticks": ""
            },
            "type": "choropleth"
           }
          ],
          "contour": [
           {
            "colorbar": {
             "outlinewidth": 0,
             "ticks": ""
            },
            "colorscale": [
             [
              0,
              "#0d0887"
             ],
             [
              0.1111111111111111,
              "#46039f"
             ],
             [
              0.2222222222222222,
              "#7201a8"
             ],
             [
              0.3333333333333333,
              "#9c179e"
             ],
             [
              0.4444444444444444,
              "#bd3786"
             ],
             [
              0.5555555555555556,
              "#d8576b"
             ],
             [
              0.6666666666666666,
              "#ed7953"
             ],
             [
              0.7777777777777778,
              "#fb9f3a"
             ],
             [
              0.8888888888888888,
              "#fdca26"
             ],
             [
              1,
              "#f0f921"
             ]
            ],
            "type": "contour"
           }
          ],
          "contourcarpet": [
           {
            "colorbar": {
             "outlinewidth": 0,
             "ticks": ""
            },
            "type": "contourcarpet"
           }
          ],
          "heatmap": [
           {
            "colorbar": {
             "outlinewidth": 0,
             "ticks": ""
            },
            "colorscale": [
             [
              0,
              "#0d0887"
             ],
             [
              0.1111111111111111,
              "#46039f"
             ],
             [
              0.2222222222222222,
              "#7201a8"
             ],
             [
              0.3333333333333333,
              "#9c179e"
             ],
             [
              0.4444444444444444,
              "#bd3786"
             ],
             [
              0.5555555555555556,
              "#d8576b"
             ],
             [
              0.6666666666666666,
              "#ed7953"
             ],
             [
              0.7777777777777778,
              "#fb9f3a"
             ],
             [
              0.8888888888888888,
              "#fdca26"
             ],
             [
              1,
              "#f0f921"
             ]
            ],
            "type": "heatmap"
           }
          ],
          "heatmapgl": [
           {
            "colorbar": {
             "outlinewidth": 0,
             "ticks": ""
            },
            "colorscale": [
             [
              0,
              "#0d0887"
             ],
             [
              0.1111111111111111,
              "#46039f"
             ],
             [
              0.2222222222222222,
              "#7201a8"
             ],
             [
              0.3333333333333333,
              "#9c179e"
             ],
             [
              0.4444444444444444,
              "#bd3786"
             ],
             [
              0.5555555555555556,
              "#d8576b"
             ],
             [
              0.6666666666666666,
              "#ed7953"
             ],
             [
              0.7777777777777778,
              "#fb9f3a"
             ],
             [
              0.8888888888888888,
              "#fdca26"
             ],
             [
              1,
              "#f0f921"
             ]
            ],
            "type": "heatmapgl"
           }
          ],
          "histogram": [
           {
            "marker": {
             "pattern": {
              "fillmode": "overlay",
              "size": 10,
              "solidity": 0.2
             }
            },
            "type": "histogram"
           }
          ],
          "histogram2d": [
           {
            "colorbar": {
             "outlinewidth": 0,
             "ticks": ""
            },
            "colorscale": [
             [
              0,
              "#0d0887"
             ],
             [
              0.1111111111111111,
              "#46039f"
             ],
             [
              0.2222222222222222,
              "#7201a8"
             ],
             [
              0.3333333333333333,
              "#9c179e"
             ],
             [
              0.4444444444444444,
              "#bd3786"
             ],
             [
              0.5555555555555556,
              "#d8576b"
             ],
             [
              0.6666666666666666,
              "#ed7953"
             ],
             [
              0.7777777777777778,
              "#fb9f3a"
             ],
             [
              0.8888888888888888,
              "#fdca26"
             ],
             [
              1,
              "#f0f921"
             ]
            ],
            "type": "histogram2d"
           }
          ],
          "histogram2dcontour": [
           {
            "colorbar": {
             "outlinewidth": 0,
             "ticks": ""
            },
            "colorscale": [
             [
              0,
              "#0d0887"
             ],
             [
              0.1111111111111111,
              "#46039f"
             ],
             [
              0.2222222222222222,
              "#7201a8"
             ],
             [
              0.3333333333333333,
              "#9c179e"
             ],
             [
              0.4444444444444444,
              "#bd3786"
             ],
             [
              0.5555555555555556,
              "#d8576b"
             ],
             [
              0.6666666666666666,
              "#ed7953"
             ],
             [
              0.7777777777777778,
              "#fb9f3a"
             ],
             [
              0.8888888888888888,
              "#fdca26"
             ],
             [
              1,
              "#f0f921"
             ]
            ],
            "type": "histogram2dcontour"
           }
          ],
          "mesh3d": [
           {
            "colorbar": {
             "outlinewidth": 0,
             "ticks": ""
            },
            "type": "mesh3d"
           }
          ],
          "parcoords": [
           {
            "line": {
             "colorbar": {
              "outlinewidth": 0,
              "ticks": ""
             }
            },
            "type": "parcoords"
           }
          ],
          "pie": [
           {
            "automargin": true,
            "type": "pie"
           }
          ],
          "scatter": [
           {
            "fillpattern": {
             "fillmode": "overlay",
             "size": 10,
             "solidity": 0.2
            },
            "type": "scatter"
           }
          ],
          "scatter3d": [
           {
            "line": {
             "colorbar": {
              "outlinewidth": 0,
              "ticks": ""
             }
            },
            "marker": {
             "colorbar": {
              "outlinewidth": 0,
              "ticks": ""
             }
            },
            "type": "scatter3d"
           }
          ],
          "scattercarpet": [
           {
            "marker": {
             "colorbar": {
              "outlinewidth": 0,
              "ticks": ""
             }
            },
            "type": "scattercarpet"
           }
          ],
          "scattergeo": [
           {
            "marker": {
             "colorbar": {
              "outlinewidth": 0,
              "ticks": ""
             }
            },
            "type": "scattergeo"
           }
          ],
          "scattergl": [
           {
            "marker": {
             "colorbar": {
              "outlinewidth": 0,
              "ticks": ""
             }
            },
            "type": "scattergl"
           }
          ],
          "scattermapbox": [
           {
            "marker": {
             "colorbar": {
              "outlinewidth": 0,
              "ticks": ""
             }
            },
            "type": "scattermapbox"
           }
          ],
          "scatterpolar": [
           {
            "marker": {
             "colorbar": {
              "outlinewidth": 0,
              "ticks": ""
             }
            },
            "type": "scatterpolar"
           }
          ],
          "scatterpolargl": [
           {
            "marker": {
             "colorbar": {
              "outlinewidth": 0,
              "ticks": ""
             }
            },
            "type": "scatterpolargl"
           }
          ],
          "scatterternary": [
           {
            "marker": {
             "colorbar": {
              "outlinewidth": 0,
              "ticks": ""
             }
            },
            "type": "scatterternary"
           }
          ],
          "surface": [
           {
            "colorbar": {
             "outlinewidth": 0,
             "ticks": ""
            },
            "colorscale": [
             [
              0,
              "#0d0887"
             ],
             [
              0.1111111111111111,
              "#46039f"
             ],
             [
              0.2222222222222222,
              "#7201a8"
             ],
             [
              0.3333333333333333,
              "#9c179e"
             ],
             [
              0.4444444444444444,
              "#bd3786"
             ],
             [
              0.5555555555555556,
              "#d8576b"
             ],
             [
              0.6666666666666666,
              "#ed7953"
             ],
             [
              0.7777777777777778,
              "#fb9f3a"
             ],
             [
              0.8888888888888888,
              "#fdca26"
             ],
             [
              1,
              "#f0f921"
             ]
            ],
            "type": "surface"
           }
          ],
          "table": [
           {
            "cells": {
             "fill": {
              "color": "#EBF0F8"
             },
             "line": {
              "color": "white"
             }
            },
            "header": {
             "fill": {
              "color": "#C8D4E3"
             },
             "line": {
              "color": "white"
             }
            },
            "type": "table"
           }
          ]
         },
         "layout": {
          "annotationdefaults": {
           "arrowcolor": "#2a3f5f",
           "arrowhead": 0,
           "arrowwidth": 1
          },
          "autotypenumbers": "strict",
          "coloraxis": {
           "colorbar": {
            "outlinewidth": 0,
            "ticks": ""
           }
          },
          "colorscale": {
           "diverging": [
            [
             0,
             "#8e0152"
            ],
            [
             0.1,
             "#c51b7d"
            ],
            [
             0.2,
             "#de77ae"
            ],
            [
             0.3,
             "#f1b6da"
            ],
            [
             0.4,
             "#fde0ef"
            ],
            [
             0.5,
             "#f7f7f7"
            ],
            [
             0.6,
             "#e6f5d0"
            ],
            [
             0.7,
             "#b8e186"
            ],
            [
             0.8,
             "#7fbc41"
            ],
            [
             0.9,
             "#4d9221"
            ],
            [
             1,
             "#276419"
            ]
           ],
           "sequential": [
            [
             0,
             "#0d0887"
            ],
            [
             0.1111111111111111,
             "#46039f"
            ],
            [
             0.2222222222222222,
             "#7201a8"
            ],
            [
             0.3333333333333333,
             "#9c179e"
            ],
            [
             0.4444444444444444,
             "#bd3786"
            ],
            [
             0.5555555555555556,
             "#d8576b"
            ],
            [
             0.6666666666666666,
             "#ed7953"
            ],
            [
             0.7777777777777778,
             "#fb9f3a"
            ],
            [
             0.8888888888888888,
             "#fdca26"
            ],
            [
             1,
             "#f0f921"
            ]
           ],
           "sequentialminus": [
            [
             0,
             "#0d0887"
            ],
            [
             0.1111111111111111,
             "#46039f"
            ],
            [
             0.2222222222222222,
             "#7201a8"
            ],
            [
             0.3333333333333333,
             "#9c179e"
            ],
            [
             0.4444444444444444,
             "#bd3786"
            ],
            [
             0.5555555555555556,
             "#d8576b"
            ],
            [
             0.6666666666666666,
             "#ed7953"
            ],
            [
             0.7777777777777778,
             "#fb9f3a"
            ],
            [
             0.8888888888888888,
             "#fdca26"
            ],
            [
             1,
             "#f0f921"
            ]
           ]
          },
          "colorway": [
           "#636efa",
           "#EF553B",
           "#00cc96",
           "#ab63fa",
           "#FFA15A",
           "#19d3f3",
           "#FF6692",
           "#B6E880",
           "#FF97FF",
           "#FECB52"
          ],
          "font": {
           "color": "#2a3f5f"
          },
          "geo": {
           "bgcolor": "white",
           "lakecolor": "white",
           "landcolor": "#E5ECF6",
           "showlakes": true,
           "showland": true,
           "subunitcolor": "white"
          },
          "hoverlabel": {
           "align": "left"
          },
          "hovermode": "closest",
          "mapbox": {
           "style": "light"
          },
          "paper_bgcolor": "white",
          "plot_bgcolor": "#E5ECF6",
          "polar": {
           "angularaxis": {
            "gridcolor": "white",
            "linecolor": "white",
            "ticks": ""
           },
           "bgcolor": "#E5ECF6",
           "radialaxis": {
            "gridcolor": "white",
            "linecolor": "white",
            "ticks": ""
           }
          },
          "scene": {
           "xaxis": {
            "backgroundcolor": "#E5ECF6",
            "gridcolor": "white",
            "gridwidth": 2,
            "linecolor": "white",
            "showbackground": true,
            "ticks": "",
            "zerolinecolor": "white"
           },
           "yaxis": {
            "backgroundcolor": "#E5ECF6",
            "gridcolor": "white",
            "gridwidth": 2,
            "linecolor": "white",
            "showbackground": true,
            "ticks": "",
            "zerolinecolor": "white"
           },
           "zaxis": {
            "backgroundcolor": "#E5ECF6",
            "gridcolor": "white",
            "gridwidth": 2,
            "linecolor": "white",
            "showbackground": true,
            "ticks": "",
            "zerolinecolor": "white"
           }
          },
          "shapedefaults": {
           "line": {
            "color": "#2a3f5f"
           }
          },
          "ternary": {
           "aaxis": {
            "gridcolor": "white",
            "linecolor": "white",
            "ticks": ""
           },
           "baxis": {
            "gridcolor": "white",
            "linecolor": "white",
            "ticks": ""
           },
           "bgcolor": "#E5ECF6",
           "caxis": {
            "gridcolor": "white",
            "linecolor": "white",
            "ticks": ""
           }
          },
          "title": {
           "x": 0.05
          },
          "xaxis": {
           "automargin": true,
           "gridcolor": "white",
           "linecolor": "white",
           "ticks": "",
           "title": {
            "standoff": 15
           },
           "zerolinecolor": "white",
           "zerolinewidth": 2
          },
          "yaxis": {
           "automargin": true,
           "gridcolor": "white",
           "linecolor": "white",
           "ticks": "",
           "title": {
            "standoff": 15
           },
           "zerolinecolor": "white",
           "zerolinewidth": 2
          }
         }
        },
        "xaxis": {
         "anchor": "y",
         "domain": [
          0,
          1
         ],
         "title": {
          "text": "Land use per kilogram (m² per kilogram)"
         }
        },
        "xaxis2": {
         "anchor": "y2",
         "domain": [
          0,
          1
         ],
         "matches": "x",
         "showgrid": true,
         "showticklabels": false
        },
        "yaxis": {
         "anchor": "x",
         "domain": [
          0,
          0.8316
         ],
         "title": {
          "text": "count"
         }
        },
        "yaxis2": {
         "anchor": "x2",
         "domain": [
          0.8416,
          1
         ],
         "matches": "y2",
         "showgrid": false,
         "showline": false,
         "showticklabels": false,
         "ticks": ""
        }
       }
      }
     },
     "metadata": {},
     "output_type": "display_data"
    }
   ],
   "source": [
    "fig = px.histogram(food_pr_df, x=food_pr_df['Land use per kilogram (m² per kilogram)'],\n",
    "                   marginal=\"box\",\n",
    "                   hover_data=food_pr_df.columns)\n",
    "fig.show()"
   ]
  },
  {
   "cell_type": "code",
   "execution_count": 57,
   "id": "551ac203",
   "metadata": {},
   "outputs": [
    {
     "data": {
      "text/html": [
       "<div>\n",
       "<style scoped>\n",
       "    .dataframe tbody tr th:only-of-type {\n",
       "        vertical-align: middle;\n",
       "    }\n",
       "\n",
       "    .dataframe tbody tr th {\n",
       "        vertical-align: top;\n",
       "    }\n",
       "\n",
       "    .dataframe thead th {\n",
       "        text-align: right;\n",
       "    }\n",
       "</style>\n",
       "<table border=\"1\" class=\"dataframe\">\n",
       "  <thead>\n",
       "    <tr style=\"text-align: right;\">\n",
       "      <th></th>\n",
       "      <th>Food product</th>\n",
       "      <th>Land use per kilogram (m² per kilogram)</th>\n",
       "    </tr>\n",
       "  </thead>\n",
       "  <tbody>\n",
       "    <tr>\n",
       "      <th>35</th>\n",
       "      <td>Lamb &amp; Mutton</td>\n",
       "      <td>369.81</td>\n",
       "    </tr>\n",
       "    <tr>\n",
       "      <th>33</th>\n",
       "      <td>Beef (beef herd)</td>\n",
       "      <td>326.21</td>\n",
       "    </tr>\n",
       "    <tr>\n",
       "      <th>39</th>\n",
       "      <td>Cheese</td>\n",
       "      <td>87.79</td>\n",
       "    </tr>\n",
       "    <tr>\n",
       "      <th>32</th>\n",
       "      <td>Dark Chocolate</td>\n",
       "      <td>68.96</td>\n",
       "    </tr>\n",
       "    <tr>\n",
       "      <th>34</th>\n",
       "      <td>Beef (dairy herd)</td>\n",
       "      <td>43.24</td>\n",
       "    </tr>\n",
       "    <tr>\n",
       "      <th>19</th>\n",
       "      <td>Olive Oil</td>\n",
       "      <td>26.31</td>\n",
       "    </tr>\n",
       "    <tr>\n",
       "      <th>31</th>\n",
       "      <td>Coffee</td>\n",
       "      <td>21.62</td>\n",
       "    </tr>\n",
       "    <tr>\n",
       "      <th>17</th>\n",
       "      <td>Sunflower Oil</td>\n",
       "      <td>17.66</td>\n",
       "    </tr>\n",
       "    <tr>\n",
       "      <th>36</th>\n",
       "      <td>Pig Meat</td>\n",
       "      <td>17.36</td>\n",
       "    </tr>\n",
       "    <tr>\n",
       "      <th>9</th>\n",
       "      <td>Other Pulses</td>\n",
       "      <td>15.57</td>\n",
       "    </tr>\n",
       "  </tbody>\n",
       "</table>\n",
       "</div>"
      ],
      "text/plain": [
       "         Food product  Land use per kilogram (m² per kilogram)\n",
       "35      Lamb & Mutton                                   369.81\n",
       "33   Beef (beef herd)                                   326.21\n",
       "39             Cheese                                    87.79\n",
       "32     Dark Chocolate                                    68.96\n",
       "34  Beef (dairy herd)                                    43.24\n",
       "19          Olive Oil                                    26.31\n",
       "31             Coffee                                    21.62\n",
       "17      Sunflower Oil                                    17.66\n",
       "36           Pig Meat                                    17.36\n",
       "9        Other Pulses                                    15.57"
      ]
     },
     "execution_count": 57,
     "metadata": {},
     "output_type": "execute_result"
    }
   ],
   "source": [
    "cond = food_pr_df['Land use per kilogram (m² per kilogram)'] > np.percentile(food_pr_df['Land use per kilogram (m² per kilogram)'], 75)\n",
    "food_pr_df.loc[cond, ['Food product', 'Land use per kilogram (m² per kilogram)']].sort_values(by='Land use per kilogram (m² per kilogram)', ascending=False)"
   ]
  },
  {
   "cell_type": "code",
   "execution_count": 58,
   "id": "4a14d22e",
   "metadata": {},
   "outputs": [],
   "source": [
    "top_land = food_pr_df.sort_values(by='Land use per kilogram (m² per kilogram)', ascending=False)[:10]['Food product'].to_list()"
   ]
  },
  {
   "cell_type": "markdown",
   "id": "6be9189f",
   "metadata": {},
   "source": [
    "Top 10 products for scarcity-weighted water use"
   ]
  },
  {
   "cell_type": "code",
   "execution_count": 59,
   "id": "7e84c66a",
   "metadata": {},
   "outputs": [
    {
     "data": {
      "application/vnd.plotly.v1+json": {
       "config": {
        "plotlyServerURL": "https://plot.ly"
       },
       "data": [
        {
         "alignmentgroup": "True",
         "bingroup": "x",
         "hovertemplate": "Scarcity-weighted water use per kilogram (liters per kilogram)=%{x}<br>count=%{y}<extra></extra>",
         "legendgroup": "",
         "marker": {
          "color": "#636efa",
          "pattern": {
           "shape": ""
          }
         },
         "name": "",
         "offsetgroup": "",
         "orientation": "v",
         "showlegend": false,
         "type": "histogram",
         "x": [
          18786.2,
          49576.3,
          2754.2,
          0,
          16438.6,
          9493.3,
          22477.4,
          27948.2,
          229889.8,
          61797.9,
          955.6,
          14888.2,
          36.2,
          36369.4,
          10593.7,
          177480.2,
          5335.7,
          932,
          929.2,
          8455.1,
          4911.4,
          4662.7,
          661.9,
          12948.6,
          21162.1,
          1149.3,
          9533.1,
          337,
          2879.2,
          34732.5,
          119805.2,
          141925,
          66867.4,
          14177.9,
          19786.3,
          180850.6,
          17982.7,
          41572.2
         ],
         "xaxis": "x",
         "yaxis": "y"
        },
        {
         "alignmentgroup": "True",
         "customdata": [
          [
           "Oatmeal",
           0,
           0,
           1.4,
           0,
           0.1,
           0.1,
           0,
           1.6,
           11.23,
           482.4,
           7.6
          ],
          [
           "Rice",
           0,
           0,
           3.6,
           0.1,
           0.1,
           0.1,
           0.1,
           4,
           35.07,
           2248.4,
           2.8
          ],
          [
           "Potatoes",
           0,
           0,
           0.2,
           0,
           0.1,
           0,
           0,
           0.3,
           3.48,
           59.1,
           0.88
          ],
          [
           "Cassava",
           0.6,
           0,
           0.2,
           0,
           0.1,
           0,
           0,
           0.9,
           0.69,
           0,
           1.81
          ],
          [
           "Cane Sugar",
           1.2,
           0,
           0.5,
           0,
           0.8,
           0.1,
           0,
           2.6,
           16.92,
           620.1,
           2.04
          ],
          [
           "Beet Sugar",
           0,
           0,
           0.5,
           0.2,
           0.6,
           0.1,
           0,
           1.4,
           5.41,
           217.7,
           1.83
          ],
          [
           "Other Pulses",
           0,
           0,
           1.1,
           0,
           0.1,
           0.4,
           0,
           1.6,
           17.08,
           435.7,
           15.57
          ],
          [
           "Peas",
           0,
           0,
           0.7,
           0,
           0.1,
           0,
           0,
           0.7999999999999999,
           7.52,
           396.6,
           7.46
          ],
          [
           "Nuts",
           -2.1,
           0,
           2.1,
           0,
           0.1,
           0.1,
           0,
           0.2,
           19.15,
           4133.8,
           12.96
          ],
          [
           "Groundnuts",
           0.4,
           0,
           1.4,
           0.4,
           0.1,
           0.1,
           0,
           2.4,
           14.14,
           1852.3,
           9.11
          ],
          [
           "Soymilk",
           0.2,
           0,
           0.1,
           0.2,
           0.1,
           0.1,
           0.3,
           1,
           1.06,
           27.8,
           0.66
          ],
          [
           "Soybean Oil",
           3.1,
           0,
           1.5,
           0.3,
           0.3,
           0.8,
           0,
           5.999999999999999,
           11.69,
           414.6,
           10.52
          ],
          [
           "Palm Oil",
           3.1,
           0,
           2.1,
           1.3,
           0.2,
           0.9,
           0,
           7.6,
           10.67,
           6.4,
           2.42
          ],
          [
           "Sunflower Oil",
           0.1,
           0,
           2.1,
           0.2,
           0.2,
           0.9,
           0,
           3.5000000000000004,
           50.66,
           1007.9,
           17.66
          ],
          [
           "Rapeseed Oil",
           0.2,
           0,
           2.3,
           0.2,
           0.2,
           0.8,
           0,
           3.7,
           19.19,
           237.7,
           10.63
          ],
          [
           "Olive Oil",
           -0.4,
           0,
           4.3,
           0.7,
           0.5,
           0.9,
           0,
           6,
           37.26,
           2141.8,
           26.31
          ],
          [
           "Tomatoes",
           0.4,
           0,
           0.7,
           0,
           0.2,
           0.1,
           0,
           1.4,
           7.51,
           369.8,
           0.8
          ],
          [
           "Onions & Leeks",
           0,
           0,
           0.2,
           0,
           0.1,
           0,
           0,
           0.3,
           3.24,
           14.3,
           0.39
          ],
          [
           "Root Vegetables",
           0,
           0,
           0.2,
           0,
           0.1,
           0,
           0,
           0.3,
           1.61,
           28.4,
           0.33
          ],
          [
           "Brassicas",
           0,
           0,
           0.3,
           0,
           0.1,
           0,
           0,
           0.4,
           5.01,
           119.4,
           0.55
          ],
          [
           "Other Vegetables",
           0,
           0,
           0.2,
           0.1,
           0.2,
           0,
           0,
           0.5,
           2.27,
           102.5,
           0.38
          ],
          [
           "Citrus Fruit",
           -0.1,
           0,
           0.3,
           0,
           0.1,
           0,
           0,
           0.3,
           2.24,
           82.7,
           0.86
          ],
          [
           "Bananas",
           0,
           0,
           0.3,
           0.1,
           0.3,
           0.1,
           0,
           0.7999999999999999,
           3.29,
           114.5,
           1.93
          ],
          [
           "Apples",
           0,
           0,
           0.2,
           0,
           0.1,
           0,
           0,
           0.3,
           1.45,
           180.1,
           0.63
          ],
          [
           "Berries & Grapes",
           0,
           0,
           0.7,
           0,
           0.2,
           0.2,
           0,
           1.1,
           6.12,
           419.6,
           2.41
          ],
          [
           "Wine",
           -0.1,
           0,
           0.6,
           0.1,
           0.1,
           0.7,
           0,
           1.4,
           4.57,
           78.9,
           1.78
          ],
          [
           "Other Fruit",
           0.1,
           0,
           0.4,
           0,
           0.2,
           0,
           0,
           0.7,
           2.43,
           153.5,
           0.89
          ],
          [
           "Coffee",
           3.7,
           0,
           10.4,
           0.6,
           0.1,
           1.6,
           0.1,
           16.500000000000004,
           110.52,
           25.9,
           21.62
          ],
          [
           "Dark Chocolate",
           14.3,
           0,
           3.7,
           0.2,
           0.1,
           0.4,
           0,
           18.7,
           87.08,
           540.6,
           68.96
          ],
          [
           "Beef (beef herd)",
           16.3,
           1.9,
           39.4,
           1.3,
           0.3,
           0.2,
           0.2,
           59.6,
           301.41,
           1451.2,
           326.21
          ],
          [
           "Beef (dairy herd)",
           0.9,
           2.5,
           15.7,
           1.1,
           0.4,
           0.3,
           0.2,
           21.1,
           365.29,
           2714.3,
           43.24
          ],
          [
           "Lamb & Mutton",
           0.5,
           2.4,
           19.5,
           1.1,
           0.5,
           0.3,
           0.2,
           24.5,
           97.13,
           1802.8,
           369.81
          ],
          [
           "Pig Meat",
           1.5,
           2.9,
           1.7,
           0.3,
           0.3,
           0.3,
           0.2,
           7.2,
           76.38,
           1795.8,
           17.36
          ],
          [
           "Poultry Meat",
           2.5,
           1.8,
           0.7,
           0.4,
           0.3,
           0.2,
           0.2,
           6.1000000000000005,
           48.7,
           660,
           12.22
          ],
          [
           "Milk",
           0.5,
           0.2,
           1.5,
           0.1,
           0.1,
           0.1,
           0.3,
           2.8000000000000003,
           10.65,
           628.2,
           8.95
          ],
          [
           "Cheese",
           4.5,
           2.3,
           13.1,
           0.7,
           0.1,
           0.2,
           0.3,
           21.2,
           98.37,
           5605.2,
           87.79
          ],
          [
           "Eggs",
           0.7,
           2.2,
           1.3,
           0,
           0.1,
           0.2,
           0,
           4.5,
           21.76,
           577.7,
           6.27
          ],
          [
           "Fish (farmed)",
           0.5,
           0.8,
           3.6,
           0,
           0.1,
           0.1,
           0,
           5.1,
           235.12,
           3691.3,
           8.41
          ]
         ],
         "hovertemplate": "Scarcity-weighted water use per kilogram (liters per kilogram)=%{x}<br>Food product=%{customdata[0]}<br>Land use change=%{customdata[1]}<br>Animal Feed=%{customdata[2]}<br>Farm=%{customdata[3]}<br>Processing=%{customdata[4]}<br>Transport=%{customdata[5]}<br>Packging=%{customdata[6]}<br>Retail=%{customdata[7]}<br>Total_emissions=%{customdata[8]}<br>Eutrophying emissions per kilogram (gPO₄eq per kilogram)=%{customdata[9]}<br>Freshwater withdrawals per kilogram (liters per kilogram)=%{customdata[10]}<br>Land use per kilogram (m² per kilogram)=%{customdata[11]}<extra></extra>",
         "legendgroup": "",
         "marker": {
          "color": "#636efa"
         },
         "name": "",
         "notched": true,
         "offsetgroup": "",
         "showlegend": false,
         "type": "box",
         "x": [
          18786.2,
          49576.3,
          2754.2,
          0,
          16438.6,
          9493.3,
          22477.4,
          27948.2,
          229889.8,
          61797.9,
          955.6,
          14888.2,
          36.2,
          36369.4,
          10593.7,
          177480.2,
          5335.7,
          932,
          929.2,
          8455.1,
          4911.4,
          4662.7,
          661.9,
          12948.6,
          21162.1,
          1149.3,
          9533.1,
          337,
          2879.2,
          34732.5,
          119805.2,
          141925,
          66867.4,
          14177.9,
          19786.3,
          180850.6,
          17982.7,
          41572.2
         ],
         "xaxis": "x2",
         "yaxis": "y2"
        }
       ],
       "layout": {
        "barmode": "relative",
        "legend": {
         "tracegroupgap": 0
        },
        "margin": {
         "t": 60
        },
        "template": {
         "data": {
          "bar": [
           {
            "error_x": {
             "color": "#2a3f5f"
            },
            "error_y": {
             "color": "#2a3f5f"
            },
            "marker": {
             "line": {
              "color": "#E5ECF6",
              "width": 0.5
             },
             "pattern": {
              "fillmode": "overlay",
              "size": 10,
              "solidity": 0.2
             }
            },
            "type": "bar"
           }
          ],
          "barpolar": [
           {
            "marker": {
             "line": {
              "color": "#E5ECF6",
              "width": 0.5
             },
             "pattern": {
              "fillmode": "overlay",
              "size": 10,
              "solidity": 0.2
             }
            },
            "type": "barpolar"
           }
          ],
          "carpet": [
           {
            "aaxis": {
             "endlinecolor": "#2a3f5f",
             "gridcolor": "white",
             "linecolor": "white",
             "minorgridcolor": "white",
             "startlinecolor": "#2a3f5f"
            },
            "baxis": {
             "endlinecolor": "#2a3f5f",
             "gridcolor": "white",
             "linecolor": "white",
             "minorgridcolor": "white",
             "startlinecolor": "#2a3f5f"
            },
            "type": "carpet"
           }
          ],
          "choropleth": [
           {
            "colorbar": {
             "outlinewidth": 0,
             "ticks": ""
            },
            "type": "choropleth"
           }
          ],
          "contour": [
           {
            "colorbar": {
             "outlinewidth": 0,
             "ticks": ""
            },
            "colorscale": [
             [
              0,
              "#0d0887"
             ],
             [
              0.1111111111111111,
              "#46039f"
             ],
             [
              0.2222222222222222,
              "#7201a8"
             ],
             [
              0.3333333333333333,
              "#9c179e"
             ],
             [
              0.4444444444444444,
              "#bd3786"
             ],
             [
              0.5555555555555556,
              "#d8576b"
             ],
             [
              0.6666666666666666,
              "#ed7953"
             ],
             [
              0.7777777777777778,
              "#fb9f3a"
             ],
             [
              0.8888888888888888,
              "#fdca26"
             ],
             [
              1,
              "#f0f921"
             ]
            ],
            "type": "contour"
           }
          ],
          "contourcarpet": [
           {
            "colorbar": {
             "outlinewidth": 0,
             "ticks": ""
            },
            "type": "contourcarpet"
           }
          ],
          "heatmap": [
           {
            "colorbar": {
             "outlinewidth": 0,
             "ticks": ""
            },
            "colorscale": [
             [
              0,
              "#0d0887"
             ],
             [
              0.1111111111111111,
              "#46039f"
             ],
             [
              0.2222222222222222,
              "#7201a8"
             ],
             [
              0.3333333333333333,
              "#9c179e"
             ],
             [
              0.4444444444444444,
              "#bd3786"
             ],
             [
              0.5555555555555556,
              "#d8576b"
             ],
             [
              0.6666666666666666,
              "#ed7953"
             ],
             [
              0.7777777777777778,
              "#fb9f3a"
             ],
             [
              0.8888888888888888,
              "#fdca26"
             ],
             [
              1,
              "#f0f921"
             ]
            ],
            "type": "heatmap"
           }
          ],
          "heatmapgl": [
           {
            "colorbar": {
             "outlinewidth": 0,
             "ticks": ""
            },
            "colorscale": [
             [
              0,
              "#0d0887"
             ],
             [
              0.1111111111111111,
              "#46039f"
             ],
             [
              0.2222222222222222,
              "#7201a8"
             ],
             [
              0.3333333333333333,
              "#9c179e"
             ],
             [
              0.4444444444444444,
              "#bd3786"
             ],
             [
              0.5555555555555556,
              "#d8576b"
             ],
             [
              0.6666666666666666,
              "#ed7953"
             ],
             [
              0.7777777777777778,
              "#fb9f3a"
             ],
             [
              0.8888888888888888,
              "#fdca26"
             ],
             [
              1,
              "#f0f921"
             ]
            ],
            "type": "heatmapgl"
           }
          ],
          "histogram": [
           {
            "marker": {
             "pattern": {
              "fillmode": "overlay",
              "size": 10,
              "solidity": 0.2
             }
            },
            "type": "histogram"
           }
          ],
          "histogram2d": [
           {
            "colorbar": {
             "outlinewidth": 0,
             "ticks": ""
            },
            "colorscale": [
             [
              0,
              "#0d0887"
             ],
             [
              0.1111111111111111,
              "#46039f"
             ],
             [
              0.2222222222222222,
              "#7201a8"
             ],
             [
              0.3333333333333333,
              "#9c179e"
             ],
             [
              0.4444444444444444,
              "#bd3786"
             ],
             [
              0.5555555555555556,
              "#d8576b"
             ],
             [
              0.6666666666666666,
              "#ed7953"
             ],
             [
              0.7777777777777778,
              "#fb9f3a"
             ],
             [
              0.8888888888888888,
              "#fdca26"
             ],
             [
              1,
              "#f0f921"
             ]
            ],
            "type": "histogram2d"
           }
          ],
          "histogram2dcontour": [
           {
            "colorbar": {
             "outlinewidth": 0,
             "ticks": ""
            },
            "colorscale": [
             [
              0,
              "#0d0887"
             ],
             [
              0.1111111111111111,
              "#46039f"
             ],
             [
              0.2222222222222222,
              "#7201a8"
             ],
             [
              0.3333333333333333,
              "#9c179e"
             ],
             [
              0.4444444444444444,
              "#bd3786"
             ],
             [
              0.5555555555555556,
              "#d8576b"
             ],
             [
              0.6666666666666666,
              "#ed7953"
             ],
             [
              0.7777777777777778,
              "#fb9f3a"
             ],
             [
              0.8888888888888888,
              "#fdca26"
             ],
             [
              1,
              "#f0f921"
             ]
            ],
            "type": "histogram2dcontour"
           }
          ],
          "mesh3d": [
           {
            "colorbar": {
             "outlinewidth": 0,
             "ticks": ""
            },
            "type": "mesh3d"
           }
          ],
          "parcoords": [
           {
            "line": {
             "colorbar": {
              "outlinewidth": 0,
              "ticks": ""
             }
            },
            "type": "parcoords"
           }
          ],
          "pie": [
           {
            "automargin": true,
            "type": "pie"
           }
          ],
          "scatter": [
           {
            "fillpattern": {
             "fillmode": "overlay",
             "size": 10,
             "solidity": 0.2
            },
            "type": "scatter"
           }
          ],
          "scatter3d": [
           {
            "line": {
             "colorbar": {
              "outlinewidth": 0,
              "ticks": ""
             }
            },
            "marker": {
             "colorbar": {
              "outlinewidth": 0,
              "ticks": ""
             }
            },
            "type": "scatter3d"
           }
          ],
          "scattercarpet": [
           {
            "marker": {
             "colorbar": {
              "outlinewidth": 0,
              "ticks": ""
             }
            },
            "type": "scattercarpet"
           }
          ],
          "scattergeo": [
           {
            "marker": {
             "colorbar": {
              "outlinewidth": 0,
              "ticks": ""
             }
            },
            "type": "scattergeo"
           }
          ],
          "scattergl": [
           {
            "marker": {
             "colorbar": {
              "outlinewidth": 0,
              "ticks": ""
             }
            },
            "type": "scattergl"
           }
          ],
          "scattermapbox": [
           {
            "marker": {
             "colorbar": {
              "outlinewidth": 0,
              "ticks": ""
             }
            },
            "type": "scattermapbox"
           }
          ],
          "scatterpolar": [
           {
            "marker": {
             "colorbar": {
              "outlinewidth": 0,
              "ticks": ""
             }
            },
            "type": "scatterpolar"
           }
          ],
          "scatterpolargl": [
           {
            "marker": {
             "colorbar": {
              "outlinewidth": 0,
              "ticks": ""
             }
            },
            "type": "scatterpolargl"
           }
          ],
          "scatterternary": [
           {
            "marker": {
             "colorbar": {
              "outlinewidth": 0,
              "ticks": ""
             }
            },
            "type": "scatterternary"
           }
          ],
          "surface": [
           {
            "colorbar": {
             "outlinewidth": 0,
             "ticks": ""
            },
            "colorscale": [
             [
              0,
              "#0d0887"
             ],
             [
              0.1111111111111111,
              "#46039f"
             ],
             [
              0.2222222222222222,
              "#7201a8"
             ],
             [
              0.3333333333333333,
              "#9c179e"
             ],
             [
              0.4444444444444444,
              "#bd3786"
             ],
             [
              0.5555555555555556,
              "#d8576b"
             ],
             [
              0.6666666666666666,
              "#ed7953"
             ],
             [
              0.7777777777777778,
              "#fb9f3a"
             ],
             [
              0.8888888888888888,
              "#fdca26"
             ],
             [
              1,
              "#f0f921"
             ]
            ],
            "type": "surface"
           }
          ],
          "table": [
           {
            "cells": {
             "fill": {
              "color": "#EBF0F8"
             },
             "line": {
              "color": "white"
             }
            },
            "header": {
             "fill": {
              "color": "#C8D4E3"
             },
             "line": {
              "color": "white"
             }
            },
            "type": "table"
           }
          ]
         },
         "layout": {
          "annotationdefaults": {
           "arrowcolor": "#2a3f5f",
           "arrowhead": 0,
           "arrowwidth": 1
          },
          "autotypenumbers": "strict",
          "coloraxis": {
           "colorbar": {
            "outlinewidth": 0,
            "ticks": ""
           }
          },
          "colorscale": {
           "diverging": [
            [
             0,
             "#8e0152"
            ],
            [
             0.1,
             "#c51b7d"
            ],
            [
             0.2,
             "#de77ae"
            ],
            [
             0.3,
             "#f1b6da"
            ],
            [
             0.4,
             "#fde0ef"
            ],
            [
             0.5,
             "#f7f7f7"
            ],
            [
             0.6,
             "#e6f5d0"
            ],
            [
             0.7,
             "#b8e186"
            ],
            [
             0.8,
             "#7fbc41"
            ],
            [
             0.9,
             "#4d9221"
            ],
            [
             1,
             "#276419"
            ]
           ],
           "sequential": [
            [
             0,
             "#0d0887"
            ],
            [
             0.1111111111111111,
             "#46039f"
            ],
            [
             0.2222222222222222,
             "#7201a8"
            ],
            [
             0.3333333333333333,
             "#9c179e"
            ],
            [
             0.4444444444444444,
             "#bd3786"
            ],
            [
             0.5555555555555556,
             "#d8576b"
            ],
            [
             0.6666666666666666,
             "#ed7953"
            ],
            [
             0.7777777777777778,
             "#fb9f3a"
            ],
            [
             0.8888888888888888,
             "#fdca26"
            ],
            [
             1,
             "#f0f921"
            ]
           ],
           "sequentialminus": [
            [
             0,
             "#0d0887"
            ],
            [
             0.1111111111111111,
             "#46039f"
            ],
            [
             0.2222222222222222,
             "#7201a8"
            ],
            [
             0.3333333333333333,
             "#9c179e"
            ],
            [
             0.4444444444444444,
             "#bd3786"
            ],
            [
             0.5555555555555556,
             "#d8576b"
            ],
            [
             0.6666666666666666,
             "#ed7953"
            ],
            [
             0.7777777777777778,
             "#fb9f3a"
            ],
            [
             0.8888888888888888,
             "#fdca26"
            ],
            [
             1,
             "#f0f921"
            ]
           ]
          },
          "colorway": [
           "#636efa",
           "#EF553B",
           "#00cc96",
           "#ab63fa",
           "#FFA15A",
           "#19d3f3",
           "#FF6692",
           "#B6E880",
           "#FF97FF",
           "#FECB52"
          ],
          "font": {
           "color": "#2a3f5f"
          },
          "geo": {
           "bgcolor": "white",
           "lakecolor": "white",
           "landcolor": "#E5ECF6",
           "showlakes": true,
           "showland": true,
           "subunitcolor": "white"
          },
          "hoverlabel": {
           "align": "left"
          },
          "hovermode": "closest",
          "mapbox": {
           "style": "light"
          },
          "paper_bgcolor": "white",
          "plot_bgcolor": "#E5ECF6",
          "polar": {
           "angularaxis": {
            "gridcolor": "white",
            "linecolor": "white",
            "ticks": ""
           },
           "bgcolor": "#E5ECF6",
           "radialaxis": {
            "gridcolor": "white",
            "linecolor": "white",
            "ticks": ""
           }
          },
          "scene": {
           "xaxis": {
            "backgroundcolor": "#E5ECF6",
            "gridcolor": "white",
            "gridwidth": 2,
            "linecolor": "white",
            "showbackground": true,
            "ticks": "",
            "zerolinecolor": "white"
           },
           "yaxis": {
            "backgroundcolor": "#E5ECF6",
            "gridcolor": "white",
            "gridwidth": 2,
            "linecolor": "white",
            "showbackground": true,
            "ticks": "",
            "zerolinecolor": "white"
           },
           "zaxis": {
            "backgroundcolor": "#E5ECF6",
            "gridcolor": "white",
            "gridwidth": 2,
            "linecolor": "white",
            "showbackground": true,
            "ticks": "",
            "zerolinecolor": "white"
           }
          },
          "shapedefaults": {
           "line": {
            "color": "#2a3f5f"
           }
          },
          "ternary": {
           "aaxis": {
            "gridcolor": "white",
            "linecolor": "white",
            "ticks": ""
           },
           "baxis": {
            "gridcolor": "white",
            "linecolor": "white",
            "ticks": ""
           },
           "bgcolor": "#E5ECF6",
           "caxis": {
            "gridcolor": "white",
            "linecolor": "white",
            "ticks": ""
           }
          },
          "title": {
           "x": 0.05
          },
          "xaxis": {
           "automargin": true,
           "gridcolor": "white",
           "linecolor": "white",
           "ticks": "",
           "title": {
            "standoff": 15
           },
           "zerolinecolor": "white",
           "zerolinewidth": 2
          },
          "yaxis": {
           "automargin": true,
           "gridcolor": "white",
           "linecolor": "white",
           "ticks": "",
           "title": {
            "standoff": 15
           },
           "zerolinecolor": "white",
           "zerolinewidth": 2
          }
         }
        },
        "xaxis": {
         "anchor": "y",
         "domain": [
          0,
          1
         ],
         "title": {
          "text": "Scarcity-weighted water use per kilogram (liters per kilogram)"
         }
        },
        "xaxis2": {
         "anchor": "y2",
         "domain": [
          0,
          1
         ],
         "matches": "x",
         "showgrid": true,
         "showticklabels": false
        },
        "yaxis": {
         "anchor": "x",
         "domain": [
          0,
          0.8316
         ],
         "title": {
          "text": "count"
         }
        },
        "yaxis2": {
         "anchor": "x2",
         "domain": [
          0.8416,
          1
         ],
         "matches": "y2",
         "showgrid": false,
         "showline": false,
         "showticklabels": false,
         "ticks": ""
        }
       }
      }
     },
     "metadata": {},
     "output_type": "display_data"
    }
   ],
   "source": [
    "fig = px.histogram(food_pr_df, x=food_pr_df['Scarcity-weighted water use per kilogram (liters per kilogram)'],\n",
    "                   marginal=\"box\",\n",
    "                   hover_data=food_pr_df.columns)\n",
    "fig.show()"
   ]
  },
  {
   "cell_type": "code",
   "execution_count": 60,
   "id": "286c975e",
   "metadata": {},
   "outputs": [
    {
     "data": {
      "text/html": [
       "<div>\n",
       "<style scoped>\n",
       "    .dataframe tbody tr th:only-of-type {\n",
       "        vertical-align: middle;\n",
       "    }\n",
       "\n",
       "    .dataframe tbody tr th {\n",
       "        vertical-align: top;\n",
       "    }\n",
       "\n",
       "    .dataframe thead th {\n",
       "        text-align: right;\n",
       "    }\n",
       "</style>\n",
       "<table border=\"1\" class=\"dataframe\">\n",
       "  <thead>\n",
       "    <tr style=\"text-align: right;\">\n",
       "      <th></th>\n",
       "      <th>Food product</th>\n",
       "      <th>Scarcity-weighted water use per kilogram (liters per kilogram)</th>\n",
       "    </tr>\n",
       "  </thead>\n",
       "  <tbody>\n",
       "    <tr>\n",
       "      <th>11</th>\n",
       "      <td>Nuts</td>\n",
       "      <td>229,889.80</td>\n",
       "    </tr>\n",
       "    <tr>\n",
       "      <th>39</th>\n",
       "      <td>Cheese</td>\n",
       "      <td>180,850.60</td>\n",
       "    </tr>\n",
       "    <tr>\n",
       "      <th>19</th>\n",
       "      <td>Olive Oil</td>\n",
       "      <td>177,480.20</td>\n",
       "    </tr>\n",
       "    <tr>\n",
       "      <th>35</th>\n",
       "      <td>Lamb &amp; Mutton</td>\n",
       "      <td>141,925.00</td>\n",
       "    </tr>\n",
       "    <tr>\n",
       "      <th>34</th>\n",
       "      <td>Beef (dairy herd)</td>\n",
       "      <td>119,805.20</td>\n",
       "    </tr>\n",
       "    <tr>\n",
       "      <th>36</th>\n",
       "      <td>Pig Meat</td>\n",
       "      <td>66,867.40</td>\n",
       "    </tr>\n",
       "    <tr>\n",
       "      <th>12</th>\n",
       "      <td>Groundnuts</td>\n",
       "      <td>61,797.90</td>\n",
       "    </tr>\n",
       "    <tr>\n",
       "      <th>4</th>\n",
       "      <td>Rice</td>\n",
       "      <td>49,576.30</td>\n",
       "    </tr>\n",
       "    <tr>\n",
       "      <th>41</th>\n",
       "      <td>Fish (farmed)</td>\n",
       "      <td>41,572.20</td>\n",
       "    </tr>\n",
       "    <tr>\n",
       "      <th>17</th>\n",
       "      <td>Sunflower Oil</td>\n",
       "      <td>36,369.40</td>\n",
       "    </tr>\n",
       "  </tbody>\n",
       "</table>\n",
       "</div>"
      ],
      "text/plain": [
       "         Food product  \\\n",
       "11               Nuts   \n",
       "39             Cheese   \n",
       "19          Olive Oil   \n",
       "35      Lamb & Mutton   \n",
       "34  Beef (dairy herd)   \n",
       "36           Pig Meat   \n",
       "12         Groundnuts   \n",
       "4                Rice   \n",
       "41      Fish (farmed)   \n",
       "17      Sunflower Oil   \n",
       "\n",
       "    Scarcity-weighted water use per kilogram (liters per kilogram)  \n",
       "11                                                      229,889.80  \n",
       "39                                                      180,850.60  \n",
       "19                                                      177,480.20  \n",
       "35                                                      141,925.00  \n",
       "34                                                      119,805.20  \n",
       "36                                                       66,867.40  \n",
       "12                                                       61,797.90  \n",
       "4                                                        49,576.30  \n",
       "41                                                       41,572.20  \n",
       "17                                                       36,369.40  "
      ]
     },
     "execution_count": 60,
     "metadata": {},
     "output_type": "execute_result"
    }
   ],
   "source": [
    "cond = food_pr_df['Scarcity-weighted water use per kilogram (liters per kilogram)'] > np.percentile(food_pr_df['Scarcity-weighted water use per kilogram (liters per kilogram)'], 75)\n",
    "food_pr_df.loc[cond, ['Food product', 'Scarcity-weighted water use per kilogram (liters per kilogram)']].sort_values(by='Scarcity-weighted water use per kilogram (liters per kilogram)', ascending=False)"
   ]
  },
  {
   "cell_type": "code",
   "execution_count": 61,
   "id": "5cf44873",
   "metadata": {},
   "outputs": [],
   "source": [
    "top_scarc = food_pr_df.sort_values(by='Scarcity-weighted water use per kilogram (liters per kilogram)', ascending=False)[:10]['Food product'].to_list()"
   ]
  },
  {
   "cell_type": "markdown",
   "id": "ffd746b9",
   "metadata": {},
   "source": [
    "Top 10 products for Green House emissions"
   ]
  },
  {
   "cell_type": "code",
   "execution_count": 62,
   "id": "955193e7",
   "metadata": {},
   "outputs": [
    {
     "data": {
      "application/vnd.plotly.v1+json": {
       "config": {
        "plotlyServerURL": "https://plot.ly"
       },
       "data": [
        {
         "alignmentgroup": "True",
         "bingroup": "x",
         "hovertemplate": "Total_emissions=%{x}<br>count=%{y}<extra></extra>",
         "legendgroup": "",
         "marker": {
          "color": "#636efa",
          "pattern": {
           "shape": ""
          }
         },
         "name": "",
         "offsetgroup": "",
         "orientation": "v",
         "showlegend": false,
         "type": "histogram",
         "x": [
          1.6,
          4,
          0.3,
          0.9,
          2.6,
          1.4,
          1.6,
          0.7999999999999999,
          0.2,
          2.4,
          1,
          5.999999999999999,
          7.6,
          3.5000000000000004,
          3.7,
          6,
          1.4,
          0.3,
          0.3,
          0.4,
          0.5,
          0.3,
          0.7999999999999999,
          0.3,
          1.1,
          1.4,
          0.7,
          16.500000000000004,
          18.7,
          59.6,
          21.1,
          24.5,
          7.2,
          6.1000000000000005,
          2.8000000000000003,
          21.2,
          4.5,
          5.1
         ],
         "xaxis": "x",
         "yaxis": "y"
        },
        {
         "alignmentgroup": "True",
         "customdata": [
          [
           "Oatmeal",
           0,
           0,
           1.4,
           0,
           0.1,
           0.1,
           0,
           11.23,
           482.4,
           7.6,
           18786.2
          ],
          [
           "Rice",
           0,
           0,
           3.6,
           0.1,
           0.1,
           0.1,
           0.1,
           35.07,
           2248.4,
           2.8,
           49576.3
          ],
          [
           "Potatoes",
           0,
           0,
           0.2,
           0,
           0.1,
           0,
           0,
           3.48,
           59.1,
           0.88,
           2754.2
          ],
          [
           "Cassava",
           0.6,
           0,
           0.2,
           0,
           0.1,
           0,
           0,
           0.69,
           0,
           1.81,
           0
          ],
          [
           "Cane Sugar",
           1.2,
           0,
           0.5,
           0,
           0.8,
           0.1,
           0,
           16.92,
           620.1,
           2.04,
           16438.6
          ],
          [
           "Beet Sugar",
           0,
           0,
           0.5,
           0.2,
           0.6,
           0.1,
           0,
           5.41,
           217.7,
           1.83,
           9493.3
          ],
          [
           "Other Pulses",
           0,
           0,
           1.1,
           0,
           0.1,
           0.4,
           0,
           17.08,
           435.7,
           15.57,
           22477.4
          ],
          [
           "Peas",
           0,
           0,
           0.7,
           0,
           0.1,
           0,
           0,
           7.52,
           396.6,
           7.46,
           27948.2
          ],
          [
           "Nuts",
           -2.1,
           0,
           2.1,
           0,
           0.1,
           0.1,
           0,
           19.15,
           4133.8,
           12.96,
           229889.8
          ],
          [
           "Groundnuts",
           0.4,
           0,
           1.4,
           0.4,
           0.1,
           0.1,
           0,
           14.14,
           1852.3,
           9.11,
           61797.9
          ],
          [
           "Soymilk",
           0.2,
           0,
           0.1,
           0.2,
           0.1,
           0.1,
           0.3,
           1.06,
           27.8,
           0.66,
           955.6
          ],
          [
           "Soybean Oil",
           3.1,
           0,
           1.5,
           0.3,
           0.3,
           0.8,
           0,
           11.69,
           414.6,
           10.52,
           14888.2
          ],
          [
           "Palm Oil",
           3.1,
           0,
           2.1,
           1.3,
           0.2,
           0.9,
           0,
           10.67,
           6.4,
           2.42,
           36.2
          ],
          [
           "Sunflower Oil",
           0.1,
           0,
           2.1,
           0.2,
           0.2,
           0.9,
           0,
           50.66,
           1007.9,
           17.66,
           36369.4
          ],
          [
           "Rapeseed Oil",
           0.2,
           0,
           2.3,
           0.2,
           0.2,
           0.8,
           0,
           19.19,
           237.7,
           10.63,
           10593.7
          ],
          [
           "Olive Oil",
           -0.4,
           0,
           4.3,
           0.7,
           0.5,
           0.9,
           0,
           37.26,
           2141.8,
           26.31,
           177480.2
          ],
          [
           "Tomatoes",
           0.4,
           0,
           0.7,
           0,
           0.2,
           0.1,
           0,
           7.51,
           369.8,
           0.8,
           5335.7
          ],
          [
           "Onions & Leeks",
           0,
           0,
           0.2,
           0,
           0.1,
           0,
           0,
           3.24,
           14.3,
           0.39,
           932
          ],
          [
           "Root Vegetables",
           0,
           0,
           0.2,
           0,
           0.1,
           0,
           0,
           1.61,
           28.4,
           0.33,
           929.2
          ],
          [
           "Brassicas",
           0,
           0,
           0.3,
           0,
           0.1,
           0,
           0,
           5.01,
           119.4,
           0.55,
           8455.1
          ],
          [
           "Other Vegetables",
           0,
           0,
           0.2,
           0.1,
           0.2,
           0,
           0,
           2.27,
           102.5,
           0.38,
           4911.4
          ],
          [
           "Citrus Fruit",
           -0.1,
           0,
           0.3,
           0,
           0.1,
           0,
           0,
           2.24,
           82.7,
           0.86,
           4662.7
          ],
          [
           "Bananas",
           0,
           0,
           0.3,
           0.1,
           0.3,
           0.1,
           0,
           3.29,
           114.5,
           1.93,
           661.9
          ],
          [
           "Apples",
           0,
           0,
           0.2,
           0,
           0.1,
           0,
           0,
           1.45,
           180.1,
           0.63,
           12948.6
          ],
          [
           "Berries & Grapes",
           0,
           0,
           0.7,
           0,
           0.2,
           0.2,
           0,
           6.12,
           419.6,
           2.41,
           21162.1
          ],
          [
           "Wine",
           -0.1,
           0,
           0.6,
           0.1,
           0.1,
           0.7,
           0,
           4.57,
           78.9,
           1.78,
           1149.3
          ],
          [
           "Other Fruit",
           0.1,
           0,
           0.4,
           0,
           0.2,
           0,
           0,
           2.43,
           153.5,
           0.89,
           9533.1
          ],
          [
           "Coffee",
           3.7,
           0,
           10.4,
           0.6,
           0.1,
           1.6,
           0.1,
           110.52,
           25.9,
           21.62,
           337
          ],
          [
           "Dark Chocolate",
           14.3,
           0,
           3.7,
           0.2,
           0.1,
           0.4,
           0,
           87.08,
           540.6,
           68.96,
           2879.2
          ],
          [
           "Beef (beef herd)",
           16.3,
           1.9,
           39.4,
           1.3,
           0.3,
           0.2,
           0.2,
           301.41,
           1451.2,
           326.21,
           34732.5
          ],
          [
           "Beef (dairy herd)",
           0.9,
           2.5,
           15.7,
           1.1,
           0.4,
           0.3,
           0.2,
           365.29,
           2714.3,
           43.24,
           119805.2
          ],
          [
           "Lamb & Mutton",
           0.5,
           2.4,
           19.5,
           1.1,
           0.5,
           0.3,
           0.2,
           97.13,
           1802.8,
           369.81,
           141925
          ],
          [
           "Pig Meat",
           1.5,
           2.9,
           1.7,
           0.3,
           0.3,
           0.3,
           0.2,
           76.38,
           1795.8,
           17.36,
           66867.4
          ],
          [
           "Poultry Meat",
           2.5,
           1.8,
           0.7,
           0.4,
           0.3,
           0.2,
           0.2,
           48.7,
           660,
           12.22,
           14177.9
          ],
          [
           "Milk",
           0.5,
           0.2,
           1.5,
           0.1,
           0.1,
           0.1,
           0.3,
           10.65,
           628.2,
           8.95,
           19786.3
          ],
          [
           "Cheese",
           4.5,
           2.3,
           13.1,
           0.7,
           0.1,
           0.2,
           0.3,
           98.37,
           5605.2,
           87.79,
           180850.6
          ],
          [
           "Eggs",
           0.7,
           2.2,
           1.3,
           0,
           0.1,
           0.2,
           0,
           21.76,
           577.7,
           6.27,
           17982.7
          ],
          [
           "Fish (farmed)",
           0.5,
           0.8,
           3.6,
           0,
           0.1,
           0.1,
           0,
           235.12,
           3691.3,
           8.41,
           41572.2
          ]
         ],
         "hovertemplate": "Total_emissions=%{x}<br>Food product=%{customdata[0]}<br>Land use change=%{customdata[1]}<br>Animal Feed=%{customdata[2]}<br>Farm=%{customdata[3]}<br>Processing=%{customdata[4]}<br>Transport=%{customdata[5]}<br>Packging=%{customdata[6]}<br>Retail=%{customdata[7]}<br>Eutrophying emissions per kilogram (gPO₄eq per kilogram)=%{customdata[8]}<br>Freshwater withdrawals per kilogram (liters per kilogram)=%{customdata[9]}<br>Land use per kilogram (m² per kilogram)=%{customdata[10]}<br>Scarcity-weighted water use per kilogram (liters per kilogram)=%{customdata[11]}<extra></extra>",
         "legendgroup": "",
         "marker": {
          "color": "#636efa"
         },
         "name": "",
         "notched": true,
         "offsetgroup": "",
         "showlegend": false,
         "type": "box",
         "x": [
          1.6,
          4,
          0.3,
          0.9,
          2.6,
          1.4,
          1.6,
          0.7999999999999999,
          0.2,
          2.4,
          1,
          5.999999999999999,
          7.6,
          3.5000000000000004,
          3.7,
          6,
          1.4,
          0.3,
          0.3,
          0.4,
          0.5,
          0.3,
          0.7999999999999999,
          0.3,
          1.1,
          1.4,
          0.7,
          16.500000000000004,
          18.7,
          59.6,
          21.1,
          24.5,
          7.2,
          6.1000000000000005,
          2.8000000000000003,
          21.2,
          4.5,
          5.1
         ],
         "xaxis": "x2",
         "yaxis": "y2"
        }
       ],
       "layout": {
        "barmode": "relative",
        "legend": {
         "tracegroupgap": 0
        },
        "margin": {
         "t": 60
        },
        "template": {
         "data": {
          "bar": [
           {
            "error_x": {
             "color": "#2a3f5f"
            },
            "error_y": {
             "color": "#2a3f5f"
            },
            "marker": {
             "line": {
              "color": "#E5ECF6",
              "width": 0.5
             },
             "pattern": {
              "fillmode": "overlay",
              "size": 10,
              "solidity": 0.2
             }
            },
            "type": "bar"
           }
          ],
          "barpolar": [
           {
            "marker": {
             "line": {
              "color": "#E5ECF6",
              "width": 0.5
             },
             "pattern": {
              "fillmode": "overlay",
              "size": 10,
              "solidity": 0.2
             }
            },
            "type": "barpolar"
           }
          ],
          "carpet": [
           {
            "aaxis": {
             "endlinecolor": "#2a3f5f",
             "gridcolor": "white",
             "linecolor": "white",
             "minorgridcolor": "white",
             "startlinecolor": "#2a3f5f"
            },
            "baxis": {
             "endlinecolor": "#2a3f5f",
             "gridcolor": "white",
             "linecolor": "white",
             "minorgridcolor": "white",
             "startlinecolor": "#2a3f5f"
            },
            "type": "carpet"
           }
          ],
          "choropleth": [
           {
            "colorbar": {
             "outlinewidth": 0,
             "ticks": ""
            },
            "type": "choropleth"
           }
          ],
          "contour": [
           {
            "colorbar": {
             "outlinewidth": 0,
             "ticks": ""
            },
            "colorscale": [
             [
              0,
              "#0d0887"
             ],
             [
              0.1111111111111111,
              "#46039f"
             ],
             [
              0.2222222222222222,
              "#7201a8"
             ],
             [
              0.3333333333333333,
              "#9c179e"
             ],
             [
              0.4444444444444444,
              "#bd3786"
             ],
             [
              0.5555555555555556,
              "#d8576b"
             ],
             [
              0.6666666666666666,
              "#ed7953"
             ],
             [
              0.7777777777777778,
              "#fb9f3a"
             ],
             [
              0.8888888888888888,
              "#fdca26"
             ],
             [
              1,
              "#f0f921"
             ]
            ],
            "type": "contour"
           }
          ],
          "contourcarpet": [
           {
            "colorbar": {
             "outlinewidth": 0,
             "ticks": ""
            },
            "type": "contourcarpet"
           }
          ],
          "heatmap": [
           {
            "colorbar": {
             "outlinewidth": 0,
             "ticks": ""
            },
            "colorscale": [
             [
              0,
              "#0d0887"
             ],
             [
              0.1111111111111111,
              "#46039f"
             ],
             [
              0.2222222222222222,
              "#7201a8"
             ],
             [
              0.3333333333333333,
              "#9c179e"
             ],
             [
              0.4444444444444444,
              "#bd3786"
             ],
             [
              0.5555555555555556,
              "#d8576b"
             ],
             [
              0.6666666666666666,
              "#ed7953"
             ],
             [
              0.7777777777777778,
              "#fb9f3a"
             ],
             [
              0.8888888888888888,
              "#fdca26"
             ],
             [
              1,
              "#f0f921"
             ]
            ],
            "type": "heatmap"
           }
          ],
          "heatmapgl": [
           {
            "colorbar": {
             "outlinewidth": 0,
             "ticks": ""
            },
            "colorscale": [
             [
              0,
              "#0d0887"
             ],
             [
              0.1111111111111111,
              "#46039f"
             ],
             [
              0.2222222222222222,
              "#7201a8"
             ],
             [
              0.3333333333333333,
              "#9c179e"
             ],
             [
              0.4444444444444444,
              "#bd3786"
             ],
             [
              0.5555555555555556,
              "#d8576b"
             ],
             [
              0.6666666666666666,
              "#ed7953"
             ],
             [
              0.7777777777777778,
              "#fb9f3a"
             ],
             [
              0.8888888888888888,
              "#fdca26"
             ],
             [
              1,
              "#f0f921"
             ]
            ],
            "type": "heatmapgl"
           }
          ],
          "histogram": [
           {
            "marker": {
             "pattern": {
              "fillmode": "overlay",
              "size": 10,
              "solidity": 0.2
             }
            },
            "type": "histogram"
           }
          ],
          "histogram2d": [
           {
            "colorbar": {
             "outlinewidth": 0,
             "ticks": ""
            },
            "colorscale": [
             [
              0,
              "#0d0887"
             ],
             [
              0.1111111111111111,
              "#46039f"
             ],
             [
              0.2222222222222222,
              "#7201a8"
             ],
             [
              0.3333333333333333,
              "#9c179e"
             ],
             [
              0.4444444444444444,
              "#bd3786"
             ],
             [
              0.5555555555555556,
              "#d8576b"
             ],
             [
              0.6666666666666666,
              "#ed7953"
             ],
             [
              0.7777777777777778,
              "#fb9f3a"
             ],
             [
              0.8888888888888888,
              "#fdca26"
             ],
             [
              1,
              "#f0f921"
             ]
            ],
            "type": "histogram2d"
           }
          ],
          "histogram2dcontour": [
           {
            "colorbar": {
             "outlinewidth": 0,
             "ticks": ""
            },
            "colorscale": [
             [
              0,
              "#0d0887"
             ],
             [
              0.1111111111111111,
              "#46039f"
             ],
             [
              0.2222222222222222,
              "#7201a8"
             ],
             [
              0.3333333333333333,
              "#9c179e"
             ],
             [
              0.4444444444444444,
              "#bd3786"
             ],
             [
              0.5555555555555556,
              "#d8576b"
             ],
             [
              0.6666666666666666,
              "#ed7953"
             ],
             [
              0.7777777777777778,
              "#fb9f3a"
             ],
             [
              0.8888888888888888,
              "#fdca26"
             ],
             [
              1,
              "#f0f921"
             ]
            ],
            "type": "histogram2dcontour"
           }
          ],
          "mesh3d": [
           {
            "colorbar": {
             "outlinewidth": 0,
             "ticks": ""
            },
            "type": "mesh3d"
           }
          ],
          "parcoords": [
           {
            "line": {
             "colorbar": {
              "outlinewidth": 0,
              "ticks": ""
             }
            },
            "type": "parcoords"
           }
          ],
          "pie": [
           {
            "automargin": true,
            "type": "pie"
           }
          ],
          "scatter": [
           {
            "fillpattern": {
             "fillmode": "overlay",
             "size": 10,
             "solidity": 0.2
            },
            "type": "scatter"
           }
          ],
          "scatter3d": [
           {
            "line": {
             "colorbar": {
              "outlinewidth": 0,
              "ticks": ""
             }
            },
            "marker": {
             "colorbar": {
              "outlinewidth": 0,
              "ticks": ""
             }
            },
            "type": "scatter3d"
           }
          ],
          "scattercarpet": [
           {
            "marker": {
             "colorbar": {
              "outlinewidth": 0,
              "ticks": ""
             }
            },
            "type": "scattercarpet"
           }
          ],
          "scattergeo": [
           {
            "marker": {
             "colorbar": {
              "outlinewidth": 0,
              "ticks": ""
             }
            },
            "type": "scattergeo"
           }
          ],
          "scattergl": [
           {
            "marker": {
             "colorbar": {
              "outlinewidth": 0,
              "ticks": ""
             }
            },
            "type": "scattergl"
           }
          ],
          "scattermapbox": [
           {
            "marker": {
             "colorbar": {
              "outlinewidth": 0,
              "ticks": ""
             }
            },
            "type": "scattermapbox"
           }
          ],
          "scatterpolar": [
           {
            "marker": {
             "colorbar": {
              "outlinewidth": 0,
              "ticks": ""
             }
            },
            "type": "scatterpolar"
           }
          ],
          "scatterpolargl": [
           {
            "marker": {
             "colorbar": {
              "outlinewidth": 0,
              "ticks": ""
             }
            },
            "type": "scatterpolargl"
           }
          ],
          "scatterternary": [
           {
            "marker": {
             "colorbar": {
              "outlinewidth": 0,
              "ticks": ""
             }
            },
            "type": "scatterternary"
           }
          ],
          "surface": [
           {
            "colorbar": {
             "outlinewidth": 0,
             "ticks": ""
            },
            "colorscale": [
             [
              0,
              "#0d0887"
             ],
             [
              0.1111111111111111,
              "#46039f"
             ],
             [
              0.2222222222222222,
              "#7201a8"
             ],
             [
              0.3333333333333333,
              "#9c179e"
             ],
             [
              0.4444444444444444,
              "#bd3786"
             ],
             [
              0.5555555555555556,
              "#d8576b"
             ],
             [
              0.6666666666666666,
              "#ed7953"
             ],
             [
              0.7777777777777778,
              "#fb9f3a"
             ],
             [
              0.8888888888888888,
              "#fdca26"
             ],
             [
              1,
              "#f0f921"
             ]
            ],
            "type": "surface"
           }
          ],
          "table": [
           {
            "cells": {
             "fill": {
              "color": "#EBF0F8"
             },
             "line": {
              "color": "white"
             }
            },
            "header": {
             "fill": {
              "color": "#C8D4E3"
             },
             "line": {
              "color": "white"
             }
            },
            "type": "table"
           }
          ]
         },
         "layout": {
          "annotationdefaults": {
           "arrowcolor": "#2a3f5f",
           "arrowhead": 0,
           "arrowwidth": 1
          },
          "autotypenumbers": "strict",
          "coloraxis": {
           "colorbar": {
            "outlinewidth": 0,
            "ticks": ""
           }
          },
          "colorscale": {
           "diverging": [
            [
             0,
             "#8e0152"
            ],
            [
             0.1,
             "#c51b7d"
            ],
            [
             0.2,
             "#de77ae"
            ],
            [
             0.3,
             "#f1b6da"
            ],
            [
             0.4,
             "#fde0ef"
            ],
            [
             0.5,
             "#f7f7f7"
            ],
            [
             0.6,
             "#e6f5d0"
            ],
            [
             0.7,
             "#b8e186"
            ],
            [
             0.8,
             "#7fbc41"
            ],
            [
             0.9,
             "#4d9221"
            ],
            [
             1,
             "#276419"
            ]
           ],
           "sequential": [
            [
             0,
             "#0d0887"
            ],
            [
             0.1111111111111111,
             "#46039f"
            ],
            [
             0.2222222222222222,
             "#7201a8"
            ],
            [
             0.3333333333333333,
             "#9c179e"
            ],
            [
             0.4444444444444444,
             "#bd3786"
            ],
            [
             0.5555555555555556,
             "#d8576b"
            ],
            [
             0.6666666666666666,
             "#ed7953"
            ],
            [
             0.7777777777777778,
             "#fb9f3a"
            ],
            [
             0.8888888888888888,
             "#fdca26"
            ],
            [
             1,
             "#f0f921"
            ]
           ],
           "sequentialminus": [
            [
             0,
             "#0d0887"
            ],
            [
             0.1111111111111111,
             "#46039f"
            ],
            [
             0.2222222222222222,
             "#7201a8"
            ],
            [
             0.3333333333333333,
             "#9c179e"
            ],
            [
             0.4444444444444444,
             "#bd3786"
            ],
            [
             0.5555555555555556,
             "#d8576b"
            ],
            [
             0.6666666666666666,
             "#ed7953"
            ],
            [
             0.7777777777777778,
             "#fb9f3a"
            ],
            [
             0.8888888888888888,
             "#fdca26"
            ],
            [
             1,
             "#f0f921"
            ]
           ]
          },
          "colorway": [
           "#636efa",
           "#EF553B",
           "#00cc96",
           "#ab63fa",
           "#FFA15A",
           "#19d3f3",
           "#FF6692",
           "#B6E880",
           "#FF97FF",
           "#FECB52"
          ],
          "font": {
           "color": "#2a3f5f"
          },
          "geo": {
           "bgcolor": "white",
           "lakecolor": "white",
           "landcolor": "#E5ECF6",
           "showlakes": true,
           "showland": true,
           "subunitcolor": "white"
          },
          "hoverlabel": {
           "align": "left"
          },
          "hovermode": "closest",
          "mapbox": {
           "style": "light"
          },
          "paper_bgcolor": "white",
          "plot_bgcolor": "#E5ECF6",
          "polar": {
           "angularaxis": {
            "gridcolor": "white",
            "linecolor": "white",
            "ticks": ""
           },
           "bgcolor": "#E5ECF6",
           "radialaxis": {
            "gridcolor": "white",
            "linecolor": "white",
            "ticks": ""
           }
          },
          "scene": {
           "xaxis": {
            "backgroundcolor": "#E5ECF6",
            "gridcolor": "white",
            "gridwidth": 2,
            "linecolor": "white",
            "showbackground": true,
            "ticks": "",
            "zerolinecolor": "white"
           },
           "yaxis": {
            "backgroundcolor": "#E5ECF6",
            "gridcolor": "white",
            "gridwidth": 2,
            "linecolor": "white",
            "showbackground": true,
            "ticks": "",
            "zerolinecolor": "white"
           },
           "zaxis": {
            "backgroundcolor": "#E5ECF6",
            "gridcolor": "white",
            "gridwidth": 2,
            "linecolor": "white",
            "showbackground": true,
            "ticks": "",
            "zerolinecolor": "white"
           }
          },
          "shapedefaults": {
           "line": {
            "color": "#2a3f5f"
           }
          },
          "ternary": {
           "aaxis": {
            "gridcolor": "white",
            "linecolor": "white",
            "ticks": ""
           },
           "baxis": {
            "gridcolor": "white",
            "linecolor": "white",
            "ticks": ""
           },
           "bgcolor": "#E5ECF6",
           "caxis": {
            "gridcolor": "white",
            "linecolor": "white",
            "ticks": ""
           }
          },
          "title": {
           "x": 0.05
          },
          "xaxis": {
           "automargin": true,
           "gridcolor": "white",
           "linecolor": "white",
           "ticks": "",
           "title": {
            "standoff": 15
           },
           "zerolinecolor": "white",
           "zerolinewidth": 2
          },
          "yaxis": {
           "automargin": true,
           "gridcolor": "white",
           "linecolor": "white",
           "ticks": "",
           "title": {
            "standoff": 15
           },
           "zerolinecolor": "white",
           "zerolinewidth": 2
          }
         }
        },
        "xaxis": {
         "anchor": "y",
         "domain": [
          0,
          1
         ],
         "title": {
          "text": "Total_emissions"
         }
        },
        "xaxis2": {
         "anchor": "y2",
         "domain": [
          0,
          1
         ],
         "matches": "x",
         "showgrid": true,
         "showticklabels": false
        },
        "yaxis": {
         "anchor": "x",
         "domain": [
          0,
          0.8316
         ],
         "title": {
          "text": "count"
         }
        },
        "yaxis2": {
         "anchor": "x2",
         "domain": [
          0.8416,
          1
         ],
         "matches": "y2",
         "showgrid": false,
         "showline": false,
         "showticklabels": false,
         "ticks": ""
        }
       }
      }
     },
     "metadata": {},
     "output_type": "display_data"
    }
   ],
   "source": [
    "fig = px.histogram(food_pr_df, x=food_pr_df['Total_emissions'],\n",
    "                   marginal=\"box\",\n",
    "                   hover_data=food_pr_df.columns)\n",
    "fig.show()"
   ]
  },
  {
   "cell_type": "code",
   "execution_count": 63,
   "id": "f6e1bc4b",
   "metadata": {},
   "outputs": [
    {
     "data": {
      "text/html": [
       "<div>\n",
       "<style scoped>\n",
       "    .dataframe tbody tr th:only-of-type {\n",
       "        vertical-align: middle;\n",
       "    }\n",
       "\n",
       "    .dataframe tbody tr th {\n",
       "        vertical-align: top;\n",
       "    }\n",
       "\n",
       "    .dataframe thead th {\n",
       "        text-align: right;\n",
       "    }\n",
       "</style>\n",
       "<table border=\"1\" class=\"dataframe\">\n",
       "  <thead>\n",
       "    <tr style=\"text-align: right;\">\n",
       "      <th></th>\n",
       "      <th>Food product</th>\n",
       "      <th>Total_emissions</th>\n",
       "    </tr>\n",
       "  </thead>\n",
       "  <tbody>\n",
       "    <tr>\n",
       "      <th>33</th>\n",
       "      <td>Beef (beef herd)</td>\n",
       "      <td>59.60</td>\n",
       "    </tr>\n",
       "    <tr>\n",
       "      <th>35</th>\n",
       "      <td>Lamb &amp; Mutton</td>\n",
       "      <td>24.50</td>\n",
       "    </tr>\n",
       "    <tr>\n",
       "      <th>39</th>\n",
       "      <td>Cheese</td>\n",
       "      <td>21.20</td>\n",
       "    </tr>\n",
       "    <tr>\n",
       "      <th>34</th>\n",
       "      <td>Beef (dairy herd)</td>\n",
       "      <td>21.10</td>\n",
       "    </tr>\n",
       "    <tr>\n",
       "      <th>32</th>\n",
       "      <td>Dark Chocolate</td>\n",
       "      <td>18.70</td>\n",
       "    </tr>\n",
       "    <tr>\n",
       "      <th>31</th>\n",
       "      <td>Coffee</td>\n",
       "      <td>16.50</td>\n",
       "    </tr>\n",
       "    <tr>\n",
       "      <th>16</th>\n",
       "      <td>Palm Oil</td>\n",
       "      <td>7.60</td>\n",
       "    </tr>\n",
       "    <tr>\n",
       "      <th>36</th>\n",
       "      <td>Pig Meat</td>\n",
       "      <td>7.20</td>\n",
       "    </tr>\n",
       "    <tr>\n",
       "      <th>37</th>\n",
       "      <td>Poultry Meat</td>\n",
       "      <td>6.10</td>\n",
       "    </tr>\n",
       "  </tbody>\n",
       "</table>\n",
       "</div>"
      ],
      "text/plain": [
       "         Food product      Total_emissions\n",
       "33   Beef (beef herd)                59.60\n",
       "35      Lamb & Mutton                24.50\n",
       "39             Cheese                21.20\n",
       "34  Beef (dairy herd)                21.10\n",
       "32     Dark Chocolate                18.70\n",
       "31             Coffee                16.50\n",
       "16           Palm Oil                 7.60\n",
       "36           Pig Meat                 7.20\n",
       "37       Poultry Meat                 6.10"
      ]
     },
     "execution_count": 63,
     "metadata": {},
     "output_type": "execute_result"
    }
   ],
   "source": [
    "cond = food_pr_df['Total_emissions'] > np.percentile(food_pr_df['Total_emissions'], 75)\n",
    "food_pr_df.loc[cond, ['Food product', 'Total_emissions']].sort_values(by='Total_emissions', ascending=False)"
   ]
  },
  {
   "cell_type": "code",
   "execution_count": 64,
   "id": "0cf14c4f",
   "metadata": {},
   "outputs": [],
   "source": [
    "top_emiss = food_pr_df.sort_values(by='Total_emissions', ascending=False)[:10]['Food product'].to_list()"
   ]
  },
  {
   "cell_type": "code",
   "execution_count": 66,
   "id": "d29f9c69",
   "metadata": {},
   "outputs": [
    {
     "data": {
      "text/html": [
       "<div>\n",
       "<style scoped>\n",
       "    .dataframe tbody tr th:only-of-type {\n",
       "        vertical-align: middle;\n",
       "    }\n",
       "\n",
       "    .dataframe tbody tr th {\n",
       "        vertical-align: top;\n",
       "    }\n",
       "\n",
       "    .dataframe thead th {\n",
       "        text-align: right;\n",
       "    }\n",
       "</style>\n",
       "<table border=\"1\" class=\"dataframe\">\n",
       "  <thead>\n",
       "    <tr style=\"text-align: right;\">\n",
       "      <th></th>\n",
       "      <th>Area_clean</th>\n",
       "      <th>Item</th>\n",
       "      <th>Total Production</th>\n",
       "    </tr>\n",
       "  </thead>\n",
       "  <tbody>\n",
       "    <tr>\n",
       "      <th>4249</th>\n",
       "      <td>People's Republic of China</td>\n",
       "      <td>Vegetables</td>\n",
       "      <td>9,046,594.00</td>\n",
       "    </tr>\n",
       "    <tr>\n",
       "      <th>4237</th>\n",
       "      <td>People's Republic of China</td>\n",
       "      <td>Cereals - Excluding Beer</td>\n",
       "      <td>8,678,866.00</td>\n",
       "    </tr>\n",
       "    <tr>\n",
       "      <th>4186</th>\n",
       "      <td>People's Republic of China</td>\n",
       "      <td>Vegetables, Other</td>\n",
       "      <td>7,962,498.00</td>\n",
       "    </tr>\n",
       "    <tr>\n",
       "      <th>20506</th>\n",
       "      <td>United States of America</td>\n",
       "      <td>Cereals - Excluding Beer</td>\n",
       "      <td>7,408,504.00</td>\n",
       "    </tr>\n",
       "    <tr>\n",
       "      <th>9139</th>\n",
       "      <td>Republic of India</td>\n",
       "      <td>Cereals - Excluding Beer</td>\n",
       "      <td>6,675,867.00</td>\n",
       "    </tr>\n",
       "    <tr>\n",
       "      <th>20399</th>\n",
       "      <td>United States of America</td>\n",
       "      <td>Maize and products</td>\n",
       "      <td>6,068,125.00</td>\n",
       "    </tr>\n",
       "    <tr>\n",
       "      <th>4239</th>\n",
       "      <td>People's Republic of China</td>\n",
       "      <td>Starchy Roots</td>\n",
       "      <td>4,623,978.00</td>\n",
       "    </tr>\n",
       "    <tr>\n",
       "      <th>4123</th>\n",
       "      <td>People's Republic of China</td>\n",
       "      <td>Rice (Milled Equivalent)</td>\n",
       "      <td>4,271,067.00</td>\n",
       "    </tr>\n",
       "    <tr>\n",
       "      <th>4236</th>\n",
       "      <td>People's Republic of China</td>\n",
       "      <td>Cereals - Excluding Beer</td>\n",
       "      <td>4,084,713.00</td>\n",
       "    </tr>\n",
       "    <tr>\n",
       "      <th>4121</th>\n",
       "      <td>People's Republic of China</td>\n",
       "      <td>Wheat and products</td>\n",
       "      <td>3,521,951.00</td>\n",
       "    </tr>\n",
       "    <tr>\n",
       "      <th>20493</th>\n",
       "      <td>United States of America</td>\n",
       "      <td>Milk - Excluding Butter</td>\n",
       "      <td>3,353,075.00</td>\n",
       "    </tr>\n",
       "    <tr>\n",
       "      <th>20531</th>\n",
       "      <td>United States of America</td>\n",
       "      <td>Milk - Excluding Butter</td>\n",
       "      <td>3,353,075.00</td>\n",
       "    </tr>\n",
       "    <tr>\n",
       "      <th>4143</th>\n",
       "      <td>People's Republic of China</td>\n",
       "      <td>Sweet potatoes</td>\n",
       "      <td>3,266,693.00</td>\n",
       "    </tr>\n",
       "    <tr>\n",
       "      <th>4126</th>\n",
       "      <td>People's Republic of China</td>\n",
       "      <td>Maize and products</td>\n",
       "      <td>3,216,608.00</td>\n",
       "    </tr>\n",
       "    <tr>\n",
       "      <th>9036</th>\n",
       "      <td>Republic of India</td>\n",
       "      <td>Rice (Milled Equivalent)</td>\n",
       "      <td>3,096,326.00</td>\n",
       "    </tr>\n",
       "    <tr>\n",
       "      <th>4238</th>\n",
       "      <td>People's Republic of China</td>\n",
       "      <td>Starchy Roots</td>\n",
       "      <td>2,532,274.00</td>\n",
       "    </tr>\n",
       "    <tr>\n",
       "      <th>9151</th>\n",
       "      <td>Republic of India</td>\n",
       "      <td>Vegetables</td>\n",
       "      <td>2,499,400.00</td>\n",
       "    </tr>\n",
       "    <tr>\n",
       "      <th>9125</th>\n",
       "      <td>Republic of India</td>\n",
       "      <td>Milk - Excluding Butter</td>\n",
       "      <td>2,443,021.00</td>\n",
       "    </tr>\n",
       "    <tr>\n",
       "      <th>9162</th>\n",
       "      <td>Republic of India</td>\n",
       "      <td>Milk - Excluding Butter</td>\n",
       "      <td>2,443,021.00</td>\n",
       "    </tr>\n",
       "    <tr>\n",
       "      <th>9034</th>\n",
       "      <td>Republic of India</td>\n",
       "      <td>Wheat and products</td>\n",
       "      <td>2,292,226.00</td>\n",
       "    </tr>\n",
       "  </tbody>\n",
       "</table>\n",
       "</div>"
      ],
      "text/plain": [
       "                       Area_clean                      Item  \\\n",
       "4249   People's Republic of China                Vegetables   \n",
       "4237   People's Republic of China  Cereals - Excluding Beer   \n",
       "4186   People's Republic of China         Vegetables, Other   \n",
       "20506    United States of America  Cereals - Excluding Beer   \n",
       "9139            Republic of India  Cereals - Excluding Beer   \n",
       "20399    United States of America        Maize and products   \n",
       "4239   People's Republic of China             Starchy Roots   \n",
       "4123   People's Republic of China  Rice (Milled Equivalent)   \n",
       "4236   People's Republic of China  Cereals - Excluding Beer   \n",
       "4121   People's Republic of China        Wheat and products   \n",
       "20493    United States of America   Milk - Excluding Butter   \n",
       "20531    United States of America   Milk - Excluding Butter   \n",
       "4143   People's Republic of China            Sweet potatoes   \n",
       "4126   People's Republic of China        Maize and products   \n",
       "9036            Republic of India  Rice (Milled Equivalent)   \n",
       "4238   People's Republic of China             Starchy Roots   \n",
       "9151            Republic of India                Vegetables   \n",
       "9125            Republic of India   Milk - Excluding Butter   \n",
       "9162            Republic of India   Milk - Excluding Butter   \n",
       "9034            Republic of India        Wheat and products   \n",
       "\n",
       "          Total Production  \n",
       "4249          9,046,594.00  \n",
       "4237          8,678,866.00  \n",
       "4186          7,962,498.00  \n",
       "20506         7,408,504.00  \n",
       "9139          6,675,867.00  \n",
       "20399         6,068,125.00  \n",
       "4239          4,623,978.00  \n",
       "4123          4,271,067.00  \n",
       "4236          4,084,713.00  \n",
       "4121          3,521,951.00  \n",
       "20493         3,353,075.00  \n",
       "20531         3,353,075.00  \n",
       "4143          3,266,693.00  \n",
       "4126          3,216,608.00  \n",
       "9036          3,096,326.00  \n",
       "4238          2,532,274.00  \n",
       "9151          2,499,400.00  \n",
       "9125          2,443,021.00  \n",
       "9162          2,443,021.00  \n",
       "9034          2,292,226.00  "
      ]
     },
     "execution_count": 66,
     "metadata": {},
     "output_type": "execute_result"
    }
   ],
   "source": [
    "clean_fao.sort_values(by='Total Production', ascending=False).loc[:, ['Area_clean', 'Item', 'Total Production']][:20]"
   ]
  },
  {
   "cell_type": "code",
   "execution_count": null,
   "id": "a926d605",
   "metadata": {},
   "outputs": [],
   "source": [
    "# def convert(row):\n",
    "#     cn_code = pc.country_alpha3_to_country_alpha2(row['Area Abbreviation'])\n",
    "#     conti_code = pc.country_alpha2_to_continent_code(cn_code)\n",
    "#     return conti_code\n",
    "\n",
    "# clean_fao['continent'] = clean_fao.apply(convert, axis=1)\n",
    "# clean_fao\n",
    "\n",
    "# country_code = pc.country_name_to_country_alpha2([\"China\", \"Italy\"], cn_name_format=\"default\")\n",
    "# print(country_code)\n",
    "# continent_name = pc.country_alpha2_to_continent_code(country_code)\n",
    "# print(continent_name)"
   ]
  },
  {
   "cell_type": "markdown",
   "id": "4cd32f79",
   "metadata": {},
   "source": [
    "Creating a column with the relative continent for each state"
   ]
  },
  {
   "cell_type": "code",
   "execution_count": 69,
   "id": "4ae4669d",
   "metadata": {},
   "outputs": [
    {
     "data": {
      "text/html": [
       "<div>\n",
       "<style scoped>\n",
       "    .dataframe tbody tr th:only-of-type {\n",
       "        vertical-align: middle;\n",
       "    }\n",
       "\n",
       "    .dataframe tbody tr th {\n",
       "        vertical-align: top;\n",
       "    }\n",
       "\n",
       "    .dataframe thead th {\n",
       "        text-align: right;\n",
       "    }\n",
       "</style>\n",
       "<table border=\"1\" class=\"dataframe\">\n",
       "  <thead>\n",
       "    <tr style=\"text-align: right;\">\n",
       "      <th></th>\n",
       "      <th>Area Abbreviation</th>\n",
       "      <th>Item</th>\n",
       "      <th>Element</th>\n",
       "      <th>latitude</th>\n",
       "      <th>longitude</th>\n",
       "      <th>1961</th>\n",
       "      <th>1962</th>\n",
       "      <th>1963</th>\n",
       "      <th>1964</th>\n",
       "      <th>1965</th>\n",
       "      <th>1966</th>\n",
       "      <th>1967</th>\n",
       "      <th>1968</th>\n",
       "      <th>1969</th>\n",
       "      <th>1970</th>\n",
       "      <th>1971</th>\n",
       "      <th>1972</th>\n",
       "      <th>1973</th>\n",
       "      <th>1974</th>\n",
       "      <th>1975</th>\n",
       "      <th>1976</th>\n",
       "      <th>1977</th>\n",
       "      <th>1978</th>\n",
       "      <th>1979</th>\n",
       "      <th>1980</th>\n",
       "      <th>1981</th>\n",
       "      <th>1982</th>\n",
       "      <th>1983</th>\n",
       "      <th>1984</th>\n",
       "      <th>1985</th>\n",
       "      <th>1986</th>\n",
       "      <th>1987</th>\n",
       "      <th>1988</th>\n",
       "      <th>1989</th>\n",
       "      <th>1990</th>\n",
       "      <th>1991</th>\n",
       "      <th>1992</th>\n",
       "      <th>1993</th>\n",
       "      <th>1994</th>\n",
       "      <th>1995</th>\n",
       "      <th>1996</th>\n",
       "      <th>1997</th>\n",
       "      <th>1998</th>\n",
       "      <th>1999</th>\n",
       "      <th>2000</th>\n",
       "      <th>2001</th>\n",
       "      <th>2002</th>\n",
       "      <th>2003</th>\n",
       "      <th>2004</th>\n",
       "      <th>2005</th>\n",
       "      <th>2006</th>\n",
       "      <th>2007</th>\n",
       "      <th>2008</th>\n",
       "      <th>2009</th>\n",
       "      <th>2010</th>\n",
       "      <th>2011</th>\n",
       "      <th>2012</th>\n",
       "      <th>2013</th>\n",
       "      <th>Area_clean</th>\n",
       "      <th>Total Production</th>\n",
       "      <th>continent</th>\n",
       "    </tr>\n",
       "  </thead>\n",
       "  <tbody>\n",
       "    <tr>\n",
       "      <th>0</th>\n",
       "      <td>AFG</td>\n",
       "      <td>Wheat and products</td>\n",
       "      <td>Food</td>\n",
       "      <td>33.94</td>\n",
       "      <td>67.71</td>\n",
       "      <td>1,928.00</td>\n",
       "      <td>1,904.00</td>\n",
       "      <td>1,666.00</td>\n",
       "      <td>1,950.00</td>\n",
       "      <td>2,001.00</td>\n",
       "      <td>1,808.00</td>\n",
       "      <td>2,053.00</td>\n",
       "      <td>2,045.00</td>\n",
       "      <td>2,154.00</td>\n",
       "      <td>1,819.00</td>\n",
       "      <td>1,963.00</td>\n",
       "      <td>2,215.00</td>\n",
       "      <td>2,310.00</td>\n",
       "      <td>2,335.00</td>\n",
       "      <td>2,434.00</td>\n",
       "      <td>2,512.00</td>\n",
       "      <td>2,282.00</td>\n",
       "      <td>2,454.00</td>\n",
       "      <td>2,443.00</td>\n",
       "      <td>2,129.00</td>\n",
       "      <td>2,133.00</td>\n",
       "      <td>2,068.00</td>\n",
       "      <td>1,994.00</td>\n",
       "      <td>1,851.00</td>\n",
       "      <td>1,791.00</td>\n",
       "      <td>1,683.00</td>\n",
       "      <td>2,194.00</td>\n",
       "      <td>1,801.00</td>\n",
       "      <td>1,754.00</td>\n",
       "      <td>1,640.00</td>\n",
       "      <td>1,539.00</td>\n",
       "      <td>1,582.00</td>\n",
       "      <td>1,840.00</td>\n",
       "      <td>1,855.00</td>\n",
       "      <td>1,853.00</td>\n",
       "      <td>2,177.00</td>\n",
       "      <td>2,343.00</td>\n",
       "      <td>2,407.00</td>\n",
       "      <td>2,463.00</td>\n",
       "      <td>2,600.00</td>\n",
       "      <td>2,668.00</td>\n",
       "      <td>2,776.00</td>\n",
       "      <td>3,095.00</td>\n",
       "      <td>3,249.00</td>\n",
       "      <td>3,486.00</td>\n",
       "      <td>3,704.00</td>\n",
       "      <td>4,164.00</td>\n",
       "      <td>4,252.00</td>\n",
       "      <td>4,538.00</td>\n",
       "      <td>4,605.00</td>\n",
       "      <td>4,711.00</td>\n",
       "      <td>4,810.00</td>\n",
       "      <td>4,895.00</td>\n",
       "      <td>Islamic Republic of Afghanistan</td>\n",
       "      <td>132,926.00</td>\n",
       "      <td>Asia</td>\n",
       "    </tr>\n",
       "    <tr>\n",
       "      <th>1</th>\n",
       "      <td>AFG</td>\n",
       "      <td>Rice (Milled Equivalent)</td>\n",
       "      <td>Food</td>\n",
       "      <td>33.94</td>\n",
       "      <td>67.71</td>\n",
       "      <td>183.00</td>\n",
       "      <td>183.00</td>\n",
       "      <td>182.00</td>\n",
       "      <td>220.00</td>\n",
       "      <td>220.00</td>\n",
       "      <td>195.00</td>\n",
       "      <td>231.00</td>\n",
       "      <td>235.00</td>\n",
       "      <td>238.00</td>\n",
       "      <td>213.00</td>\n",
       "      <td>205.00</td>\n",
       "      <td>233.00</td>\n",
       "      <td>246.00</td>\n",
       "      <td>246.00</td>\n",
       "      <td>255.00</td>\n",
       "      <td>263.00</td>\n",
       "      <td>235.00</td>\n",
       "      <td>254.00</td>\n",
       "      <td>270.00</td>\n",
       "      <td>259.00</td>\n",
       "      <td>248.00</td>\n",
       "      <td>217.00</td>\n",
       "      <td>217.00</td>\n",
       "      <td>197.00</td>\n",
       "      <td>186.00</td>\n",
       "      <td>200.00</td>\n",
       "      <td>193.00</td>\n",
       "      <td>202.00</td>\n",
       "      <td>191.00</td>\n",
       "      <td>199.00</td>\n",
       "      <td>197.00</td>\n",
       "      <td>249.00</td>\n",
       "      <td>218.00</td>\n",
       "      <td>260.00</td>\n",
       "      <td>319.00</td>\n",
       "      <td>254.00</td>\n",
       "      <td>326.00</td>\n",
       "      <td>347.00</td>\n",
       "      <td>270.00</td>\n",
       "      <td>372.00</td>\n",
       "      <td>411.00</td>\n",
       "      <td>448.00</td>\n",
       "      <td>460.00</td>\n",
       "      <td>419.00</td>\n",
       "      <td>445.00</td>\n",
       "      <td>546.00</td>\n",
       "      <td>455.00</td>\n",
       "      <td>490.00</td>\n",
       "      <td>415.00</td>\n",
       "      <td>442.00</td>\n",
       "      <td>476.00</td>\n",
       "      <td>425.00</td>\n",
       "      <td>422.00</td>\n",
       "      <td>Islamic Republic of Afghanistan</td>\n",
       "      <td>15,282.00</td>\n",
       "      <td>Asia</td>\n",
       "    </tr>\n",
       "    <tr>\n",
       "      <th>2</th>\n",
       "      <td>AFG</td>\n",
       "      <td>Barley and products</td>\n",
       "      <td>Feed</td>\n",
       "      <td>33.94</td>\n",
       "      <td>67.71</td>\n",
       "      <td>76.00</td>\n",
       "      <td>76.00</td>\n",
       "      <td>76.00</td>\n",
       "      <td>76.00</td>\n",
       "      <td>76.00</td>\n",
       "      <td>75.00</td>\n",
       "      <td>71.00</td>\n",
       "      <td>72.00</td>\n",
       "      <td>73.00</td>\n",
       "      <td>74.00</td>\n",
       "      <td>71.00</td>\n",
       "      <td>70.00</td>\n",
       "      <td>72.00</td>\n",
       "      <td>76.00</td>\n",
       "      <td>77.00</td>\n",
       "      <td>80.00</td>\n",
       "      <td>60.00</td>\n",
       "      <td>65.00</td>\n",
       "      <td>64.00</td>\n",
       "      <td>64.00</td>\n",
       "      <td>60.00</td>\n",
       "      <td>55.00</td>\n",
       "      <td>53.00</td>\n",
       "      <td>51.00</td>\n",
       "      <td>48.00</td>\n",
       "      <td>46.00</td>\n",
       "      <td>46.00</td>\n",
       "      <td>47.00</td>\n",
       "      <td>46.00</td>\n",
       "      <td>43.00</td>\n",
       "      <td>43.00</td>\n",
       "      <td>40.00</td>\n",
       "      <td>50.00</td>\n",
       "      <td>46.00</td>\n",
       "      <td>41.00</td>\n",
       "      <td>44.00</td>\n",
       "      <td>50.00</td>\n",
       "      <td>48.00</td>\n",
       "      <td>43.00</td>\n",
       "      <td>26.00</td>\n",
       "      <td>29.00</td>\n",
       "      <td>70.00</td>\n",
       "      <td>48.00</td>\n",
       "      <td>58.00</td>\n",
       "      <td>236.00</td>\n",
       "      <td>262.00</td>\n",
       "      <td>263.00</td>\n",
       "      <td>230.00</td>\n",
       "      <td>379.00</td>\n",
       "      <td>315.00</td>\n",
       "      <td>203.00</td>\n",
       "      <td>367.00</td>\n",
       "      <td>360.00</td>\n",
       "      <td>Islamic Republic of Afghanistan</td>\n",
       "      <td>5,190.00</td>\n",
       "      <td>Asia</td>\n",
       "    </tr>\n",
       "    <tr>\n",
       "      <th>3</th>\n",
       "      <td>AFG</td>\n",
       "      <td>Barley and products</td>\n",
       "      <td>Food</td>\n",
       "      <td>33.94</td>\n",
       "      <td>67.71</td>\n",
       "      <td>237.00</td>\n",
       "      <td>237.00</td>\n",
       "      <td>237.00</td>\n",
       "      <td>238.00</td>\n",
       "      <td>238.00</td>\n",
       "      <td>237.00</td>\n",
       "      <td>225.00</td>\n",
       "      <td>227.00</td>\n",
       "      <td>230.00</td>\n",
       "      <td>234.00</td>\n",
       "      <td>223.00</td>\n",
       "      <td>219.00</td>\n",
       "      <td>225.00</td>\n",
       "      <td>240.00</td>\n",
       "      <td>244.00</td>\n",
       "      <td>255.00</td>\n",
       "      <td>185.00</td>\n",
       "      <td>203.00</td>\n",
       "      <td>198.00</td>\n",
       "      <td>202.00</td>\n",
       "      <td>189.00</td>\n",
       "      <td>174.00</td>\n",
       "      <td>167.00</td>\n",
       "      <td>160.00</td>\n",
       "      <td>151.00</td>\n",
       "      <td>145.00</td>\n",
       "      <td>145.00</td>\n",
       "      <td>148.00</td>\n",
       "      <td>145.00</td>\n",
       "      <td>135.00</td>\n",
       "      <td>132.00</td>\n",
       "      <td>120.00</td>\n",
       "      <td>155.00</td>\n",
       "      <td>143.00</td>\n",
       "      <td>125.00</td>\n",
       "      <td>138.00</td>\n",
       "      <td>159.00</td>\n",
       "      <td>154.00</td>\n",
       "      <td>141.00</td>\n",
       "      <td>84.00</td>\n",
       "      <td>83.00</td>\n",
       "      <td>122.00</td>\n",
       "      <td>144.00</td>\n",
       "      <td>185.00</td>\n",
       "      <td>43.00</td>\n",
       "      <td>44.00</td>\n",
       "      <td>48.00</td>\n",
       "      <td>62.00</td>\n",
       "      <td>55.00</td>\n",
       "      <td>60.00</td>\n",
       "      <td>72.00</td>\n",
       "      <td>78.00</td>\n",
       "      <td>89.00</td>\n",
       "      <td>Islamic Republic of Afghanistan</td>\n",
       "      <td>8,529.00</td>\n",
       "      <td>Asia</td>\n",
       "    </tr>\n",
       "    <tr>\n",
       "      <th>4</th>\n",
       "      <td>AFG</td>\n",
       "      <td>Maize and products</td>\n",
       "      <td>Feed</td>\n",
       "      <td>33.94</td>\n",
       "      <td>67.71</td>\n",
       "      <td>210.00</td>\n",
       "      <td>210.00</td>\n",
       "      <td>214.00</td>\n",
       "      <td>216.00</td>\n",
       "      <td>216.00</td>\n",
       "      <td>216.00</td>\n",
       "      <td>235.00</td>\n",
       "      <td>232.00</td>\n",
       "      <td>236.00</td>\n",
       "      <td>200.00</td>\n",
       "      <td>201.00</td>\n",
       "      <td>216.00</td>\n",
       "      <td>228.00</td>\n",
       "      <td>231.00</td>\n",
       "      <td>234.00</td>\n",
       "      <td>240.00</td>\n",
       "      <td>228.00</td>\n",
       "      <td>234.00</td>\n",
       "      <td>228.00</td>\n",
       "      <td>226.00</td>\n",
       "      <td>210.00</td>\n",
       "      <td>199.00</td>\n",
       "      <td>192.00</td>\n",
       "      <td>182.00</td>\n",
       "      <td>173.00</td>\n",
       "      <td>170.00</td>\n",
       "      <td>154.00</td>\n",
       "      <td>148.00</td>\n",
       "      <td>137.00</td>\n",
       "      <td>144.00</td>\n",
       "      <td>126.00</td>\n",
       "      <td>90.00</td>\n",
       "      <td>141.00</td>\n",
       "      <td>150.00</td>\n",
       "      <td>159.00</td>\n",
       "      <td>108.00</td>\n",
       "      <td>90.00</td>\n",
       "      <td>99.00</td>\n",
       "      <td>72.00</td>\n",
       "      <td>35.00</td>\n",
       "      <td>48.00</td>\n",
       "      <td>89.00</td>\n",
       "      <td>63.00</td>\n",
       "      <td>120.00</td>\n",
       "      <td>208.00</td>\n",
       "      <td>233.00</td>\n",
       "      <td>249.00</td>\n",
       "      <td>247.00</td>\n",
       "      <td>195.00</td>\n",
       "      <td>178.00</td>\n",
       "      <td>191.00</td>\n",
       "      <td>200.00</td>\n",
       "      <td>200.00</td>\n",
       "      <td>Islamic Republic of Afghanistan</td>\n",
       "      <td>9,451.00</td>\n",
       "      <td>Asia</td>\n",
       "    </tr>\n",
       "    <tr>\n",
       "      <th>...</th>\n",
       "      <td>...</td>\n",
       "      <td>...</td>\n",
       "      <td>...</td>\n",
       "      <td>...</td>\n",
       "      <td>...</td>\n",
       "      <td>...</td>\n",
       "      <td>...</td>\n",
       "      <td>...</td>\n",
       "      <td>...</td>\n",
       "      <td>...</td>\n",
       "      <td>...</td>\n",
       "      <td>...</td>\n",
       "      <td>...</td>\n",
       "      <td>...</td>\n",
       "      <td>...</td>\n",
       "      <td>...</td>\n",
       "      <td>...</td>\n",
       "      <td>...</td>\n",
       "      <td>...</td>\n",
       "      <td>...</td>\n",
       "      <td>...</td>\n",
       "      <td>...</td>\n",
       "      <td>...</td>\n",
       "      <td>...</td>\n",
       "      <td>...</td>\n",
       "      <td>...</td>\n",
       "      <td>...</td>\n",
       "      <td>...</td>\n",
       "      <td>...</td>\n",
       "      <td>...</td>\n",
       "      <td>...</td>\n",
       "      <td>...</td>\n",
       "      <td>...</td>\n",
       "      <td>...</td>\n",
       "      <td>...</td>\n",
       "      <td>...</td>\n",
       "      <td>...</td>\n",
       "      <td>...</td>\n",
       "      <td>...</td>\n",
       "      <td>...</td>\n",
       "      <td>...</td>\n",
       "      <td>...</td>\n",
       "      <td>...</td>\n",
       "      <td>...</td>\n",
       "      <td>...</td>\n",
       "      <td>...</td>\n",
       "      <td>...</td>\n",
       "      <td>...</td>\n",
       "      <td>...</td>\n",
       "      <td>...</td>\n",
       "      <td>...</td>\n",
       "      <td>...</td>\n",
       "      <td>...</td>\n",
       "      <td>...</td>\n",
       "      <td>...</td>\n",
       "      <td>...</td>\n",
       "      <td>...</td>\n",
       "      <td>...</td>\n",
       "      <td>...</td>\n",
       "      <td>...</td>\n",
       "      <td>...</td>\n",
       "    </tr>\n",
       "    <tr>\n",
       "      <th>21470</th>\n",
       "      <td>ZWE</td>\n",
       "      <td>Eggs</td>\n",
       "      <td>Food</td>\n",
       "      <td>-19.02</td>\n",
       "      <td>29.15</td>\n",
       "      <td>6.00</td>\n",
       "      <td>6.00</td>\n",
       "      <td>6.00</td>\n",
       "      <td>6.00</td>\n",
       "      <td>6.00</td>\n",
       "      <td>6.00</td>\n",
       "      <td>6.00</td>\n",
       "      <td>6.00</td>\n",
       "      <td>6.00</td>\n",
       "      <td>7.00</td>\n",
       "      <td>7.00</td>\n",
       "      <td>7.00</td>\n",
       "      <td>7.00</td>\n",
       "      <td>8.00</td>\n",
       "      <td>8.00</td>\n",
       "      <td>8.00</td>\n",
       "      <td>9.00</td>\n",
       "      <td>9.00</td>\n",
       "      <td>9.00</td>\n",
       "      <td>9.00</td>\n",
       "      <td>9.00</td>\n",
       "      <td>9.00</td>\n",
       "      <td>10.00</td>\n",
       "      <td>9.00</td>\n",
       "      <td>8.00</td>\n",
       "      <td>8.00</td>\n",
       "      <td>9.00</td>\n",
       "      <td>11.00</td>\n",
       "      <td>12.00</td>\n",
       "      <td>14.00</td>\n",
       "      <td>14.00</td>\n",
       "      <td>14.00</td>\n",
       "      <td>14.00</td>\n",
       "      <td>13.00</td>\n",
       "      <td>15.00</td>\n",
       "      <td>15.00</td>\n",
       "      <td>13.00</td>\n",
       "      <td>14.00</td>\n",
       "      <td>14.00</td>\n",
       "      <td>16.00</td>\n",
       "      <td>18.00</td>\n",
       "      <td>11.00</td>\n",
       "      <td>19.00</td>\n",
       "      <td>15.00</td>\n",
       "      <td>18.00</td>\n",
       "      <td>18.00</td>\n",
       "      <td>21.00</td>\n",
       "      <td>22.00</td>\n",
       "      <td>27.00</td>\n",
       "      <td>27.00</td>\n",
       "      <td>24.00</td>\n",
       "      <td>24.00</td>\n",
       "      <td>25.00</td>\n",
       "      <td>Republic of Zimbabwe</td>\n",
       "      <td>652.00</td>\n",
       "      <td>Africa</td>\n",
       "    </tr>\n",
       "    <tr>\n",
       "      <th>21471</th>\n",
       "      <td>ZWE</td>\n",
       "      <td>Milk - Excluding Butter</td>\n",
       "      <td>Feed</td>\n",
       "      <td>-19.02</td>\n",
       "      <td>29.15</td>\n",
       "      <td>12.00</td>\n",
       "      <td>12.00</td>\n",
       "      <td>12.00</td>\n",
       "      <td>11.00</td>\n",
       "      <td>11.00</td>\n",
       "      <td>11.00</td>\n",
       "      <td>11.00</td>\n",
       "      <td>12.00</td>\n",
       "      <td>14.00</td>\n",
       "      <td>13.00</td>\n",
       "      <td>17.00</td>\n",
       "      <td>19.00</td>\n",
       "      <td>21.00</td>\n",
       "      <td>21.00</td>\n",
       "      <td>20.00</td>\n",
       "      <td>23.00</td>\n",
       "      <td>22.00</td>\n",
       "      <td>17.00</td>\n",
       "      <td>20.00</td>\n",
       "      <td>18.00</td>\n",
       "      <td>21.00</td>\n",
       "      <td>17.00</td>\n",
       "      <td>14.00</td>\n",
       "      <td>14.00</td>\n",
       "      <td>13.00</td>\n",
       "      <td>12.00</td>\n",
       "      <td>10.00</td>\n",
       "      <td>9.00</td>\n",
       "      <td>6.00</td>\n",
       "      <td>6.00</td>\n",
       "      <td>4.00</td>\n",
       "      <td>10.00</td>\n",
       "      <td>20.00</td>\n",
       "      <td>13.00</td>\n",
       "      <td>38.00</td>\n",
       "      <td>40.00</td>\n",
       "      <td>28.00</td>\n",
       "      <td>35.00</td>\n",
       "      <td>35.00</td>\n",
       "      <td>36.00</td>\n",
       "      <td>36.00</td>\n",
       "      <td>28.00</td>\n",
       "      <td>21.00</td>\n",
       "      <td>21.00</td>\n",
       "      <td>21.00</td>\n",
       "      <td>21.00</td>\n",
       "      <td>21.00</td>\n",
       "      <td>21.00</td>\n",
       "      <td>23.00</td>\n",
       "      <td>25.00</td>\n",
       "      <td>25.00</td>\n",
       "      <td>30.00</td>\n",
       "      <td>31.00</td>\n",
       "      <td>Republic of Zimbabwe</td>\n",
       "      <td>1,022.00</td>\n",
       "      <td>Africa</td>\n",
       "    </tr>\n",
       "    <tr>\n",
       "      <th>21472</th>\n",
       "      <td>ZWE</td>\n",
       "      <td>Milk - Excluding Butter</td>\n",
       "      <td>Food</td>\n",
       "      <td>-19.02</td>\n",
       "      <td>29.15</td>\n",
       "      <td>230.00</td>\n",
       "      <td>232.00</td>\n",
       "      <td>234.00</td>\n",
       "      <td>238.00</td>\n",
       "      <td>234.00</td>\n",
       "      <td>231.00</td>\n",
       "      <td>231.00</td>\n",
       "      <td>248.00</td>\n",
       "      <td>264.00</td>\n",
       "      <td>255.00</td>\n",
       "      <td>306.00</td>\n",
       "      <td>322.00</td>\n",
       "      <td>343.00</td>\n",
       "      <td>337.00</td>\n",
       "      <td>358.00</td>\n",
       "      <td>379.00</td>\n",
       "      <td>397.00</td>\n",
       "      <td>380.00</td>\n",
       "      <td>390.00</td>\n",
       "      <td>393.00</td>\n",
       "      <td>391.00</td>\n",
       "      <td>399.00</td>\n",
       "      <td>396.00</td>\n",
       "      <td>385.00</td>\n",
       "      <td>381.00</td>\n",
       "      <td>372.00</td>\n",
       "      <td>384.00</td>\n",
       "      <td>366.00</td>\n",
       "      <td>381.00</td>\n",
       "      <td>374.00</td>\n",
       "      <td>313.00</td>\n",
       "      <td>368.00</td>\n",
       "      <td>297.00</td>\n",
       "      <td>265.00</td>\n",
       "      <td>222.00</td>\n",
       "      <td>290.00</td>\n",
       "      <td>339.00</td>\n",
       "      <td>460.00</td>\n",
       "      <td>364.00</td>\n",
       "      <td>380.00</td>\n",
       "      <td>439.00</td>\n",
       "      <td>360.00</td>\n",
       "      <td>386.00</td>\n",
       "      <td>373.00</td>\n",
       "      <td>357.00</td>\n",
       "      <td>359.00</td>\n",
       "      <td>356.00</td>\n",
       "      <td>341.00</td>\n",
       "      <td>385.00</td>\n",
       "      <td>418.00</td>\n",
       "      <td>457.00</td>\n",
       "      <td>426.00</td>\n",
       "      <td>451.00</td>\n",
       "      <td>Republic of Zimbabwe</td>\n",
       "      <td>18,237.00</td>\n",
       "      <td>Africa</td>\n",
       "    </tr>\n",
       "    <tr>\n",
       "      <th>21473</th>\n",
       "      <td>ZWE</td>\n",
       "      <td>Fish, Seafood</td>\n",
       "      <td>Feed</td>\n",
       "      <td>-19.02</td>\n",
       "      <td>29.15</td>\n",
       "      <td>27.00</td>\n",
       "      <td>25.00</td>\n",
       "      <td>27.00</td>\n",
       "      <td>23.00</td>\n",
       "      <td>27.00</td>\n",
       "      <td>29.00</td>\n",
       "      <td>28.00</td>\n",
       "      <td>28.00</td>\n",
       "      <td>25.00</td>\n",
       "      <td>25.00</td>\n",
       "      <td>25.00</td>\n",
       "      <td>23.00</td>\n",
       "      <td>23.00</td>\n",
       "      <td>20.00</td>\n",
       "      <td>19.00</td>\n",
       "      <td>11.00</td>\n",
       "      <td>8.00</td>\n",
       "      <td>7.00</td>\n",
       "      <td>5.00</td>\n",
       "      <td>6.00</td>\n",
       "      <td>7.00</td>\n",
       "      <td>6.00</td>\n",
       "      <td>6.00</td>\n",
       "      <td>12.00</td>\n",
       "      <td>0.00</td>\n",
       "      <td>6.00</td>\n",
       "      <td>3.00</td>\n",
       "      <td>4.00</td>\n",
       "      <td>3.00</td>\n",
       "      <td>0.00</td>\n",
       "      <td>1.00</td>\n",
       "      <td>1.00</td>\n",
       "      <td>0.00</td>\n",
       "      <td>2.00</td>\n",
       "      <td>9.00</td>\n",
       "      <td>7.00</td>\n",
       "      <td>7.00</td>\n",
       "      <td>4.00</td>\n",
       "      <td>7.00</td>\n",
       "      <td>7.00</td>\n",
       "      <td>5.00</td>\n",
       "      <td>1.00</td>\n",
       "      <td>0.00</td>\n",
       "      <td>5.00</td>\n",
       "      <td>4.00</td>\n",
       "      <td>9.00</td>\n",
       "      <td>6.00</td>\n",
       "      <td>9.00</td>\n",
       "      <td>5.00</td>\n",
       "      <td>15.00</td>\n",
       "      <td>15.00</td>\n",
       "      <td>15.00</td>\n",
       "      <td>15.00</td>\n",
       "      <td>Republic of Zimbabwe</td>\n",
       "      <td>607.00</td>\n",
       "      <td>Africa</td>\n",
       "    </tr>\n",
       "    <tr>\n",
       "      <th>21474</th>\n",
       "      <td>ZWE</td>\n",
       "      <td>Fish, Seafood</td>\n",
       "      <td>Food</td>\n",
       "      <td>-19.02</td>\n",
       "      <td>29.15</td>\n",
       "      <td>6.00</td>\n",
       "      <td>6.00</td>\n",
       "      <td>6.00</td>\n",
       "      <td>8.00</td>\n",
       "      <td>9.00</td>\n",
       "      <td>10.00</td>\n",
       "      <td>10.00</td>\n",
       "      <td>10.00</td>\n",
       "      <td>10.00</td>\n",
       "      <td>9.00</td>\n",
       "      <td>9.00</td>\n",
       "      <td>10.00</td>\n",
       "      <td>10.00</td>\n",
       "      <td>9.00</td>\n",
       "      <td>8.00</td>\n",
       "      <td>8.00</td>\n",
       "      <td>9.00</td>\n",
       "      <td>10.00</td>\n",
       "      <td>12.00</td>\n",
       "      <td>20.00</td>\n",
       "      <td>20.00</td>\n",
       "      <td>20.00</td>\n",
       "      <td>15.00</td>\n",
       "      <td>17.00</td>\n",
       "      <td>18.00</td>\n",
       "      <td>20.00</td>\n",
       "      <td>20.00</td>\n",
       "      <td>23.00</td>\n",
       "      <td>24.00</td>\n",
       "      <td>26.00</td>\n",
       "      <td>22.00</td>\n",
       "      <td>24.00</td>\n",
       "      <td>33.00</td>\n",
       "      <td>38.00</td>\n",
       "      <td>39.00</td>\n",
       "      <td>39.00</td>\n",
       "      <td>37.00</td>\n",
       "      <td>29.00</td>\n",
       "      <td>25.00</td>\n",
       "      <td>26.00</td>\n",
       "      <td>18.00</td>\n",
       "      <td>16.00</td>\n",
       "      <td>14.00</td>\n",
       "      <td>18.00</td>\n",
       "      <td>14.00</td>\n",
       "      <td>17.00</td>\n",
       "      <td>14.00</td>\n",
       "      <td>15.00</td>\n",
       "      <td>18.00</td>\n",
       "      <td>29.00</td>\n",
       "      <td>40.00</td>\n",
       "      <td>40.00</td>\n",
       "      <td>40.00</td>\n",
       "      <td>Republic of Zimbabwe</td>\n",
       "      <td>997.00</td>\n",
       "      <td>Africa</td>\n",
       "    </tr>\n",
       "  </tbody>\n",
       "</table>\n",
       "<p>18509 rows × 61 columns</p>\n",
       "</div>"
      ],
      "text/plain": [
       "      Area Abbreviation                      Item Element  \\\n",
       "0                   AFG        Wheat and products    Food   \n",
       "1                   AFG  Rice (Milled Equivalent)    Food   \n",
       "2                   AFG       Barley and products    Feed   \n",
       "3                   AFG       Barley and products    Food   \n",
       "4                   AFG        Maize and products    Feed   \n",
       "...                 ...                       ...     ...   \n",
       "21470               ZWE                      Eggs    Food   \n",
       "21471               ZWE   Milk - Excluding Butter    Feed   \n",
       "21472               ZWE   Milk - Excluding Butter    Food   \n",
       "21473               ZWE             Fish, Seafood    Feed   \n",
       "21474               ZWE             Fish, Seafood    Food   \n",
       "\n",
       "                  latitude            longitude                 1961  \\\n",
       "0                    33.94                67.71             1,928.00   \n",
       "1                    33.94                67.71               183.00   \n",
       "2                    33.94                67.71                76.00   \n",
       "3                    33.94                67.71               237.00   \n",
       "4                    33.94                67.71               210.00   \n",
       "...                    ...                  ...                  ...   \n",
       "21470               -19.02                29.15                 6.00   \n",
       "21471               -19.02                29.15                12.00   \n",
       "21472               -19.02                29.15               230.00   \n",
       "21473               -19.02                29.15                27.00   \n",
       "21474               -19.02                29.15                 6.00   \n",
       "\n",
       "                      1962                 1963                 1964  \\\n",
       "0                 1,904.00             1,666.00             1,950.00   \n",
       "1                   183.00               182.00               220.00   \n",
       "2                    76.00                76.00                76.00   \n",
       "3                   237.00               237.00               238.00   \n",
       "4                   210.00               214.00               216.00   \n",
       "...                    ...                  ...                  ...   \n",
       "21470                 6.00                 6.00                 6.00   \n",
       "21471                12.00                12.00                11.00   \n",
       "21472               232.00               234.00               238.00   \n",
       "21473                25.00                27.00                23.00   \n",
       "21474                 6.00                 6.00                 8.00   \n",
       "\n",
       "                      1965                 1966                 1967  \\\n",
       "0                 2,001.00             1,808.00             2,053.00   \n",
       "1                   220.00               195.00               231.00   \n",
       "2                    76.00                75.00                71.00   \n",
       "3                   238.00               237.00               225.00   \n",
       "4                   216.00               216.00               235.00   \n",
       "...                    ...                  ...                  ...   \n",
       "21470                 6.00                 6.00                 6.00   \n",
       "21471                11.00                11.00                11.00   \n",
       "21472               234.00               231.00               231.00   \n",
       "21473                27.00                29.00                28.00   \n",
       "21474                 9.00                10.00                10.00   \n",
       "\n",
       "                      1968                 1969                 1970  \\\n",
       "0                 2,045.00             2,154.00             1,819.00   \n",
       "1                   235.00               238.00               213.00   \n",
       "2                    72.00                73.00                74.00   \n",
       "3                   227.00               230.00               234.00   \n",
       "4                   232.00               236.00               200.00   \n",
       "...                    ...                  ...                  ...   \n",
       "21470                 6.00                 6.00                 7.00   \n",
       "21471                12.00                14.00                13.00   \n",
       "21472               248.00               264.00               255.00   \n",
       "21473                28.00                25.00                25.00   \n",
       "21474                10.00                10.00                 9.00   \n",
       "\n",
       "                      1971                 1972                 1973  \\\n",
       "0                 1,963.00             2,215.00             2,310.00   \n",
       "1                   205.00               233.00               246.00   \n",
       "2                    71.00                70.00                72.00   \n",
       "3                   223.00               219.00               225.00   \n",
       "4                   201.00               216.00               228.00   \n",
       "...                    ...                  ...                  ...   \n",
       "21470                 7.00                 7.00                 7.00   \n",
       "21471                17.00                19.00                21.00   \n",
       "21472               306.00               322.00               343.00   \n",
       "21473                25.00                23.00                23.00   \n",
       "21474                 9.00                10.00                10.00   \n",
       "\n",
       "                      1974                 1975                 1976  \\\n",
       "0                 2,335.00             2,434.00             2,512.00   \n",
       "1                   246.00               255.00               263.00   \n",
       "2                    76.00                77.00                80.00   \n",
       "3                   240.00               244.00               255.00   \n",
       "4                   231.00               234.00               240.00   \n",
       "...                    ...                  ...                  ...   \n",
       "21470                 8.00                 8.00                 8.00   \n",
       "21471                21.00                20.00                23.00   \n",
       "21472               337.00               358.00               379.00   \n",
       "21473                20.00                19.00                11.00   \n",
       "21474                 9.00                 8.00                 8.00   \n",
       "\n",
       "                      1977                 1978                 1979  \\\n",
       "0                 2,282.00             2,454.00             2,443.00   \n",
       "1                   235.00               254.00               270.00   \n",
       "2                    60.00                65.00                64.00   \n",
       "3                   185.00               203.00               198.00   \n",
       "4                   228.00               234.00               228.00   \n",
       "...                    ...                  ...                  ...   \n",
       "21470                 9.00                 9.00                 9.00   \n",
       "21471                22.00                17.00                20.00   \n",
       "21472               397.00               380.00               390.00   \n",
       "21473                 8.00                 7.00                 5.00   \n",
       "21474                 9.00                10.00                12.00   \n",
       "\n",
       "                      1980                 1981                 1982  \\\n",
       "0                 2,129.00             2,133.00             2,068.00   \n",
       "1                   259.00               248.00               217.00   \n",
       "2                    64.00                60.00                55.00   \n",
       "3                   202.00               189.00               174.00   \n",
       "4                   226.00               210.00               199.00   \n",
       "...                    ...                  ...                  ...   \n",
       "21470                 9.00                 9.00                 9.00   \n",
       "21471                18.00                21.00                17.00   \n",
       "21472               393.00               391.00               399.00   \n",
       "21473                 6.00                 7.00                 6.00   \n",
       "21474                20.00                20.00                20.00   \n",
       "\n",
       "                      1983                 1984                 1985  \\\n",
       "0                 1,994.00             1,851.00             1,791.00   \n",
       "1                   217.00               197.00               186.00   \n",
       "2                    53.00                51.00                48.00   \n",
       "3                   167.00               160.00               151.00   \n",
       "4                   192.00               182.00               173.00   \n",
       "...                    ...                  ...                  ...   \n",
       "21470                10.00                 9.00                 8.00   \n",
       "21471                14.00                14.00                13.00   \n",
       "21472               396.00               385.00               381.00   \n",
       "21473                 6.00                12.00                 0.00   \n",
       "21474                15.00                17.00                18.00   \n",
       "\n",
       "                      1986                 1987                 1988  \\\n",
       "0                 1,683.00             2,194.00             1,801.00   \n",
       "1                   200.00               193.00               202.00   \n",
       "2                    46.00                46.00                47.00   \n",
       "3                   145.00               145.00               148.00   \n",
       "4                   170.00               154.00               148.00   \n",
       "...                    ...                  ...                  ...   \n",
       "21470                 8.00                 9.00                11.00   \n",
       "21471                12.00                10.00                 9.00   \n",
       "21472               372.00               384.00               366.00   \n",
       "21473                 6.00                 3.00                 4.00   \n",
       "21474                20.00                20.00                23.00   \n",
       "\n",
       "                      1989                 1990                 1991  \\\n",
       "0                 1,754.00             1,640.00             1,539.00   \n",
       "1                   191.00               199.00               197.00   \n",
       "2                    46.00                43.00                43.00   \n",
       "3                   145.00               135.00               132.00   \n",
       "4                   137.00               144.00               126.00   \n",
       "...                    ...                  ...                  ...   \n",
       "21470                12.00                14.00                14.00   \n",
       "21471                 6.00                 6.00                 4.00   \n",
       "21472               381.00               374.00               313.00   \n",
       "21473                 3.00                 0.00                 1.00   \n",
       "21474                24.00                26.00                22.00   \n",
       "\n",
       "                      1992                 1993                 1994  \\\n",
       "0                 1,582.00             1,840.00             1,855.00   \n",
       "1                   249.00               218.00               260.00   \n",
       "2                    40.00                50.00                46.00   \n",
       "3                   120.00               155.00               143.00   \n",
       "4                    90.00               141.00               150.00   \n",
       "...                    ...                  ...                  ...   \n",
       "21470                14.00                14.00                13.00   \n",
       "21471                10.00                20.00                13.00   \n",
       "21472               368.00               297.00               265.00   \n",
       "21473                 1.00                 0.00                 2.00   \n",
       "21474                24.00                33.00                38.00   \n",
       "\n",
       "                      1995                 1996                 1997  \\\n",
       "0                 1,853.00             2,177.00             2,343.00   \n",
       "1                   319.00               254.00               326.00   \n",
       "2                    41.00                44.00                50.00   \n",
       "3                   125.00               138.00               159.00   \n",
       "4                   159.00               108.00                90.00   \n",
       "...                    ...                  ...                  ...   \n",
       "21470                15.00                15.00                13.00   \n",
       "21471                38.00                40.00                28.00   \n",
       "21472               222.00               290.00               339.00   \n",
       "21473                 9.00                 7.00                 7.00   \n",
       "21474                39.00                39.00                37.00   \n",
       "\n",
       "                      1998                 1999                 2000  \\\n",
       "0                 2,407.00             2,463.00             2,600.00   \n",
       "1                   347.00               270.00               372.00   \n",
       "2                    48.00                43.00                26.00   \n",
       "3                   154.00               141.00                84.00   \n",
       "4                    99.00                72.00                35.00   \n",
       "...                    ...                  ...                  ...   \n",
       "21470                14.00                14.00                16.00   \n",
       "21471                35.00                35.00                36.00   \n",
       "21472               460.00               364.00               380.00   \n",
       "21473                 4.00                 7.00                 7.00   \n",
       "21474                29.00                25.00                26.00   \n",
       "\n",
       "                      2001                 2002                 2003  \\\n",
       "0                 2,668.00             2,776.00             3,095.00   \n",
       "1                   411.00               448.00               460.00   \n",
       "2                    29.00                70.00                48.00   \n",
       "3                    83.00               122.00               144.00   \n",
       "4                    48.00                89.00                63.00   \n",
       "...                    ...                  ...                  ...   \n",
       "21470                18.00                11.00                19.00   \n",
       "21471                36.00                28.00                21.00   \n",
       "21472               439.00               360.00               386.00   \n",
       "21473                 5.00                 1.00                 0.00   \n",
       "21474                18.00                16.00                14.00   \n",
       "\n",
       "                      2004                 2005                 2006  \\\n",
       "0                 3,249.00             3,486.00             3,704.00   \n",
       "1                   419.00               445.00               546.00   \n",
       "2                    58.00               236.00               262.00   \n",
       "3                   185.00                43.00                44.00   \n",
       "4                   120.00               208.00               233.00   \n",
       "...                    ...                  ...                  ...   \n",
       "21470                15.00                18.00                18.00   \n",
       "21471                21.00                21.00                21.00   \n",
       "21472               373.00               357.00               359.00   \n",
       "21473                 5.00                 4.00                 9.00   \n",
       "21474                18.00                14.00                17.00   \n",
       "\n",
       "                      2007                 2008                 2009  \\\n",
       "0                 4,164.00             4,252.00             4,538.00   \n",
       "1                   455.00               490.00               415.00   \n",
       "2                   263.00               230.00               379.00   \n",
       "3                    48.00                62.00                55.00   \n",
       "4                   249.00               247.00               195.00   \n",
       "...                    ...                  ...                  ...   \n",
       "21470                21.00                22.00                27.00   \n",
       "21471                21.00                21.00                23.00   \n",
       "21472               356.00               341.00               385.00   \n",
       "21473                 6.00                 9.00                 5.00   \n",
       "21474                14.00                15.00                18.00   \n",
       "\n",
       "                      2010                 2011                 2012  \\\n",
       "0                 4,605.00             4,711.00             4,810.00   \n",
       "1                   442.00               476.00               425.00   \n",
       "2                   315.00               203.00               367.00   \n",
       "3                    60.00                72.00                78.00   \n",
       "4                   178.00               191.00               200.00   \n",
       "...                    ...                  ...                  ...   \n",
       "21470                27.00                24.00                24.00   \n",
       "21471                25.00                25.00                30.00   \n",
       "21472               418.00               457.00               426.00   \n",
       "21473                15.00                15.00                15.00   \n",
       "21474                29.00                40.00                40.00   \n",
       "\n",
       "                      2013                       Area_clean  \\\n",
       "0                 4,895.00  Islamic Republic of Afghanistan   \n",
       "1                   422.00  Islamic Republic of Afghanistan   \n",
       "2                   360.00  Islamic Republic of Afghanistan   \n",
       "3                    89.00  Islamic Republic of Afghanistan   \n",
       "4                   200.00  Islamic Republic of Afghanistan   \n",
       "...                    ...                              ...   \n",
       "21470                25.00             Republic of Zimbabwe   \n",
       "21471                31.00             Republic of Zimbabwe   \n",
       "21472               451.00             Republic of Zimbabwe   \n",
       "21473                15.00             Republic of Zimbabwe   \n",
       "21474                40.00             Republic of Zimbabwe   \n",
       "\n",
       "          Total Production continent  \n",
       "0               132,926.00      Asia  \n",
       "1                15,282.00      Asia  \n",
       "2                 5,190.00      Asia  \n",
       "3                 8,529.00      Asia  \n",
       "4                 9,451.00      Asia  \n",
       "...                    ...       ...  \n",
       "21470               652.00    Africa  \n",
       "21471             1,022.00    Africa  \n",
       "21472            18,237.00    Africa  \n",
       "21473               607.00    Africa  \n",
       "21474               997.00    Africa  \n",
       "\n",
       "[18509 rows x 61 columns]"
      ]
     },
     "execution_count": 69,
     "metadata": {},
     "output_type": "execute_result"
    }
   ],
   "source": [
    "converter = coco.CountryConverter()\n",
    "def func(row):\n",
    "    continent = converter.convert(names = row['Area Abbreviation'], src = 'ISO3', to = 'continent')\n",
    "    return continent\n",
    "\n",
    "clean_fao['continent'] = clean_fao.apply(func, axis=1)"
   ]
  },
  {
   "cell_type": "markdown",
   "id": "e0d0501d-6041-4d54-b65a-db0f89db5fe8",
   "metadata": {},
   "source": [
    "# Data Visualization"
   ]
  },
  {
   "cell_type": "code",
   "execution_count": null,
   "id": "51d5145a-c3ae-4bac-879b-b97988445818",
   "metadata": {},
   "outputs": [],
   "source": [
    "# dataset popolazione, dataset km2 di terra\n",
    "# normalizzare produzione con popolazione\n",
    "# normalizzare uso terra con km2\n",
    "# trovare i top 10 prodotti che consumano piu risorse\n",
    "# trovare i top 10 stati che producono quei prodotti"
   ]
  },
  {
   "cell_type": "code",
   "execution_count": null,
   "id": "573f5b66-36c6-49ba-b49f-b7cb2b155288",
   "metadata": {},
   "outputs": [],
   "source": []
  },
  {
   "cell_type": "code",
   "execution_count": null,
   "id": "aba8d932",
   "metadata": {},
   "outputs": [],
   "source": []
  }
 ],
 "metadata": {
  "kernelspec": {
   "display_name": "Python 3.9.7 ('base')",
   "language": "python",
   "name": "python3"
  },
  "language_info": {
   "codemirror_mode": {
    "name": "ipython",
    "version": 3
   },
   "file_extension": ".py",
   "mimetype": "text/x-python",
   "name": "python",
   "nbconvert_exporter": "python",
   "pygments_lexer": "ipython3",
   "version": "3.9.7"
  },
  "vscode": {
   "interpreter": {
    "hash": "439271dc3f168a0ce2055a4353efd4df0f31329f275977c8192fe016291bd4f5"
   }
  }
 },
 "nbformat": 4,
 "nbformat_minor": 5
}
